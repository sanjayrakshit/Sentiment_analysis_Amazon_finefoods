{
 "cells": [
  {
   "cell_type": "code",
   "execution_count": 3,
   "metadata": {
    "_uuid": "5ce8cc94e242a959f76c03e03d0e44d613cca52d"
   },
   "outputs": [],
   "source": [
    "import pandas as pd \n",
    "from collections import Counter\n",
    "import string\n",
    "import scipy as np\n",
    "from tqdm import tqdm\n",
    "from keras.preprocessing import sequence\n",
    "from sklearn.model_selection import train_test_split\n",
    "from bs4 import BeautifulSoup\n",
    "from random import randint\n",
    "import time\n",
    "import re\n",
    "import time\n",
    "import warnings \n",
    "import pickle\n",
    "warnings.filterwarnings('ignore')\n",
    "\n",
    "import tensorflow as tf"
   ]
  },
  {
   "cell_type": "code",
   "execution_count": 4,
   "metadata": {
    "_uuid": "47023c2baf572dcdcc4c95e5e3283428533e6cc2"
   },
   "outputs": [],
   "source": [
    "%matplotlib notebook\n",
    "import matplotlib.pyplot as plt\n",
    "\n",
    "def plt_dynamic(x, vy, ty, ax, colors=['b'], save=False):\n",
    "    ax.clear()\n",
    "    ax.plot(x, vy, 'b', label=\"Validation Loss\")\n",
    "    ax.plot(x, ty, 'r', label=\"Train Loss\")\n",
    "    plt.legend()\n",
    "    plt.grid()\n",
    "    plt.pause(1)\n",
    "    fig.canvas.draw()\n",
    "    if save:\n",
    "        plt.save('plot.png')"
   ]
  },
  {
   "cell_type": "code",
   "execution_count": 5,
   "metadata": {
    "_uuid": "cacd7dbb37cf9172eb7630c02edc5aa82dcd9226"
   },
   "outputs": [
    {
     "name": "stdout",
     "output_type": "stream",
     "text": [
      "Index(['Id', 'ProductId', 'UserId', 'ProfileName', 'HelpfulnessNumerator',\n",
      "       'HelpfulnessDenominator', 'Score', 'Time', 'Summary', 'Text'],\n",
      "      dtype='object')\n"
     ]
    }
   ],
   "source": [
    "data = pd.read_csv('Reviews.csv').dropna()\n",
    "print(data.columns)"
   ]
  },
  {
   "cell_type": "code",
   "execution_count": 6,
   "metadata": {
    "_uuid": "fcc5d8eed1bf0672ac84bb2b43ba3b93ab1d2ccd"
   },
   "outputs": [],
   "source": [
    "data = data[['Text', 'Summary', 'Score']]\n",
    "data.drop_duplicates(inplace=True)\n",
    "data.fillna('', inplace=True)\n",
    "data = data[data['Score'] != 3] \n",
    "data['Score'] = [1 if item>3 else 0 for item in data['Score'].values]"
   ]
  },
  {
   "cell_type": "code",
   "execution_count": 7,
   "metadata": {
    "_uuid": "3e1eb528910c1505f17c4c046e32f618a5f1ff3e"
   },
   "outputs": [
    {
     "data": {
      "text/plain": [
       "array([1, 0])"
      ]
     },
     "execution_count": 7,
     "metadata": {},
     "output_type": "execute_result"
    }
   ],
   "source": [
    "data['Score'].unique()"
   ]
  },
  {
   "cell_type": "code",
   "execution_count": 8,
   "metadata": {
    "_uuid": "164b91f9acbf30eaab5422793124574ed86a0cc3"
   },
   "outputs": [
    {
     "name": "stderr",
     "output_type": "stream",
     "text": [
      "100%|██████████| 365150/365150 [00:10<00:00, 33960.04it/s]\n",
      "100%|██████████| 365150/365150 [00:04<00:00, 76682.93it/s]\n"
     ]
    }
   ],
   "source": [
    "def preprocess(x):\n",
    "    # x = BeautifulSoup(x, 'lxml').get_text()\n",
    "    x = re.sub('<[^>]*>', '', x)\n",
    "    for punc in string.punctuation:\n",
    "        if punc != \"\\'\":\n",
    "            x = x.replace(punc, f' {punc} ')\n",
    "    return ' '.join(x.split()).lower()\n",
    "\n",
    "data['Text'] = [preprocess(item) for item in tqdm(data['Text'].values, total=len(data['Text']))]\n",
    "data['Summary'] = [preprocess(item) for item in tqdm(data['Summary'].values, total=len(data['Summary']))]"
   ]
  },
  {
   "cell_type": "code",
   "execution_count": 9,
   "metadata": {
    "_uuid": "2ff6c70163b0912cdfac95895db9cba3f049f956"
   },
   "outputs": [],
   "source": [
    "X_data = [i+' '+j for i,j in zip(list(data['Summary'].values), list(data['Text'].values))]\n",
    "Y_data = list(data['Score'].values)"
   ]
  },
  {
   "cell_type": "code",
   "execution_count": 10,
   "metadata": {
    "_uuid": "2c85a3cecb9d8d021bcf9a5be1a7f0ffbbdb2b16"
   },
   "outputs": [
    {
     "name": "stdout",
     "output_type": "stream",
     "text": [
      "Number of unique tokens: 146896\n"
     ]
    }
   ],
   "source": [
    "corpus = dict(Counter(' '.join(X_data).split()))\n",
    "print('Number of unique tokens:', len(corpus))"
   ]
  },
  {
   "cell_type": "code",
   "execution_count": 11,
   "metadata": {
    "_uuid": "67aa485d2d4c2194ed977ad70955bb9e4a8363c0"
   },
   "outputs": [
    {
     "name": "stdout",
     "output_type": "stream",
     "text": [
      "Minimum frequency of words: 34.0\n"
     ]
    }
   ],
   "source": [
    "min_word_count = np.percentile(list(corpus.values()), 90)\n",
    "print('Minimum frequency of words:', min_word_count)"
   ]
  },
  {
   "cell_type": "code",
   "execution_count": 12,
   "metadata": {
    "_uuid": "89e7cb4fcaf8821db9252620f35264fc865cbf5c"
   },
   "outputs": [
    {
     "name": "stdout",
     "output_type": "stream",
     "text": [
      "Number of unique tokens after deleting less frequent tokens: 14702\n"
     ]
    }
   ],
   "source": [
    "words = list(corpus.keys())\n",
    "for w in words:\n",
    "    if corpus[w] < min_word_count:\n",
    "        del corpus[w]\n",
    "\n",
    "print('Number of unique tokens after deleting less frequent tokens:', len(corpus))"
   ]
  },
  {
   "cell_type": "code",
   "execution_count": 13,
   "metadata": {
    "_uuid": "cb6fd23a96c5a0abb7b947d59713481f1bcb4acf"
   },
   "outputs": [
    {
     "name": "stdout",
     "output_type": "stream",
     "text": [
      "Suitable sequence length: 186\n"
     ]
    }
   ],
   "source": [
    "seq_len = [len(item.split()) for item in X_data]\n",
    "\n",
    "suitable_seq_len = int(np.percentile(seq_len, 90))\n",
    "print('Suitable sequence length:', suitable_seq_len)"
   ]
  },
  {
   "cell_type": "code",
   "execution_count": 14,
   "metadata": {
    "_uuid": "6ae96ba4a7e71b02c0f1f1c626877055b95f7d9a"
   },
   "outputs": [],
   "source": [
    "# Creating the word ids\n",
    "word_ids = {\n",
    "    item: index+2 for index, item in enumerate(corpus.keys())\n",
    "}"
   ]
  },
  {
   "cell_type": "code",
   "execution_count": 15,
   "metadata": {
    "_uuid": "b8ac0d22da68354733ac478eb85af065e345d684"
   },
   "outputs": [],
   "source": [
    "X_data_int = []; Y_data_new = []\n",
    "for item, y in zip(X_data, Y_data):\n",
    "    temp = [word_ids.get(word, 1) for word in item.split()]\n",
    "    if temp:\n",
    "        X_data_int.append(temp)\n",
    "        Y_data_new.append(y)"
   ]
  },
  {
   "cell_type": "code",
   "execution_count": 16,
   "metadata": {
    "_uuid": "61c7fedfbf41bb8d7c75f246d3a30843bdb84438"
   },
   "outputs": [
    {
     "name": "stdout",
     "output_type": "stream",
     "text": [
      "Sample X_data with word ids: [ 0  0  0  0  0  0  0  0  0  0  0  0  0  0  0  0  0  0  0  0  0  0  0  0\n",
      "  0  0  0  0  0  0  0  0  0  0  0  0  0  0  0  0  0  0  0  0  0  0  0  0\n",
      "  0  0  0  0  0  0  0  0  0  0  0  0  0  0  0  0  0  0  0  0  0  0  0  0\n",
      "  0  0  0  0  0  0  0  0  0  0  0  0  0  0  0  0  0  0  0  0  0  0  0  0\n",
      "  0  0  0  0  0  0  0  0  0  0  0  0  0  0  0  0  0  0  0  0  0  0  0  0\n",
      "  0  0  0  0  0  0  0  0  0  0  0  2  3  4  5  6  7  8  9 10 11 12 13  4\n",
      "  5 14 15  7 16 17 18 19 20 10  2  3 21 11 22 23 24 25 26 27 28 26 29 30\n",
      " 15 31 32 33 21 34 35 36 37 15 38 39 40 22 33 28 41 21]\n",
      "Sample X_data with proper words: good quality dog food i have bought several of the vitality canned dog food products and have found them all to be of good quality . the product looks more like a stew than a processed meat and it smells better . my labrador is finicky and she appreciates this product better than most .\n"
     ]
    }
   ],
   "source": [
    "X_data_int = sequence.pad_sequences(X_data_int, maxlen=suitable_seq_len)\n",
    "print('Sample X_data with word ids:', X_data_int[0])\n",
    "print('Sample X_data with proper words:', X_data[0])"
   ]
  },
  {
   "cell_type": "code",
   "execution_count": 17,
   "metadata": {
    "_uuid": "f3f3195ac0738a295f94f7834ecdcb384a12b13e"
   },
   "outputs": [],
   "source": [
    "def one_hot_maker(x):\n",
    "    with tf.Session() as sess:\n",
    "         return sess.run(tf.one_hot(x, depth=len(np.unique(x))))\n",
    "    \n",
    "Y_data_new = one_hot_maker(Y_data_new)"
   ]
  },
  {
   "cell_type": "code",
   "execution_count": 18,
   "metadata": {
    "_uuid": "cadf2245ed3beb221c2da6aa9baa345a72e8578b"
   },
   "outputs": [],
   "source": [
    "with open('data_preprocessed.pkl', 'wb') as f:\n",
    "    pickle.dump(train_test_split(X_data_int, Y_data_new, test_size=0.027, random_state=101), f)"
   ]
  },
  {
   "cell_type": "code",
   "execution_count": 19,
   "metadata": {},
   "outputs": [
    {
     "name": "stdout",
     "output_type": "stream",
     "text": [
      "355290 9860\n"
     ]
    }
   ],
   "source": [
    "with open('data_preprocessed.pkl', 'rb') as f:\n",
    "    X_train, X_test, y_train, y_test = pickle.load(f)\n",
    "print(len(X_train), len(X_test))"
   ]
  },
  {
   "cell_type": "markdown",
   "metadata": {
    "_uuid": "118bd7a4642dec8692d16720097f36376a856c98"
   },
   "source": [
    "## CONSTRUCTION AND TRAINING"
   ]
  },
  {
   "cell_type": "code",
   "execution_count": 30,
   "metadata": {
    "_uuid": "c5d373cee350f40d01616307ad0104e136aa5651"
   },
   "outputs": [],
   "source": [
    "tf.reset_default_graph()\n",
    "\n",
    "# defining the configuration\n",
    "# change the config parameters as per your wish\n",
    "config = {\n",
    "    'rnn_size': 5,\n",
    "    'rnn_layer': 2,\n",
    "    'sequence_length': suitable_seq_len, # dont change\n",
    "    'word_embedding_size': 300,\n",
    "    'vocab_size': len(corpus)+2, # dont change\n",
    "    'learning_rate': 3e-4,\n",
    "    'batch_size': 128,\n",
    "    'epoch': 5,\n",
    "    'num_classes': len(y_train[0]), # dont change\n",
    "    'dropout_lstm': .5,\n",
    "    'dropout_dense': .5,\n",
    "    'dense_unit_size': 100,\n",
    "    'l2_reg_param': .01\n",
    "}\n",
    "\n",
    "data_x = tf.placeholder(name='data_x', dtype=tf.int64, shape=[None, config['sequence_length']])\n",
    "target = tf.placeholder(name='target', dtype=tf.float32, shape=[None, config['num_classes']])"
   ]
  },
  {
   "cell_type": "code",
   "execution_count": 31,
   "metadata": {
    "_uuid": "10fdd7e3830848ed7d01a9bd0623044b48433b3f"
   },
   "outputs": [
    {
     "data": {
      "text/plain": [
       "{'rnn_size': 1,\n",
       " 'rnn_layer': 1,\n",
       " 'sequence_length': 186,\n",
       " 'word_embedding_size': 300,\n",
       " 'vocab_size': 14704,\n",
       " 'learning_rate': 0.0003,\n",
       " 'batch_size': 128,\n",
       " 'epoch': 5,\n",
       " 'num_classes': 2,\n",
       " 'dropout_lstm': 0.5,\n",
       " 'dropout_dense': 0.5,\n",
       " 'dense_unit_size': 100,\n",
       " 'l2_reg_param': 0.01}"
      ]
     },
     "execution_count": 31,
     "metadata": {},
     "output_type": "execute_result"
    }
   ],
   "source": [
    "config"
   ]
  },
  {
   "cell_type": "code",
   "execution_count": 32,
   "metadata": {
    "_uuid": "60d46c0c917df67c7ccc3a26d0b4daefe69c92c7"
   },
   "outputs": [],
   "source": [
    "def get_embedding():\n",
    "    with tf.variable_scope('get_embedding', reuse=tf.AUTO_REUSE):\n",
    "        word_embedding = tf.get_variable('word_embedding', [config['vocab_size'], config['word_embedding_size']])\n",
    "        return word_embedding"
   ]
  },
  {
   "cell_type": "code",
   "execution_count": 33,
   "metadata": {
    "_uuid": "b146c8fb4fa849530c4b55bdbbcd146c9dca7924"
   },
   "outputs": [],
   "source": [
    "def get_lstm_cell():\n",
    "    lstm_single_layer = tf.contrib.rnn.LSTMCell(config['rnn_size'], name='LSTM_CELLS', state_is_tuple=True)\n",
    "    dropout = tf.contrib.rnn.DropoutWrapper(lstm_single_layer, output_keep_prob=config['dropout_lstm'])\n",
    "    return dropout"
   ]
  },
  {
   "cell_type": "code",
   "execution_count": 34,
   "metadata": {
    "_uuid": "57f6e44ce01ea87d6c6941706d7408d9bbf0b241"
   },
   "outputs": [],
   "source": [
    "def create_rnn():\n",
    "    cell = tf.contrib.rnn.MultiRNNCell([get_lstm_cell() for _ in range(config['rnn_layer'])], state_is_tuple=True)\n",
    "    return cell"
   ]
  },
  {
   "cell_type": "code",
   "execution_count": 35,
   "metadata": {
    "_uuid": "dcaf66fc758b6f36714e3b6862fc2678f35559fe"
   },
   "outputs": [],
   "source": [
    "def get_weights():\n",
    "    weights = tf.keras.initializers.he_normal(seed=None)\n",
    "    biases = tf.zeros_initializer()\n",
    "    return weights, biases\n",
    "\n",
    "# defining model \n",
    "\n",
    "def model():\n",
    "    # getting the embedding\n",
    "    word_embedding = get_embedding()\n",
    "    embedded_words = tf.nn.embedding_lookup(word_embedding, data_x)\n",
    "    \n",
    "    # creating the RNN layer\n",
    "    CELL = create_rnn()\n",
    "    with tf.variable_scope('model', reuse=tf.AUTO_REUSE):\n",
    "        OUTPUT, FINAL_STATE = tf.nn.dynamic_rnn(CELL, embedded_words, dtype=tf.float32)\n",
    "    OUTPUT = tf.transpose(OUTPUT, [1,0,2]) # Step 1 to get the value from last time step\n",
    "    OUTPUT = tf.gather(OUTPUT, OUTPUT.get_shape()[0]-1) # Step 2 to get the value from last time step\n",
    "    \n",
    "    # defining weight for dense layers\n",
    "    \n",
    "    # Dense layer 1\n",
    "    dense = tf.contrib.layers.fully_connected(OUTPUT, num_outputs=config['dense_unit_size'],\n",
    "                                             activation_fn=tf.nn.leaky_relu, weights_initializer=get_weights()[0], \n",
    "                                              biases_initializer=get_weights()[1])\n",
    "    dense = tf.contrib.layers.dropout(dense, keep_prob=config['dropout_dense'])\n",
    "    \n",
    "    # Dense layer 2\n",
    "    dense = tf.contrib.layers.fully_connected(dense, num_outputs=config['dense_unit_size'],\n",
    "                                             activation_fn=tf.nn.leaky_relu, weights_initializer=get_weights()[0], \n",
    "                                              biases_initializer=get_weights()[1])\n",
    "    dense = tf.contrib.layers.dropout(dense, keep_prob=config['dropout_dense'])\n",
    "    \n",
    "    # adding a batch normalization layer\n",
    "    # I know the paper claims that we should add batch normalization before activation function of the previous layer, but [https://goo.gl/7CP9hs] this link claims otherwise.\n",
    "    dense = tf.layers.batch_normalization(dense)\n",
    "    \n",
    "    # Dense layer 3\n",
    "    dense = tf.contrib.layers.fully_connected(dense, num_outputs=config['dense_unit_size'],\n",
    "                                             activation_fn=tf.nn.leaky_relu, weights_initializer=get_weights()[0], \n",
    "                                              biases_initializer=get_weights()[1])\n",
    "    dense = tf.contrib.layers.dropout(dense, keep_prob=config['dropout_dense'])\n",
    "    \n",
    "    # Last softmax layer\n",
    "    predictions = tf.contrib.layers.fully_connected(dense, num_outputs=config['num_classes'],\n",
    "                                                   activation_fn=tf.nn.softmax, \n",
    "                                                    weights_initializer=tf.truncated_normal_initializer(mean=0., stddev=.1), \n",
    "                                                  biases_initializer=get_weights()[1])\n",
    "    return predictions"
   ]
  },
  {
   "cell_type": "code",
   "execution_count": 36,
   "metadata": {
    "_uuid": "623f2566c8c672b2fbe86340327e4ce758757e1f"
   },
   "outputs": [
    {
     "name": "stdout",
     "output_type": "stream",
     "text": [
      "Tensor(\"fully_connected_3/Softmax:0\", shape=(?, 2), dtype=float32)\n",
      "(?, 2)\n"
     ]
    }
   ],
   "source": [
    "pred = model()\n",
    "print(pred)\n",
    "print(pred.get_shape())"
   ]
  },
  {
   "cell_type": "code",
   "execution_count": 37,
   "metadata": {
    "_uuid": "e552ccbd92fc28df29bc5f7edc2a503f0045e871"
   },
   "outputs": [
    {
     "data": {
      "text/plain": [
       "[<tf.Variable 'get_embedding/word_embedding:0' shape=(14704, 300) dtype=float32_ref>,\n",
       " <tf.Variable 'model/rnn/multi_rnn_cell/cell_0/LSTM_CELLS/kernel:0' shape=(301, 4) dtype=float32_ref>,\n",
       " <tf.Variable 'model/rnn/multi_rnn_cell/cell_0/LSTM_CELLS/bias:0' shape=(4,) dtype=float32_ref>,\n",
       " <tf.Variable 'fully_connected/weights:0' shape=(1, 100) dtype=float32_ref>,\n",
       " <tf.Variable 'fully_connected/biases:0' shape=(100,) dtype=float32_ref>,\n",
       " <tf.Variable 'fully_connected_1/weights:0' shape=(100, 100) dtype=float32_ref>,\n",
       " <tf.Variable 'fully_connected_1/biases:0' shape=(100,) dtype=float32_ref>,\n",
       " <tf.Variable 'batch_normalization/gamma:0' shape=(100,) dtype=float32_ref>,\n",
       " <tf.Variable 'batch_normalization/beta:0' shape=(100,) dtype=float32_ref>,\n",
       " <tf.Variable 'fully_connected_2/weights:0' shape=(100, 100) dtype=float32_ref>,\n",
       " <tf.Variable 'fully_connected_2/biases:0' shape=(100,) dtype=float32_ref>,\n",
       " <tf.Variable 'fully_connected_3/weights:0' shape=(100, 2) dtype=float32_ref>,\n",
       " <tf.Variable 'fully_connected_3/biases:0' shape=(2,) dtype=float32_ref>]"
      ]
     },
     "execution_count": 37,
     "metadata": {},
     "output_type": "execute_result"
    }
   ],
   "source": [
    "tf.trainable_variables()"
   ]
  },
  {
   "cell_type": "code",
   "execution_count": 38,
   "metadata": {
    "_uuid": "91691ea781e329f97df58ed39cf5d878e03753a2"
   },
   "outputs": [],
   "source": [
    "y_hats = model()\n",
    "\n",
    "with tf.name_scope('x_ent'):\n",
    "    cost = tf.reduce_mean(tf.nn.softmax_cross_entropy_with_logits_v2(labels=target, logits=y_hats)\\\n",
    "                         + tf.add_n([config['l2_reg_param']*tf.nn.l2_loss(V) for V in tf.trainable_variables()]))\n",
    "    tf.summary.scalar('x_ent', cost)\n",
    "\n",
    "with tf.variable_scope('train_step', reuse=tf.AUTO_REUSE):\n",
    "    train_step = tf.train.AdamOptimizer(learning_rate=config['learning_rate']).minimize(cost)\n",
    "\n",
    "with tf.name_scope('error'):\n",
    "    mistakes = tf.not_equal(tf.argmax(target, 1), tf.argmax(y_hats, 1))\n",
    "    error = tf.reduce_mean(tf.cast(mistakes, tf.float32))\n",
    "    tf.summary.scalar('error', error)"
   ]
  },
  {
   "cell_type": "code",
   "execution_count": 39,
   "metadata": {
    "_uuid": "3714475147328e653f0e4af5edb6d0d99f5e4cad"
   },
   "outputs": [],
   "source": [
    "no_of_tr_batches = int(len(X_train)/config['batch_size'])\n",
    "no_of_ts_batches = int(len(X_test)/config['batch_size'])\n",
    "train_loss = []\n",
    "test_loss = []"
   ]
  },
  {
   "cell_type": "code",
   "execution_count": null,
   "metadata": {
    "_uuid": "4756b395928537e8bcf39e6df24cf320ddd3a1dc",
    "scrolled": true
   },
   "outputs": [],
   "source": [
    "fig, ax = plt.subplots(1,1)\n",
    "plt_dynamic([1,2], [1,2], [1,3], ax)\n",
    "\n",
    "gpu_options = tf.GPUOptions(per_process_gpu_memory_fraction=0.5)\n",
    "\n",
    "sess = tf.Session(config=tf.ConfigProto(gpu_options=gpu_options))\n",
    "\n",
    "\n",
    "summ = tf.summary.merge_all()\n",
    "writer_tr = tf.summary.FileWriter('./logs/train')\n",
    "writer_ts = tf.summary.FileWriter('./logs/val')\n",
    "writer_tr.add_graph(sess.graph)\n",
    "\n",
    "sess.run(tf.global_variables_initializer())\n",
    "\n",
    "iter_train = iter_test = 0\n",
    "\n",
    "for i in range(config['epoch']):\n",
    "    print('epoch:',i+1)\n",
    "    time.sleep(1)\n",
    "    cc = 0\n",
    "    \n",
    "    # for training data\n",
    "    for j in range(no_of_tr_batches):\n",
    "        inp = X_train[j*config['batch_size']:(j+1)*config['batch_size']]\n",
    "        out = y_train[j*config['batch_size']:(j+1)*config['batch_size']]\n",
    "        _, c, s = sess.run([train, cost, summ], {data_x: inp, target: out})\n",
    "        cc += c\n",
    "        writer_tr.add_summary(s, iter_train)\n",
    "        iter_train += 1\n",
    "        print(f'{j+1} / {no_of_tr_batches}', end='\\r')\n",
    "    train_loss.append(cc/no_of_tr_batches)\n",
    "    print('')\n",
    "    \n",
    "    # for validation data\n",
    "    cc = 0\n",
    "    for j in range(no_of_ts_batches):\n",
    "        inp = X_test[j*config['batch_size']:(j+1)*config['batch_size']]\n",
    "        out = y_test[j*config['batch_size']:(j+1)*config['batch_size']]\n",
    "        c, s = sess.run([cost, summ], {data_x: inp, target: out})\n",
    "        writer_ts.add_summary(s, iter_test)\n",
    "        iter_test += 1\n",
    "        cc += c\n",
    "        print(f'{j+1} / {no_of_ts_batches}', end='\\r')\n",
    "    test_loss.append(cc/no_of_ts_batches)\n",
    "    print('')\n",
    "    \n",
    "    print('Train loss:', train_loss[-1])\n",
    "    print('Validation loss:', test_loss[-1])\n",
    "    print('Validation error:', sess.run(error, {data_x: X_test, target: y_test}))\n",
    "    print('='*40)\n",
    "    plt_dynamic(range(i+1), test_loss, train_loss, ax)"
   ]
  },
  {
   "cell_type": "code",
   "execution_count": null,
   "metadata": {
    "_uuid": "651d84b5fe20b4a467dbde55ebbdf64da83554df"
   },
   "outputs": [],
   "source": []
  }
 ],
 "metadata": {
  "kernelspec": {
   "display_name": "Python 3",
   "language": "python",
   "name": "python3"
  },
  "language_info": {
   "codemirror_mode": {
    "name": "ipython",
    "version": 3
   },
   "file_extension": ".py",
   "mimetype": "text/x-python",
   "name": "python",
   "nbconvert_exporter": "python",
   "pygments_lexer": "ipython3",
   "version": "3.6.6"
  }
 },
 "nbformat": 4,
 "nbformat_minor": 1
}
