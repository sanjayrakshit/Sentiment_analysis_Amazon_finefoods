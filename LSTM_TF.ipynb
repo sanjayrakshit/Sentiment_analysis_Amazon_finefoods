{
 "cells": [
  {
   "cell_type": "code",
   "execution_count": 28,
   "metadata": {},
   "outputs": [],
   "source": [
    "import pandas as pd \n",
    "from collections import Counter\n",
    "import string\n",
    "import scipy as np\n",
    "from tqdm import tqdm_notebook\n",
    "from keras.preprocessing import sequence\n",
    "from sklearn.model_selection import train_test_split\n",
    "from bs4 import BeautifulSoup\n",
    "from random import randint\n",
    "import warnings \n",
    "warnings.filterwarnings('ignore')\n",
    "\n",
    "import tensorflow as tf"
   ]
  },
  {
   "cell_type": "code",
   "execution_count": 2,
   "metadata": {},
   "outputs": [
    {
     "name": "stdout",
     "output_type": "stream",
     "text": [
      "Index(['Id', 'ProductId', 'UserId', 'ProfileName', 'HelpfulnessNumerator',\n",
      "       'HelpfulnessDenominator', 'Score', 'Time', 'Summary', 'Text'],\n",
      "      dtype='object')\n"
     ]
    }
   ],
   "source": [
    "data = pd.read_csv('./Reviews.csv').dropna()\n",
    "print(data.columns)"
   ]
  },
  {
   "cell_type": "code",
   "execution_count": 3,
   "metadata": {},
   "outputs": [],
   "source": [
    "data = data[['Text', 'Summary', 'Score']]\n",
    "data.drop_duplicates(inplace=True)\n",
    "data = data[data['Score'] != 3] \n",
    "data['Score'] = [1 if item>3 else 0 for item in data['Score'].values]"
   ]
  },
  {
   "cell_type": "code",
   "execution_count": 4,
   "metadata": {},
   "outputs": [
    {
     "data": {
      "text/plain": [
       "array([1, 0])"
      ]
     },
     "execution_count": 4,
     "metadata": {},
     "output_type": "execute_result"
    }
   ],
   "source": [
    "data['Score'].unique()"
   ]
  },
  {
   "cell_type": "code",
   "execution_count": 5,
   "metadata": {},
   "outputs": [
    {
     "data": {
      "application/vnd.jupyter.widget-view+json": {
       "model_id": "db07a23a19e24a498c68d22809150abd",
       "version_major": 2,
       "version_minor": 0
      },
      "text/plain": [
       "HBox(children=(IntProgress(value=0, max=365150), HTML(value='')))"
      ]
     },
     "metadata": {},
     "output_type": "display_data"
    },
    {
     "name": "stdout",
     "output_type": "stream",
     "text": [
      "\n"
     ]
    },
    {
     "data": {
      "application/vnd.jupyter.widget-view+json": {
       "model_id": "fe8b3782ac754785b557daeb75778aa4",
       "version_major": 2,
       "version_minor": 0
      },
      "text/plain": [
       "HBox(children=(IntProgress(value=0, max=365150), HTML(value='')))"
      ]
     },
     "metadata": {},
     "output_type": "display_data"
    },
    {
     "name": "stdout",
     "output_type": "stream",
     "text": [
      "\n"
     ]
    }
   ],
   "source": [
    "def preprocess(x):\n",
    "    x = BeautifulSoup(x, 'lxml').get_text()\n",
    "    for punc in string.punctuation:\n",
    "        if punc != \"\\'\":\n",
    "            x = x.replace(punc, f' {punc} ')\n",
    "    return ' '.join(x.split()).lower()\n",
    "\n",
    "data['Text'] = [preprocess(item) for item in tqdm_notebook(data['Text'].values)]\n",
    "data['Summary'] = [preprocess(item) for item in tqdm_notebook(data['Summary'].values)]"
   ]
  },
  {
   "cell_type": "code",
   "execution_count": 6,
   "metadata": {},
   "outputs": [],
   "source": [
    "X_data = [i+' '+j for i,j in zip(list(data['Summary'].values), list(data['Text'].values))]\n",
    "Y_data = list(data['Score'].values)"
   ]
  },
  {
   "cell_type": "code",
   "execution_count": 7,
   "metadata": {},
   "outputs": [
    {
     "name": "stdout",
     "output_type": "stream",
     "text": [
      "Number of unique tokens: 147006\n"
     ]
    }
   ],
   "source": [
    "corpus = dict(Counter(' '.join(X_data).split()))\n",
    "print('Number of unique tokens:', len(corpus))"
   ]
  },
  {
   "cell_type": "code",
   "execution_count": 8,
   "metadata": {},
   "outputs": [
    {
     "name": "stdout",
     "output_type": "stream",
     "text": [
      "Minimum frequency of words: 33.0\n"
     ]
    }
   ],
   "source": [
    "min_word_count = np.percentile(list(corpus.values()), 90)\n",
    "print('Minimum frequency of words:', min_word_count)"
   ]
  },
  {
   "cell_type": "code",
   "execution_count": 9,
   "metadata": {},
   "outputs": [
    {
     "name": "stdout",
     "output_type": "stream",
     "text": [
      "Number of unique tokens after deleting less frequent tokens: 14897\n"
     ]
    }
   ],
   "source": [
    "words = list(corpus.keys())\n",
    "for w in words:\n",
    "    if corpus[w] < min_word_count:\n",
    "        del corpus[w]\n",
    "\n",
    "print('Number of unique tokens after deleting less frequent tokens:', len(corpus))"
   ]
  },
  {
   "cell_type": "code",
   "execution_count": 10,
   "metadata": {},
   "outputs": [
    {
     "name": "stdout",
     "output_type": "stream",
     "text": [
      "Suitable sequence length: 186\n"
     ]
    }
   ],
   "source": [
    "seq_len = [len(item.split()) for item in X_data]\n",
    "\n",
    "suitable_seq_len = int(np.percentile(seq_len, 90))\n",
    "print('Suitable sequence length:', suitable_seq_len)"
   ]
  },
  {
   "cell_type": "code",
   "execution_count": 11,
   "metadata": {},
   "outputs": [],
   "source": [
    "# Creating the word ids\n",
    "word_ids = {\n",
    "    item: index+2 for index, item in enumerate(corpus.keys())\n",
    "}"
   ]
  },
  {
   "cell_type": "code",
   "execution_count": 12,
   "metadata": {},
   "outputs": [],
   "source": [
    "X_data_int = []; Y_data_new = []\n",
    "for item, y in zip(X_data, Y_data):\n",
    "    temp = [word_ids.get(word, 1) for word in item.split()]\n",
    "    if temp:\n",
    "        X_data_int.append(temp)\n",
    "        Y_data_new.append(y)"
   ]
  },
  {
   "cell_type": "code",
   "execution_count": 13,
   "metadata": {},
   "outputs": [
    {
     "name": "stdout",
     "output_type": "stream",
     "text": [
      "Sample X_data with word ids: [ 0  0  0  0  0  0  0  0  0  0  0  0  0  0  0  0  0  0  0  0  0  0  0  0\n",
      "  0  0  0  0  0  0  0  0  0  0  0  0  0  0  0  0  0  0  0  0  0  0  0  0\n",
      "  0  0  0  0  0  0  0  0  0  0  0  0  0  0  0  0  0  0  0  0  0  0  0  0\n",
      "  0  0  0  0  0  0  0  0  0  0  0  0  0  0  0  0  0  0  0  0  0  0  0  0\n",
      "  0  0  0  0  0  0  0  0  0  0  0  0  0  0  0  0  0  0  0  0  0  0  0  0\n",
      "  0  0  0  0  0  0  0  0  0  0  0  2  3  4  5  6  7  8  9 10 11 12 13  4\n",
      "  5 14 15  7 16 17 18 19 20 10  2  3 21 11 22 23 24 25 26 27 28 26 29 30\n",
      " 15 31 32 33 21 34 35 36 37 15 38 39 40 22 33 28 41 21]\n",
      "Sample X_data with proper words: good quality dog food i have bought several of the vitality canned dog food products and have found them all to be of good quality . the product looks more like a stew than a processed meat and it smells better . my labrador is finicky and she appreciates this product better than most .\n"
     ]
    }
   ],
   "source": [
    "X_data_int = sequence.pad_sequences(X_data_int, maxlen=suitable_seq_len)\n",
    "print('Sample X_data with word ids:', X_data_int[0])\n",
    "print('Sample X_data with proper words:', X_data[0])"
   ]
  },
  {
   "cell_type": "code",
   "execution_count": 14,
   "metadata": {},
   "outputs": [],
   "source": [
    "def one_hot_maker(x):\n",
    "    with tf.Session() as sess:\n",
    "         return sess.run(tf.one_hot(x, depth=len(np.unique(x))))\n",
    "    \n",
    "Y_data_new = one_hot_maker(Y_data_new)"
   ]
  },
  {
   "cell_type": "code",
   "execution_count": 15,
   "metadata": {},
   "outputs": [
    {
     "name": "stdout",
     "output_type": "stream",
     "text": [
      "355290 9860\n"
     ]
    }
   ],
   "source": [
    "X_train, X_test, y_train, y_test = train_test_split(X_data_int, Y_data_new, test_size=0.027, random_state=101)\n",
    "print(len(X_train), len(X_test))"
   ]
  },
  {
   "cell_type": "markdown",
   "metadata": {},
   "source": [
    "## CONSTRUCTION AND TRAINING"
   ]
  },
  {
   "cell_type": "code",
   "execution_count": 16,
   "metadata": {},
   "outputs": [],
   "source": [
    "# defining the configuration\n",
    "\n",
    "config = {\n",
    "    'rnn_size': 50,\n",
    "    'rnn_layer': 2,\n",
    "    'sequence_length': suitable_seq_len,\n",
    "    'word_embedding_size': 300,\n",
    "    'vocab_size': len(corpus)+2,\n",
    "    'learning_rate': 3e-3,\n",
    "    'batch_size': 1000,\n",
    "    'epoch': 20,\n",
    "    'num_classes': len(y_train[0]),\n",
    "    'dropout_lstm': .5,\n",
    "    'dropout_dense': .5,\n",
    "    'dense_unit_size': 20,\n",
    "}\n",
    "\n",
    "data_x = tf.placeholder(name='data_x', dtype=tf.int64, shape=[None, config['sequence_length']])\n",
    "target = tf.placeholder(name='target', dtype=tf.float32, shape=[None, config['num_classes']])"
   ]
  },
  {
   "cell_type": "code",
   "execution_count": 17,
   "metadata": {},
   "outputs": [
    {
     "data": {
      "text/plain": [
       "{'rnn_size': 50,\n",
       " 'rnn_layer': 2,\n",
       " 'sequence_length': 186,\n",
       " 'word_embedding_size': 300,\n",
       " 'vocab_size': 14899,\n",
       " 'learning_rate': 0.003,\n",
       " 'batch_size': 1000,\n",
       " 'epoch': 20,\n",
       " 'num_classes': 2,\n",
       " 'dropout_lstm': 0.5,\n",
       " 'dropout_dense': 0.5,\n",
       " 'dense_unit_size': 20}"
      ]
     },
     "execution_count": 17,
     "metadata": {},
     "output_type": "execute_result"
    }
   ],
   "source": [
    "config"
   ]
  },
  {
   "cell_type": "code",
   "execution_count": 18,
   "metadata": {},
   "outputs": [],
   "source": [
    "def get_embedding():\n",
    "    with tf.variable_scope('get_embedding', reuse=tf.AUTO_REUSE):\n",
    "        word_embedding = tf.get_variable('word_embedding', [config['vocab_size'], config['word_embedding_size']])\n",
    "        return word_embedding"
   ]
  },
  {
   "cell_type": "code",
   "execution_count": 19,
   "metadata": {},
   "outputs": [],
   "source": [
    "def get_lstm_cell(): \n",
    "    lstm_single_layer = tf.contrib.rnn.BasicLSTMCell(config['rnn_layer'], state_is_tuple=True)\n",
    "    dropout = tf.contrib.rnn.DropoutWrapper(lstm_single_layer, output_keep_prob=config['dropout_lstm'])\n",
    "    return dropout"
   ]
  },
  {
   "cell_type": "code",
   "execution_count": 20,
   "metadata": {},
   "outputs": [],
   "source": [
    "def create_rnn():\n",
    "    cell = tf.contrib.rnn.MultiRNNCell([get_lstm_cell() for _ in range(config['rnn_layer'])], state_is_tuple=True)\n",
    "    return cell"
   ]
  },
  {
   "cell_type": "code",
   "execution_count": 21,
   "metadata": {},
   "outputs": [],
   "source": [
    "# defining model \n",
    "\n",
    "def model():\n",
    "    word_embedding = get_embedding()\n",
    "    embedded_words = tf.nn.embedding_lookup(word_embedding, data_x)\n",
    "    CELL = create_rnn()\n",
    "    with tf.variable_scope('model', reuse=tf.AUTO_REUSE):\n",
    "        OUTPUT, FINAL_STATE = tf.nn.dynamic_rnn(CELL, embedded_words, dtype=tf.float32)\n",
    "    OUTPUT = tf.transpose(OUTPUT, [1,0,2])\n",
    "    OUTPUT = tf.gather(OUTPUT, OUTPUT.get_shape()[0]-1)\n",
    "    weights = tf.truncated_normal_initializer(mean=0., stddev=.1)\n",
    "    biases = tf.zeros_initializer()\n",
    "    dense = tf.contrib.layers.fully_connected(OUTPUT, num_outputs=config['dense_unit_size'],\n",
    "                                             activation_fn=tf.nn.leaky_relu, weights_initializer=weights, \n",
    "                                              biases_initializer=biases)\n",
    "    dense = tf.contrib.layers.dropout(dense, keep_prob=config['dropout_dense'])\n",
    "    predictions = tf.contrib.layers.fully_connected(dense, num_outputs=config['num_classes'],\n",
    "                                                   activation_fn=tf.sigmoid, weights_initializer=weights, \n",
    "                                              biases_initializer=biases)\n",
    "    return predictions"
   ]
  },
  {
   "cell_type": "code",
   "execution_count": 23,
   "metadata": {},
   "outputs": [
    {
     "name": "stdout",
     "output_type": "stream",
     "text": [
      "Tensor(\"fully_connected_3/Sigmoid:0\", shape=(?, 2), dtype=float32)\n",
      "(?, 2)\n"
     ]
    }
   ],
   "source": [
    "pred = model()\n",
    "print(pred)\n",
    "print(pred.get_shape())"
   ]
  },
  {
   "cell_type": "code",
   "execution_count": 25,
   "metadata": {},
   "outputs": [],
   "source": [
    "with tf.variable_scope('setting_training', reuse=tf.AUTO_REUSE):\n",
    "    y_hats = model()\n",
    "    \n",
    "    cost = tf.reduce_mean(tf.nn.softmax_cross_entropy_with_logits_v2(labels=target, logits=y_hats))\n",
    "    \n",
    "    optimizer = tf.train.AdamOptimizer(learning_rate=config['learning_rate'])\n",
    "    \n",
    "    train = optimizer.minimize(cost)\n",
    "    \n",
    "    mistakes = tf.not_equal(tf.argmax(target, 1), tf.argmax(y_hats, 1))\n",
    "    error = tf.reduce_mean(tf.cast(mistakes, tf.float32))"
   ]
  },
  {
   "cell_type": "code",
   "execution_count": null,
   "metadata": {},
   "outputs": [
    {
     "name": "stdout",
     "output_type": "stream",
     "text": [
      "epoch: 1\n"
     ]
    },
    {
     "data": {
      "application/vnd.jupyter.widget-view+json": {
       "model_id": "4b2a9299eaf34ee9a0719841fd7f4be9",
       "version_major": 2,
       "version_minor": 0
      },
      "text/plain": [
       "HBox(children=(IntProgress(value=0, max=355), HTML(value='')))"
      ]
     },
     "metadata": {},
     "output_type": "display_data"
    },
    {
     "name": "stdout",
     "output_type": "stream",
     "text": [
      "Train error: 0.159\n",
      "Test error: 0.15679513\n",
      "epoch: 2\n"
     ]
    },
    {
     "data": {
      "application/vnd.jupyter.widget-view+json": {
       "model_id": "1f7821f26e984c8b8f3e6f8f29d85f08",
       "version_major": 2,
       "version_minor": 0
      },
      "text/plain": [
       "HBox(children=(IntProgress(value=0, max=355), HTML(value='')))"
      ]
     },
     "metadata": {},
     "output_type": "display_data"
    },
    {
     "name": "stdout",
     "output_type": "stream",
     "text": [
      "Train error: 0.161\n",
      "Test error: 0.15679513\n",
      "epoch: 3\n"
     ]
    },
    {
     "data": {
      "application/vnd.jupyter.widget-view+json": {
       "model_id": "d5fbb89086714220b26b7e2117434126",
       "version_major": 2,
       "version_minor": 0
      },
      "text/plain": [
       "HBox(children=(IntProgress(value=0, max=355), HTML(value='')))"
      ]
     },
     "metadata": {},
     "output_type": "display_data"
    }
   ],
   "source": [
    "sess = tf.Session()\n",
    "\n",
    "sess.run(tf.global_variables_initializer())\n",
    "no_of_batches = int(len(X_train)/config['batch_size'])\n",
    "avg_tr_loss_per_epoch = []\n",
    "test_error = []\n",
    "train_error = []\n",
    "for i in range(config['epoch']):\n",
    "    print('epoch:',i+1)\n",
    "    ptr = 0\n",
    "    cc = 0\n",
    "    for j in tqdm_notebook(range(no_of_batches)):\n",
    "        inp = X_train[j*config['batch_size']:(j+1)*config['batch_size']]\n",
    "        out = y_train[j*config['batch_size']:(j+1)*config['batch_size']]\n",
    "        _, c = sess.run([train, cost], {data_x: inp, target: out})\n",
    "        cc += c\n",
    "    avg_tr_loss_per_epoch.append(cc/no_of_batches)\n",
    "    batch_number = randint(0, no_of_batches)\n",
    "    train_error.append(\n",
    "        sess.run(error, {\n",
    "            data_x: X_train[batch_number*config['batch_size'] : (batch_number+1)*config['batch_size']],\n",
    "            target: y_train[batch_number*config['batch_size'] : (batch_number+1)*config['batch_size']]\n",
    "        })\n",
    "    )\n",
    "    test_error.append(sess.run(error, {data_x: X_test, target: y_test}))\n",
    "    print('Train error:',train_error[-1])\n",
    "    print('Test error:',test_error[-1])"
   ]
  },
  {
   "cell_type": "code",
   "execution_count": null,
   "metadata": {},
   "outputs": [],
   "source": []
  },
  {
   "cell_type": "code",
   "execution_count": null,
   "metadata": {},
   "outputs": [],
   "source": []
  }
 ],
 "metadata": {
  "kernelspec": {
   "display_name": "Python 3",
   "language": "python",
   "name": "python3"
  },
  "language_info": {
   "codemirror_mode": {
    "name": "ipython",
    "version": 3
   },
   "file_extension": ".py",
   "mimetype": "text/x-python",
   "name": "python",
   "nbconvert_exporter": "python",
   "pygments_lexer": "ipython3",
   "version": "3.6.6"
  }
 },
 "nbformat": 4,
 "nbformat_minor": 2
}
