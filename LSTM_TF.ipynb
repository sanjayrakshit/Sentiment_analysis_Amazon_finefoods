{
 "cells": [
  {
   "cell_type": "code",
   "execution_count": 1,
   "metadata": {},
   "outputs": [
    {
     "name": "stderr",
     "output_type": "stream",
     "text": [
      "Using TensorFlow backend.\n"
     ]
    }
   ],
   "source": [
    "import pandas as pd \n",
    "from collections import Counter\n",
    "import string\n",
    "import scipy as np\n",
    "from tqdm import tqdm\n",
    "from keras.preprocessing import sequence\n",
    "from sklearn.model_selection import train_test_split\n",
    "from bs4 import BeautifulSoup\n",
    "from random import randint\n",
    "from datetime import datetime\n",
    "import re\n",
    "import time\n",
    "import warnings \n",
    "warnings.filterwarnings('ignore')\n",
    "\n",
    "import tensorflow as tf"
   ]
  },
  {
   "cell_type": "code",
   "execution_count": 2,
   "metadata": {},
   "outputs": [],
   "source": [
    "%matplotlib qt\n",
    "import matplotlib.pyplot as plt\n",
    "\n",
    "def plt_dynamic(x, vy, ty, ax, colors=['b']):\n",
    "    ax.clear()\n",
    "    ax.plot(x, vy, 'b', label=\"Validation Loss\")\n",
    "    ax.plot(x, ty, 'r', label=\"Train Loss\")\n",
    "    plt.legend()\n",
    "    plt.grid()\n",
    "    plt.pause(1)\n",
    "    fig.canvas.draw()"
   ]
  },
  {
   "cell_type": "code",
   "execution_count": 3,
   "metadata": {},
   "outputs": [
    {
     "name": "stdout",
     "output_type": "stream",
     "text": [
      "Index(['Id', 'ProductId', 'UserId', 'ProfileName', 'HelpfulnessNumerator',\n",
      "       'HelpfulnessDenominator', 'Score', 'Time', 'Summary', 'Text'],\n",
      "      dtype='object')\n"
     ]
    }
   ],
   "source": [
    "data = pd.read_csv('./Reviews.csv').dropna()\n",
    "print(data.columns)"
   ]
  },
  {
   "cell_type": "code",
   "execution_count": 4,
   "metadata": {},
   "outputs": [],
   "source": [
    "data = data[['Text', 'Summary', 'Score']]\n",
    "data.drop_duplicates(inplace=True)\n",
    "data.fillna('', inplace=True)\n",
    "data = data[data['Score'] != 3] \n",
    "data['Score'] = [1 if item>3 else 0 for item in data['Score'].values]"
   ]
  },
  {
   "cell_type": "code",
   "execution_count": 5,
   "metadata": {},
   "outputs": [
    {
     "data": {
      "text/plain": [
       "array([1, 0])"
      ]
     },
     "execution_count": 5,
     "metadata": {},
     "output_type": "execute_result"
    }
   ],
   "source": [
    "data['Score'].unique()"
   ]
  },
  {
   "cell_type": "code",
   "execution_count": 6,
   "metadata": {},
   "outputs": [
    {
     "name": "stderr",
     "output_type": "stream",
     "text": [
      "100%|██████████| 365150/365150 [00:13<00:00, 27718.57it/s]\n",
      "100%|██████████| 365150/365150 [00:05<00:00, 67100.21it/s]\n"
     ]
    }
   ],
   "source": [
    "def preprocess(x):\n",
    "    # x = BeautifulSoup(x, 'lxml').get_text()\n",
    "    x = re.sub('<[^>]*>', '', x)\n",
    "    for punc in string.punctuation:\n",
    "        if punc != \"\\'\":\n",
    "            x = x.replace(punc, f' {punc} ')\n",
    "    return ' '.join(x.split()).lower()\n",
    "\n",
    "data['Text'] = [preprocess(item) for item in tqdm(data['Text'].values, total=len(data['Text']))]\n",
    "data['Summary'] = [preprocess(item) for item in tqdm(data['Summary'].values, total=len(data['Summary']))]"
   ]
  },
  {
   "cell_type": "code",
   "execution_count": 7,
   "metadata": {},
   "outputs": [],
   "source": [
    "X_data = [i+' '+j for i,j in zip(list(data['Summary'].values), list(data['Text'].values))]\n",
    "Y_data = list(data['Score'].values)"
   ]
  },
  {
   "cell_type": "code",
   "execution_count": 8,
   "metadata": {},
   "outputs": [
    {
     "name": "stdout",
     "output_type": "stream",
     "text": [
      "Number of unique tokens: 146896\n"
     ]
    }
   ],
   "source": [
    "corpus = dict(Counter(' '.join(X_data).split()))\n",
    "print('Number of unique tokens:', len(corpus))"
   ]
  },
  {
   "cell_type": "code",
   "execution_count": 9,
   "metadata": {},
   "outputs": [
    {
     "name": "stdout",
     "output_type": "stream",
     "text": [
      "Minimum frequency of words: 34.0\n"
     ]
    }
   ],
   "source": [
    "min_word_count = np.percentile(list(corpus.values()), 90)\n",
    "print('Minimum frequency of words:', min_word_count)"
   ]
  },
  {
   "cell_type": "code",
   "execution_count": 10,
   "metadata": {},
   "outputs": [
    {
     "name": "stdout",
     "output_type": "stream",
     "text": [
      "Number of unique tokens after deleting less frequent tokens: 14702\n"
     ]
    }
   ],
   "source": [
    "words = list(corpus.keys())\n",
    "for w in words:\n",
    "    if corpus[w] < min_word_count:\n",
    "        del corpus[w]\n",
    "\n",
    "print('Number of unique tokens after deleting less frequent tokens:', len(corpus))"
   ]
  },
  {
   "cell_type": "code",
   "execution_count": 11,
   "metadata": {},
   "outputs": [
    {
     "name": "stdout",
     "output_type": "stream",
     "text": [
      "Suitable sequence length: 186\n"
     ]
    }
   ],
   "source": [
    "seq_len = [len(item.split()) for item in X_data]\n",
    "\n",
    "suitable_seq_len = int(np.percentile(seq_len, 90))\n",
    "print('Suitable sequence length:', suitable_seq_len)"
   ]
  },
  {
   "cell_type": "code",
   "execution_count": 12,
   "metadata": {},
   "outputs": [],
   "source": [
    "# Creating the word ids\n",
    "word_ids = {\n",
    "    item: index+2 for index, item in enumerate(corpus.keys())\n",
    "}"
   ]
  },
  {
   "cell_type": "code",
   "execution_count": 13,
   "metadata": {},
   "outputs": [],
   "source": [
    "X_data_int = []; Y_data_new = []\n",
    "for item, y in zip(X_data, Y_data):\n",
    "    temp = [word_ids.get(word, 1) for word in item.split()]\n",
    "    if temp:\n",
    "        X_data_int.append(temp)\n",
    "        Y_data_new.append(y)"
   ]
  },
  {
   "cell_type": "code",
   "execution_count": 14,
   "metadata": {},
   "outputs": [
    {
     "name": "stdout",
     "output_type": "stream",
     "text": [
      "Sample X_data with word ids: [ 0  0  0  0  0  0  0  0  0  0  0  0  0  0  0  0  0  0  0  0  0  0  0  0\n",
      "  0  0  0  0  0  0  0  0  0  0  0  0  0  0  0  0  0  0  0  0  0  0  0  0\n",
      "  0  0  0  0  0  0  0  0  0  0  0  0  0  0  0  0  0  0  0  0  0  0  0  0\n",
      "  0  0  0  0  0  0  0  0  0  0  0  0  0  0  0  0  0  0  0  0  0  0  0  0\n",
      "  0  0  0  0  0  0  0  0  0  0  0  0  0  0  0  0  0  0  0  0  0  0  0  0\n",
      "  0  0  0  0  0  0  0  0  0  0  0  2  3  4  5  6  7  8  9 10 11 12 13  4\n",
      "  5 14 15  7 16 17 18 19 20 10  2  3 21 11 22 23 24 25 26 27 28 26 29 30\n",
      " 15 31 32 33 21 34 35 36 37 15 38 39 40 22 33 28 41 21]\n",
      "Sample X_data with proper words: good quality dog food i have bought several of the vitality canned dog food products and have found them all to be of good quality . the product looks more like a stew than a processed meat and it smells better . my labrador is finicky and she appreciates this product better than most .\n"
     ]
    }
   ],
   "source": [
    "X_data_int = sequence.pad_sequences(X_data_int, maxlen=suitable_seq_len)\n",
    "print('Sample X_data with word ids:', X_data_int[0])\n",
    "print('Sample X_data with proper words:', X_data[0])"
   ]
  },
  {
   "cell_type": "code",
   "execution_count": 15,
   "metadata": {},
   "outputs": [],
   "source": [
    "def one_hot_maker(x):\n",
    "    with tf.Session() as sess:\n",
    "         return sess.run(tf.one_hot(x, depth=len(np.unique(x))))\n",
    "    \n",
    "Y_data_new = one_hot_maker(Y_data_new)"
   ]
  },
  {
   "cell_type": "code",
   "execution_count": 16,
   "metadata": {},
   "outputs": [
    {
     "name": "stdout",
     "output_type": "stream",
     "text": [
      "355290 9860\n"
     ]
    }
   ],
   "source": [
    "X_train, X_test, y_train, y_test = train_test_split(X_data_int, Y_data_new, test_size=0.027, random_state=101)\n",
    "print(len(X_train), len(X_test))"
   ]
  },
  {
   "cell_type": "markdown",
   "metadata": {},
   "source": [
    "## CONSTRUCTION AND TRAINING"
   ]
  },
  {
   "cell_type": "code",
   "execution_count": 26,
   "metadata": {},
   "outputs": [],
   "source": [
    "# defining the configuration\n",
    "\n",
    "config = {\n",
    "    'rnn_size': 5,\n",
    "    'rnn_layer': 2,\n",
    "    'sequence_length': suitable_seq_len,\n",
    "    'word_embedding_size': 300,\n",
    "    'vocab_size': len(corpus)+2,\n",
    "    'learning_rate': 3e-4,\n",
    "    'batch_size': 128,\n",
    "    'epoch': 1000,\n",
    "    'num_classes': len(y_train[0]),\n",
    "    'dropout_lstm': .5,\n",
    "    'dropout_dense': .5,\n",
    "    'dense_unit_size': 100,\n",
    "    'l2_reg_param': .01\n",
    "}\n",
    "\n",
    "data_x = tf.placeholder(name='data_x', dtype=tf.int64, shape=[None, config['sequence_length']])\n",
    "target = tf.placeholder(name='target', dtype=tf.float32, shape=[None, config['num_classes']])"
   ]
  },
  {
   "cell_type": "code",
   "execution_count": 18,
   "metadata": {},
   "outputs": [
    {
     "data": {
      "text/plain": [
       "{'rnn_size': 5,\n",
       " 'rnn_layer': 2,\n",
       " 'sequence_length': 186,\n",
       " 'word_embedding_size': 300,\n",
       " 'vocab_size': 14704,\n",
       " 'learning_rate': 0.0003,\n",
       " 'batch_size': 128,\n",
       " 'epoch': 1000,\n",
       " 'num_classes': 2,\n",
       " 'dropout_lstm': 0.5,\n",
       " 'dropout_dense': 0.5,\n",
       " 'dense_unit_size': 100,\n",
       " 'l1_reg_param': 0.01}"
      ]
     },
     "execution_count": 18,
     "metadata": {},
     "output_type": "execute_result"
    }
   ],
   "source": [
    "config"
   ]
  },
  {
   "cell_type": "code",
   "execution_count": 19,
   "metadata": {},
   "outputs": [],
   "source": [
    "def get_embedding():\n",
    "    with tf.variable_scope('get_embedding', reuse=tf.AUTO_REUSE):\n",
    "        word_embedding = tf.get_variable('word_embedding', [config['vocab_size'], config['word_embedding_size']])\n",
    "        return word_embedding"
   ]
  },
  {
   "cell_type": "code",
   "execution_count": 20,
   "metadata": {},
   "outputs": [],
   "source": [
    "def get_lstm_cell():\n",
    "    lstm_single_layer = tf.contrib.rnn.LSTMCell(config['rnn_size'], name='LSTM_CELLS', state_is_tuple=True)\n",
    "    dropout = tf.contrib.rnn.DropoutWrapper(lstm_single_layer, output_keep_prob=config['dropout_lstm'])\n",
    "    return dropout"
   ]
  },
  {
   "cell_type": "code",
   "execution_count": 21,
   "metadata": {},
   "outputs": [],
   "source": [
    "def create_rnn():\n",
    "    cell = tf.contrib.rnn.MultiRNNCell([get_lstm_cell() for _ in range(config['rnn_layer'])], state_is_tuple=True)\n",
    "    return cell"
   ]
  },
  {
   "cell_type": "code",
   "execution_count": 22,
   "metadata": {},
   "outputs": [],
   "source": [
    "def get_weights():\n",
    "    weights = tf.keras.initializers.he_normal(seed=None)\n",
    "    biases = tf.zeros_initializer()\n",
    "    return weights, biases\n",
    "\n",
    "# defining model \n",
    "\n",
    "def model():\n",
    "    # getting the embedding\n",
    "    word_embedding = get_embedding()\n",
    "    embedded_words = tf.nn.embedding_lookup(word_embedding, data_x)\n",
    "    \n",
    "    # creating the RNN layer\n",
    "    CELL = create_rnn()\n",
    "    with tf.variable_scope('model', reuse=tf.AUTO_REUSE):\n",
    "        OUTPUT, FINAL_STATE = tf.nn.dynamic_rnn(CELL, embedded_words, dtype=tf.float32)\n",
    "    OUTPUT = tf.transpose(OUTPUT, [1,0,2])\n",
    "    OUTPUT = tf.gather(OUTPUT, OUTPUT.get_shape()[0]-1)\n",
    "    \n",
    "    # defining weight for dense layers\n",
    "    \n",
    "    # Dense layer 1\n",
    "    dense = tf.contrib.layers.fully_connected(OUTPUT, num_outputs=config['dense_unit_size'],\n",
    "                                             activation_fn=tf.nn.leaky_relu, weights_initializer=get_weights()[0], \n",
    "                                              biases_initializer=get_weights()[1])\n",
    "    dense = tf.contrib.layers.dropout(dense, keep_prob=config['dropout_dense'])\n",
    "    \n",
    "    # Dense layer 2\n",
    "    dense = tf.contrib.layers.fully_connected(dense, num_outputs=config['dense_unit_size'],\n",
    "                                             activation_fn=tf.nn.leaky_relu, weights_initializer=get_weights()[0], \n",
    "                                              biases_initializer=get_weights()[1])\n",
    "    dense = tf.contrib.layers.dropout(dense, keep_prob=config['dropout_dense'])\n",
    "    \n",
    "    # adding a batch normalization layer\n",
    "    # I know the paper claims that we should add batch normalization before activation function of the previous layer, but [https://goo.gl/7CP9hs] this link claims otherwise.\n",
    "    dense = tf.layers.batch_normalization(dense)\n",
    "    \n",
    "    # Dense layer 3\n",
    "    dense = tf.contrib.layers.fully_connected(dense, num_outputs=config['dense_unit_size'],\n",
    "                                             activation_fn=tf.nn.leaky_relu, weights_initializer=get_weights()[0], \n",
    "                                              biases_initializer=get_weights()[1])\n",
    "    dense = tf.contrib.layers.dropout(dense, keep_prob=config['dropout_dense'])\n",
    "    \n",
    "    # Last softmax layer\n",
    "    predictions = tf.contrib.layers.fully_connected(dense, num_outputs=config['num_classes'],\n",
    "                                                   activation_fn=tf.nn.softmax, \n",
    "                                                    weights_initializer=tf.truncated_normal_initializer(mean=0., stddev=.1), \n",
    "                                                  biases_initializer=get_weights()[1])\n",
    "    return predictions"
   ]
  },
  {
   "cell_type": "code",
   "execution_count": 23,
   "metadata": {},
   "outputs": [
    {
     "name": "stdout",
     "output_type": "stream",
     "text": [
      "Tensor(\"fully_connected_3/Softmax:0\", shape=(?, 2), dtype=float32)\n",
      "(?, 2)\n"
     ]
    }
   ],
   "source": [
    "pred = model()\n",
    "print(pred)\n",
    "print(pred.get_shape())"
   ]
  },
  {
   "cell_type": "code",
   "execution_count": 24,
   "metadata": {},
   "outputs": [
    {
     "data": {
      "text/plain": [
       "[<tf.Variable 'get_embedding/word_embedding:0' shape=(14704, 300) dtype=float32_ref>,\n",
       " <tf.Variable 'model/rnn/multi_rnn_cell/cell_0/LSTM_CELLS/kernel:0' shape=(305, 20) dtype=float32_ref>,\n",
       " <tf.Variable 'model/rnn/multi_rnn_cell/cell_0/LSTM_CELLS/bias:0' shape=(20,) dtype=float32_ref>,\n",
       " <tf.Variable 'model/rnn/multi_rnn_cell/cell_1/LSTM_CELLS/kernel:0' shape=(10, 20) dtype=float32_ref>,\n",
       " <tf.Variable 'model/rnn/multi_rnn_cell/cell_1/LSTM_CELLS/bias:0' shape=(20,) dtype=float32_ref>,\n",
       " <tf.Variable 'fully_connected/weights:0' shape=(5, 100) dtype=float32_ref>,\n",
       " <tf.Variable 'fully_connected/biases:0' shape=(100,) dtype=float32_ref>,\n",
       " <tf.Variable 'fully_connected_1/weights:0' shape=(100, 100) dtype=float32_ref>,\n",
       " <tf.Variable 'fully_connected_1/biases:0' shape=(100,) dtype=float32_ref>,\n",
       " <tf.Variable 'batch_normalization/gamma:0' shape=(100,) dtype=float32_ref>,\n",
       " <tf.Variable 'batch_normalization/beta:0' shape=(100,) dtype=float32_ref>,\n",
       " <tf.Variable 'fully_connected_2/weights:0' shape=(100, 100) dtype=float32_ref>,\n",
       " <tf.Variable 'fully_connected_2/biases:0' shape=(100,) dtype=float32_ref>,\n",
       " <tf.Variable 'fully_connected_3/weights:0' shape=(100, 2) dtype=float32_ref>,\n",
       " <tf.Variable 'fully_connected_3/biases:0' shape=(2,) dtype=float32_ref>]"
      ]
     },
     "execution_count": 24,
     "metadata": {},
     "output_type": "execute_result"
    }
   ],
   "source": [
    "tf.trainable_variables()"
   ]
  },
  {
   "cell_type": "code",
   "execution_count": 27,
   "metadata": {},
   "outputs": [],
   "source": [
    "with tf.variable_scope('setting_training', reuse=tf.AUTO_REUSE):\n",
    "    y_hats = model()\n",
    "    \n",
    "    cost = tf.reduce_mean(tf.nn.softmax_cross_entropy_with_logits_v2(labels=target, logits=y_hats)\\\n",
    "                         + tf.add_n([config['l2_reg_param']*tf.nn.l2_loss(V) for V in tf.trainable_variables()]))\n",
    "    \n",
    "    optimizer = tf.train.AdamOptimizer(learning_rate=config['learning_rate'])\n",
    "    \n",
    "    train = optimizer.minimize(cost)\n",
    "    \n",
    "    mistakes = tf.not_equal(tf.argmax(target, 1), tf.argmax(y_hats, 1))\n",
    "    error = tf.reduce_mean(tf.cast(mistakes, tf.float32))"
   ]
  },
  {
   "cell_type": "code",
   "execution_count": 29,
   "metadata": {},
   "outputs": [],
   "source": [
    "no_of_tr_batches = int(len(X_train)/config['batch_size'])\n",
    "no_of_ts_batches = int(len(X_test)/config['batch_size'])\n",
    "train_loss = []\n",
    "test_loss = []"
   ]
  },
  {
   "cell_type": "code",
   "execution_count": null,
   "metadata": {
    "scrolled": true
   },
   "outputs": [],
   "source": [
    "fig, ax = plt.subplots(1,1)\n",
    "plt_dynamic([1,2], [1,2], [1,3], ax)\n",
    "\n",
    "sess = tf.Session()\n",
    "sess.run(tf.global_variables_initializer())\n",
    "\n",
    "for i in range(config['epoch']):\n",
    "    print('epoch:',i+1)\n",
    "    time.sleep(1)\n",
    "    cc = 0\n",
    "    # for training data\n",
    "    for j in tqdm(range(no_of_tr_batches), total=no_of_tr_batches):\n",
    "        inp = X_train[j*config['batch_size']:(j+1)*config['batch_size']]\n",
    "        out = y_train[j*config['batch_size']:(j+1)*config['batch_size']]\n",
    "        _, c = sess.run([train, cost], {data_x: inp, target: out})\n",
    "        cc += c\n",
    "    train_loss.append(cc/no_of_tr_batches)\n",
    "    \n",
    "    # for validation data\n",
    "    cc = 0\n",
    "    for j in tqdm(range(no_of_ts_batches), total=no_of_ts_batches):\n",
    "        inp = X_test[j*config['batch_size']:(j+1)*config['batch_size']]\n",
    "        out = y_test[j*config['batch_size']:(j+1)*config['batch_size']]\n",
    "        c = sess.run([cost], {data_x: inp, target: out})\n",
    "        cc += c\n",
    "    test_loss.append(cc/no_of_ts_batches)\n",
    "    \n",
    "    if i%5 == 0:\n",
    "        print('Train loss:', train_loss[-1])\n",
    "        print('Validation loss:', test_loss[-1])\n",
    "    plt_dynamic(range(i+1), test_loss, train_loss, ax)"
   ]
  },
  {
   "cell_type": "code",
   "execution_count": null,
   "metadata": {},
   "outputs": [],
   "source": []
  }
 ],
 "metadata": {
  "kernelspec": {
   "display_name": "Python 3",
   "language": "python",
   "name": "python3"
  },
  "language_info": {
   "codemirror_mode": {
    "name": "ipython",
    "version": 3
   },
   "file_extension": ".py",
   "mimetype": "text/x-python",
   "name": "python",
   "nbconvert_exporter": "python",
   "pygments_lexer": "ipython3",
   "version": "3.6.6"
  }
 },
 "nbformat": 4,
 "nbformat_minor": 2
}
