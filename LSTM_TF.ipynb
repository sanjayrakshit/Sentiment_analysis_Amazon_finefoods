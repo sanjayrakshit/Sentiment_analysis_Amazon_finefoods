{
 "cells": [
  {
   "cell_type": "code",
   "execution_count": 1,
   "metadata": {},
   "outputs": [
    {
     "data": {
      "text/html": [
       "\n",
       "        <progress\n",
       "            value='100'\n",
       "            max='100',\n",
       "            style='width: 100%'\n",
       "        >\n",
       "            100\n",
       "        </progress>\n",
       "    "
      ],
      "text/plain": [
       "<IPython.core.display.HTML object>"
      ]
     },
     "metadata": {},
     "output_type": "display_data"
    }
   ],
   "source": [
    "from IPython.display import HTML, display\n",
    "import time\n",
    "\n",
    "def progress(value, max=100):\n",
    "    return HTML(\"\"\"\n",
    "        <progress\n",
    "            value='{value}'\n",
    "            max='{max}',\n",
    "            style='width: 100%'\n",
    "        >\n",
    "            {value}\n",
    "        </progress>\n",
    "    \"\"\".format(value=value, max=max))\n",
    "\n",
    "out = display(progress(0, 100), display_id=True)\n",
    "for ii in range(101):\n",
    "    time.sleep(0.02)\n",
    "    out.update(progress(ii, 100))"
   ]
  },
  {
   "cell_type": "code",
   "execution_count": 2,
   "metadata": {},
   "outputs": [
    {
     "name": "stderr",
     "output_type": "stream",
     "text": [
      "Using TensorFlow backend.\n"
     ]
    }
   ],
   "source": [
    "import pandas as pd \n",
    "from collections import Counter\n",
    "import string\n",
    "import scipy as np\n",
    "from tqdm import tqdm_notebook\n",
    "from keras.preprocessing import sequence\n",
    "from sklearn.model_selection import train_test_split\n",
    "from bs4 import BeautifulSoup\n",
    "from random import randint\n",
    "from datetime import datetime\n",
    "import re\n",
    "import warnings \n",
    "warnings.filterwarnings('ignore')\n",
    "\n",
    "import tensorflow as tf"
   ]
  },
  {
   "cell_type": "code",
   "execution_count": 3,
   "metadata": {},
   "outputs": [
    {
     "name": "stdout",
     "output_type": "stream",
     "text": [
      "Index(['Id', 'ProductId', 'UserId', 'ProfileName', 'HelpfulnessNumerator',\n",
      "       'HelpfulnessDenominator', 'Score', 'Time', 'Summary', 'Text'],\n",
      "      dtype='object')\n"
     ]
    }
   ],
   "source": [
    "data = pd.read_csv('./Reviews.csv').dropna()\n",
    "print(data.columns)"
   ]
  },
  {
   "cell_type": "code",
   "execution_count": 4,
   "metadata": {},
   "outputs": [],
   "source": [
    "data = data[['Text', 'Summary', 'Score']]\n",
    "data.drop_duplicates(inplace=True)\n",
    "data = data[data['Score'] != 3] \n",
    "data['Score'] = [1 if item>3 else 0 for item in data['Score'].values]"
   ]
  },
  {
   "cell_type": "code",
   "execution_count": 5,
   "metadata": {},
   "outputs": [
    {
     "data": {
      "text/plain": [
       "array([1, 0], dtype=int64)"
      ]
     },
     "execution_count": 5,
     "metadata": {},
     "output_type": "execute_result"
    }
   ],
   "source": [
    "data['Score'].unique()"
   ]
  },
  {
   "cell_type": "code",
   "execution_count": 6,
   "metadata": {},
   "outputs": [],
   "source": [
    "def preprocess(x):\n",
    "    # x = BeautifulSoup(x, 'lxml').get_text()\n",
    "    x = re.sub('<[^>]*>', '', x)\n",
    "    for punc in string.punctuation:\n",
    "        if punc != \"\\'\":\n",
    "            x = x.replace(punc, f' {punc} ')\n",
    "    return ' '.join(x.split()).lower()\n",
    "\n",
    "data['Text'] = [preprocess(item) for item in data['Text'].values]\n",
    "data['Summary'] = [preprocess(item) for item in data['Summary'].values]"
   ]
  },
  {
   "cell_type": "code",
   "execution_count": 7,
   "metadata": {},
   "outputs": [],
   "source": [
    "X_data = [i+' '+j for i,j in zip(list(data['Summary'].values), list(data['Text'].values))]\n",
    "Y_data = list(data['Score'].values)"
   ]
  },
  {
   "cell_type": "code",
   "execution_count": 8,
   "metadata": {},
   "outputs": [
    {
     "name": "stdout",
     "output_type": "stream",
     "text": [
      "Number of unique tokens: 146896\n"
     ]
    }
   ],
   "source": [
    "corpus = dict(Counter(' '.join(X_data).split()))\n",
    "print('Number of unique tokens:', len(corpus))"
   ]
  },
  {
   "cell_type": "code",
   "execution_count": 9,
   "metadata": {},
   "outputs": [
    {
     "name": "stdout",
     "output_type": "stream",
     "text": [
      "Minimum frequency of words: 34.0\n"
     ]
    }
   ],
   "source": [
    "min_word_count = np.percentile(list(corpus.values()), 90)\n",
    "print('Minimum frequency of words:', min_word_count)"
   ]
  },
  {
   "cell_type": "code",
   "execution_count": 10,
   "metadata": {},
   "outputs": [
    {
     "name": "stdout",
     "output_type": "stream",
     "text": [
      "Number of unique tokens after deleting less frequent tokens: 14702\n"
     ]
    }
   ],
   "source": [
    "words = list(corpus.keys())\n",
    "for w in words:\n",
    "    if corpus[w] < min_word_count:\n",
    "        del corpus[w]\n",
    "\n",
    "print('Number of unique tokens after deleting less frequent tokens:', len(corpus))"
   ]
  },
  {
   "cell_type": "code",
   "execution_count": 11,
   "metadata": {},
   "outputs": [
    {
     "name": "stdout",
     "output_type": "stream",
     "text": [
      "Suitable sequence length: 186\n"
     ]
    }
   ],
   "source": [
    "seq_len = [len(item.split()) for item in X_data]\n",
    "\n",
    "suitable_seq_len = int(np.percentile(seq_len, 90))\n",
    "print('Suitable sequence length:', suitable_seq_len)"
   ]
  },
  {
   "cell_type": "code",
   "execution_count": 12,
   "metadata": {},
   "outputs": [],
   "source": [
    "# Creating the word ids\n",
    "word_ids = {\n",
    "    item: index+2 for index, item in enumerate(corpus.keys())\n",
    "}"
   ]
  },
  {
   "cell_type": "code",
   "execution_count": 13,
   "metadata": {},
   "outputs": [],
   "source": [
    "X_data_int = []; Y_data_new = []\n",
    "for item, y in zip(X_data, Y_data):\n",
    "    temp = [word_ids.get(word, 1) for word in item.split()]\n",
    "    if temp:\n",
    "        X_data_int.append(temp)\n",
    "        Y_data_new.append(y)"
   ]
  },
  {
   "cell_type": "code",
   "execution_count": 14,
   "metadata": {},
   "outputs": [
    {
     "name": "stdout",
     "output_type": "stream",
     "text": [
      "Sample X_data with word ids: [ 0  0  0  0  0  0  0  0  0  0  0  0  0  0  0  0  0  0  0  0  0  0  0  0\n",
      "  0  0  0  0  0  0  0  0  0  0  0  0  0  0  0  0  0  0  0  0  0  0  0  0\n",
      "  0  0  0  0  0  0  0  0  0  0  0  0  0  0  0  0  0  0  0  0  0  0  0  0\n",
      "  0  0  0  0  0  0  0  0  0  0  0  0  0  0  0  0  0  0  0  0  0  0  0  0\n",
      "  0  0  0  0  0  0  0  0  0  0  0  0  0  0  0  0  0  0  0  0  0  0  0  0\n",
      "  0  0  0  0  0  0  0  0  0  0  0  2  3  4  5  6  7  8  9 10 11 12 13  4\n",
      "  5 14 15  7 16 17 18 19 20 10  2  3 21 11 22 23 24 25 26 27 28 26 29 30\n",
      " 15 31 32 33 21 34 35 36 37 15 38 39 40 22 33 28 41 21]\n",
      "Sample X_data with proper words: good quality dog food i have bought several of the vitality canned dog food products and have found them all to be of good quality . the product looks more like a stew than a processed meat and it smells better . my labrador is finicky and she appreciates this product better than most .\n"
     ]
    }
   ],
   "source": [
    "X_data_int = sequence.pad_sequences(X_data_int, maxlen=suitable_seq_len)\n",
    "print('Sample X_data with word ids:', X_data_int[0])\n",
    "print('Sample X_data with proper words:', X_data[0])"
   ]
  },
  {
   "cell_type": "code",
   "execution_count": 15,
   "metadata": {},
   "outputs": [],
   "source": [
    "def one_hot_maker(x):\n",
    "    with tf.Session() as sess:\n",
    "         return sess.run(tf.one_hot(x, depth=len(np.unique(x))))\n",
    "    \n",
    "Y_data_new = one_hot_maker(Y_data_new)"
   ]
  },
  {
   "cell_type": "code",
   "execution_count": 16,
   "metadata": {},
   "outputs": [
    {
     "name": "stdout",
     "output_type": "stream",
     "text": [
      "355290 9860\n"
     ]
    }
   ],
   "source": [
    "X_train, X_test, y_train, y_test = train_test_split(X_data_int, Y_data_new, test_size=0.027, random_state=101)\n",
    "print(len(X_train), len(X_test))"
   ]
  },
  {
   "cell_type": "markdown",
   "metadata": {},
   "source": [
    "## CONSTRUCTION AND TRAINING"
   ]
  },
  {
   "cell_type": "code",
   "execution_count": 17,
   "metadata": {},
   "outputs": [],
   "source": [
    "# defining the configuration\n",
    "\n",
    "config = {\n",
    "    'rnn_size': 2,\n",
    "    'rnn_layer': 2,\n",
    "    'sequence_length': suitable_seq_len,\n",
    "    'word_embedding_size': 300,\n",
    "    'vocab_size': len(corpus)+2,\n",
    "    'learning_rate': 3e-4,\n",
    "    'batch_size': 1000,\n",
    "    'epoch': 250,\n",
    "    'num_classes': len(y_train[0]),\n",
    "    'dropout_lstm': .5,\n",
    "    'dropout_dense': .5,\n",
    "    'dense_unit_size': 20,\n",
    "}\n",
    "\n",
    "data_x = tf.placeholder(name='data_x', dtype=tf.int64, shape=[None, config['sequence_length']])\n",
    "target = tf.placeholder(name='target', dtype=tf.float32, shape=[None, config['num_classes']])"
   ]
  },
  {
   "cell_type": "code",
   "execution_count": 18,
   "metadata": {},
   "outputs": [
    {
     "data": {
      "text/plain": [
       "{'rnn_size': 2,\n",
       " 'rnn_layer': 2,\n",
       " 'sequence_length': 186,\n",
       " 'word_embedding_size': 300,\n",
       " 'vocab_size': 14704,\n",
       " 'learning_rate': 0.0003,\n",
       " 'batch_size': 1000,\n",
       " 'epoch': 250,\n",
       " 'num_classes': 2,\n",
       " 'dropout_lstm': 0.5,\n",
       " 'dropout_dense': 0.5,\n",
       " 'dense_unit_size': 20}"
      ]
     },
     "execution_count": 18,
     "metadata": {},
     "output_type": "execute_result"
    }
   ],
   "source": [
    "config"
   ]
  },
  {
   "cell_type": "code",
   "execution_count": 19,
   "metadata": {},
   "outputs": [],
   "source": [
    "def get_embedding():\n",
    "    with tf.variable_scope('get_embedding', reuse=tf.AUTO_REUSE):\n",
    "        word_embedding = tf.get_variable('word_embedding', [config['vocab_size'], config['word_embedding_size']])\n",
    "        return word_embedding"
   ]
  },
  {
   "cell_type": "code",
   "execution_count": 20,
   "metadata": {},
   "outputs": [],
   "source": [
    "def get_lstm_cell(): \n",
    "    lstm_single_layer = tf.contrib.rnn.BasicLSTMCell(config['rnn_size'], state_is_tuple=True)\n",
    "    dropout = tf.contrib.rnn.DropoutWrapper(lstm_single_layer, output_keep_prob=config['dropout_lstm'])\n",
    "    return dropout"
   ]
  },
  {
   "cell_type": "code",
   "execution_count": 21,
   "metadata": {},
   "outputs": [],
   "source": [
    "def create_rnn():\n",
    "    cell = tf.contrib.rnn.MultiRNNCell([get_lstm_cell() for _ in range(config['rnn_layer'])], state_is_tuple=True)\n",
    "    return cell"
   ]
  },
  {
   "cell_type": "code",
   "execution_count": 22,
   "metadata": {},
   "outputs": [],
   "source": [
    "# defining model \n",
    "\n",
    "def model():\n",
    "    word_embedding = get_embedding()\n",
    "    embedded_words = tf.nn.embedding_lookup(word_embedding, data_x)\n",
    "    CELL = create_rnn()\n",
    "    with tf.variable_scope('model', reuse=tf.AUTO_REUSE):\n",
    "        OUTPUT, FINAL_STATE = tf.nn.dynamic_rnn(CELL, embedded_words, dtype=tf.float32)\n",
    "    OUTPUT = tf.transpose(OUTPUT, [1,0,2])\n",
    "    OUTPUT = tf.gather(OUTPUT, OUTPUT.get_shape()[0]-1)\n",
    "    weights = tf.truncated_normal_initializer(mean=0., stddev=.1)\n",
    "    biases = tf.zeros_initializer()\n",
    "    dense = tf.contrib.layers.fully_connected(OUTPUT, num_outputs=config['dense_unit_size'],\n",
    "                                             activation_fn=tf.nn.leaky_relu, weights_initializer=weights, \n",
    "                                              biases_initializer=biases)\n",
    "    dense = tf.contrib.layers.dropout(dense, keep_prob=config['dropout_dense'])\n",
    "    predictions = tf.contrib.layers.fully_connected(dense, num_outputs=config['num_classes'],\n",
    "                                                   activation_fn=tf.sigmoid, weights_initializer=weights, \n",
    "                                              biases_initializer=biases)\n",
    "    return predictions"
   ]
  },
  {
   "cell_type": "code",
   "execution_count": 23,
   "metadata": {},
   "outputs": [
    {
     "name": "stdout",
     "output_type": "stream",
     "text": [
      "Tensor(\"fully_connected_1/Sigmoid:0\", shape=(?, 2), dtype=float32)\n",
      "(?, 2)\n"
     ]
    }
   ],
   "source": [
    "pred = model()\n",
    "print(pred)\n",
    "print(pred.get_shape())"
   ]
  },
  {
   "cell_type": "code",
   "execution_count": 24,
   "metadata": {},
   "outputs": [],
   "source": [
    "with tf.variable_scope('setting_training', reuse=tf.AUTO_REUSE):\n",
    "    y_hats = model()\n",
    "    \n",
    "    cost = tf.reduce_mean(tf.nn.softmax_cross_entropy_with_logits_v2(labels=target, logits=y_hats))\n",
    "    \n",
    "    optimizer = tf.train.AdamOptimizer(learning_rate=config['learning_rate'])\n",
    "    \n",
    "    train = optimizer.minimize(cost)\n",
    "    \n",
    "    mistakes = tf.not_equal(tf.argmax(target, 1), tf.argmax(y_hats, 1))\n",
    "    error = tf.reduce_mean(tf.cast(mistakes, tf.float32))"
   ]
  },
  {
   "cell_type": "code",
   "execution_count": 25,
   "metadata": {
    "scrolled": true
   },
   "outputs": [
    {
     "name": "stdout",
     "output_type": "stream",
     "text": [
      "epoch: 1\n"
     ]
    },
    {
     "data": {
      "text/html": [
       "\n",
       "        <progress\n",
       "            value='355'\n",
       "            max='356',\n",
       "            style='width: 100%'\n",
       "        >\n",
       "            355\n",
       "        </progress>\n",
       "    "
      ],
      "text/plain": [
       "<IPython.core.display.HTML object>"
      ]
     },
     "metadata": {},
     "output_type": "display_data"
    },
    {
     "name": "stdout",
     "output_type": "stream",
     "text": [
      "Train error: 0.6355043565723258\n",
      "Test error: 0.56437075\n",
      "Time Taken: 0:01:20.802318\n",
      "\n",
      "\n",
      "epoch: 2\n"
     ]
    },
    {
     "data": {
      "text/html": [
       "\n",
       "        <progress\n",
       "            value='355'\n",
       "            max='356',\n",
       "            style='width: 100%'\n",
       "        >\n",
       "            355\n",
       "        </progress>\n",
       "    "
      ],
      "text/plain": [
       "<IPython.core.display.HTML object>"
      ]
     },
     "metadata": {},
     "output_type": "display_data"
    },
    {
     "name": "stdout",
     "output_type": "stream",
     "text": [
      "Train error: 0.5213861058295612\n",
      "Test error: 0.47814393\n",
      "Time Taken: 0:01:19.754381\n",
      "\n",
      "\n",
      "epoch: 3\n"
     ]
    },
    {
     "data": {
      "text/html": [
       "\n",
       "        <progress\n",
       "            value='355'\n",
       "            max='356',\n",
       "            style='width: 100%'\n",
       "        >\n",
       "            355\n",
       "        </progress>\n",
       "    "
      ],
      "text/plain": [
       "<IPython.core.display.HTML object>"
      ]
     },
     "metadata": {},
     "output_type": "display_data"
    },
    {
     "name": "stdout",
     "output_type": "stream",
     "text": [
      "Train error: 0.45869795377825345\n",
      "Test error: 0.4461009\n",
      "Time Taken: 0:01:19.558530\n",
      "\n",
      "\n",
      "epoch: 4\n"
     ]
    },
    {
     "data": {
      "text/html": [
       "\n",
       "        <progress\n",
       "            value='355'\n",
       "            max='356',\n",
       "            style='width: 100%'\n",
       "        >\n",
       "            355\n",
       "        </progress>\n",
       "    "
      ],
      "text/plain": [
       "<IPython.core.display.HTML object>"
      ]
     },
     "metadata": {},
     "output_type": "display_data"
    },
    {
     "name": "stdout",
     "output_type": "stream",
     "text": [
      "Train error: 0.4349740866204383\n",
      "Test error: 0.43035638\n",
      "Time Taken: 0:01:19.686876\n",
      "\n",
      "\n",
      "epoch: 5\n"
     ]
    },
    {
     "data": {
      "text/html": [
       "\n",
       "        <progress\n",
       "            value='355'\n",
       "            max='356',\n",
       "            style='width: 100%'\n",
       "        >\n",
       "            355\n",
       "        </progress>\n",
       "    "
      ],
      "text/plain": [
       "<IPython.core.display.HTML object>"
      ]
     },
     "metadata": {},
     "output_type": "display_data"
    },
    {
     "name": "stdout",
     "output_type": "stream",
     "text": [
      "Train error: 0.4211183013210834\n",
      "Test error: 0.41975716\n",
      "Time Taken: 0:01:20.511789\n",
      "\n",
      "\n",
      "epoch: 6\n"
     ]
    },
    {
     "data": {
      "text/html": [
       "\n",
       "        <progress\n",
       "            value='355'\n",
       "            max='356',\n",
       "            style='width: 100%'\n",
       "        >\n",
       "            355\n",
       "        </progress>\n",
       "    "
      ],
      "text/plain": [
       "<IPython.core.display.HTML object>"
      ]
     },
     "metadata": {},
     "output_type": "display_data"
    },
    {
     "name": "stdout",
     "output_type": "stream",
     "text": [
      "Train error: 0.4144990387936713\n",
      "Test error: 0.4141751\n",
      "Time Taken: 0:01:19.775604\n",
      "\n",
      "\n",
      "epoch: 7\n"
     ]
    },
    {
     "data": {
      "text/html": [
       "\n",
       "        <progress\n",
       "            value='355'\n",
       "            max='356',\n",
       "            style='width: 100%'\n",
       "        >\n",
       "            355\n",
       "        </progress>\n",
       "    "
      ],
      "text/plain": [
       "<IPython.core.display.HTML object>"
      ]
     },
     "metadata": {},
     "output_type": "display_data"
    },
    {
     "name": "stdout",
     "output_type": "stream",
     "text": [
      "Train error: 0.4083808270978256\n",
      "Test error: 0.4106269\n",
      "Time Taken: 0:01:19.852991\n",
      "\n",
      "\n",
      "epoch: 8\n"
     ]
    },
    {
     "data": {
      "text/html": [
       "\n",
       "        <progress\n",
       "            value='355'\n",
       "            max='356',\n",
       "            style='width: 100%'\n",
       "        >\n",
       "            355\n",
       "        </progress>\n",
       "    "
      ],
      "text/plain": [
       "<IPython.core.display.HTML object>"
      ]
     },
     "metadata": {},
     "output_type": "display_data"
    },
    {
     "name": "stdout",
     "output_type": "stream",
     "text": [
      "Train error: 0.4069521895596679\n",
      "Test error: 0.40792188\n",
      "Time Taken: 0:01:19.595002\n",
      "\n",
      "\n",
      "epoch: 9\n"
     ]
    },
    {
     "data": {
      "text/html": [
       "\n",
       "        <progress\n",
       "            value='355'\n",
       "            max='356',\n",
       "            style='width: 100%'\n",
       "        >\n",
       "            355\n",
       "        </progress>\n",
       "    "
      ],
      "text/plain": [
       "<IPython.core.display.HTML object>"
      ]
     },
     "metadata": {},
     "output_type": "display_data"
    },
    {
     "name": "stdout",
     "output_type": "stream",
     "text": [
      "Train error: 0.4028784596584213\n",
      "Test error: 0.40405408\n",
      "Time Taken: 0:01:19.480187\n",
      "\n",
      "\n",
      "epoch: 10\n"
     ]
    },
    {
     "data": {
      "text/html": [
       "\n",
       "        <progress\n",
       "            value='355'\n",
       "            max='356',\n",
       "            style='width: 100%'\n",
       "        >\n",
       "            355\n",
       "        </progress>\n",
       "    "
      ],
      "text/plain": [
       "<IPython.core.display.HTML object>"
      ]
     },
     "metadata": {},
     "output_type": "display_data"
    },
    {
     "name": "stdout",
     "output_type": "stream",
     "text": [
      "Train error: 0.4008277737758529\n",
      "Test error: 0.40130526\n",
      "Time Taken: 0:01:19.874617\n",
      "\n",
      "\n",
      "epoch: 11\n"
     ]
    },
    {
     "data": {
      "text/html": [
       "\n",
       "        <progress\n",
       "            value='355'\n",
       "            max='356',\n",
       "            style='width: 100%'\n",
       "        >\n",
       "            355\n",
       "        </progress>\n",
       "    "
      ],
      "text/plain": [
       "<IPython.core.display.HTML object>"
      ]
     },
     "metadata": {},
     "output_type": "display_data"
    },
    {
     "name": "stdout",
     "output_type": "stream",
     "text": [
      "Train error: 0.3999268567058402\n",
      "Test error: 0.40467617\n",
      "Time Taken: 0:01:19.605361\n",
      "\n",
      "\n",
      "epoch: 12\n"
     ]
    },
    {
     "data": {
      "text/html": [
       "\n",
       "        <progress\n",
       "            value='355'\n",
       "            max='356',\n",
       "            style='width: 100%'\n",
       "        >\n",
       "            355\n",
       "        </progress>\n",
       "    "
      ],
      "text/plain": [
       "<IPython.core.display.HTML object>"
      ]
     },
     "metadata": {},
     "output_type": "display_data"
    },
    {
     "name": "stdout",
     "output_type": "stream",
     "text": [
      "Train error: 0.39969873411554685\n",
      "Test error: 0.4024387\n",
      "Time Taken: 0:01:19.754138\n",
      "\n",
      "\n",
      "epoch: 13\n"
     ]
    },
    {
     "data": {
      "text/html": [
       "\n",
       "        <progress\n",
       "            value='355'\n",
       "            max='356',\n",
       "            style='width: 100%'\n",
       "        >\n",
       "            355\n",
       "        </progress>\n",
       "    "
      ],
      "text/plain": [
       "<IPython.core.display.HTML object>"
      ]
     },
     "metadata": {},
     "output_type": "display_data"
    },
    {
     "name": "stdout",
     "output_type": "stream",
     "text": [
      "Train error: 0.39673206461987026\n",
      "Test error: 0.40288725\n",
      "Time Taken: 0:01:20.325614\n",
      "\n",
      "\n",
      "epoch: 14\n"
     ]
    },
    {
     "data": {
      "text/html": [
       "\n",
       "        <progress\n",
       "            value='355'\n",
       "            max='356',\n",
       "            style='width: 100%'\n",
       "        >\n",
       "            355\n",
       "        </progress>\n",
       "    "
      ],
      "text/plain": [
       "<IPython.core.display.HTML object>"
      ]
     },
     "metadata": {},
     "output_type": "display_data"
    },
    {
     "name": "stdout",
     "output_type": "stream",
     "text": [
      "Train error: 0.39591943134724256\n",
      "Test error: 0.40191326\n",
      "Time Taken: 0:01:19.496172\n",
      "\n",
      "\n",
      "epoch: 15\n"
     ]
    },
    {
     "data": {
      "text/html": [
       "\n",
       "        <progress\n",
       "            value='355'\n",
       "            max='356',\n",
       "            style='width: 100%'\n",
       "        >\n",
       "            355\n",
       "        </progress>\n",
       "    "
      ],
      "text/plain": [
       "<IPython.core.display.HTML object>"
      ]
     },
     "metadata": {},
     "output_type": "display_data"
    },
    {
     "name": "stdout",
     "output_type": "stream",
     "text": [
      "Train error: 0.3953502945497002\n",
      "Test error: 0.40037066\n",
      "Time Taken: 0:01:19.995628\n",
      "\n",
      "\n",
      "epoch: 16\n"
     ]
    },
    {
     "data": {
      "text/html": [
       "\n",
       "        <progress\n",
       "            value='355'\n",
       "            max='356',\n",
       "            style='width: 100%'\n",
       "        >\n",
       "            355\n",
       "        </progress>\n",
       "    "
      ],
      "text/plain": [
       "<IPython.core.display.HTML object>"
      ]
     },
     "metadata": {},
     "output_type": "display_data"
    },
    {
     "name": "stdout",
     "output_type": "stream",
     "text": [
      "Train error: 0.3942396338556854\n",
      "Test error: 0.39961666\n",
      "Time Taken: 0:01:20.024110\n",
      "\n",
      "\n",
      "epoch: 17\n"
     ]
    },
    {
     "data": {
      "text/html": [
       "\n",
       "        <progress\n",
       "            value='355'\n",
       "            max='356',\n",
       "            style='width: 100%'\n",
       "        >\n",
       "            355\n",
       "        </progress>\n",
       "    "
      ],
      "text/plain": [
       "<IPython.core.display.HTML object>"
      ]
     },
     "metadata": {},
     "output_type": "display_data"
    },
    {
     "name": "stdout",
     "output_type": "stream",
     "text": [
      "Train error: 0.39559616035139056\n",
      "Test error: 0.40142098\n",
      "Time Taken: 0:01:20.730046\n",
      "\n",
      "\n",
      "epoch: 18\n"
     ]
    },
    {
     "data": {
      "text/html": [
       "\n",
       "        <progress\n",
       "            value='355'\n",
       "            max='356',\n",
       "            style='width: 100%'\n",
       "        >\n",
       "            355\n",
       "        </progress>\n",
       "    "
      ],
      "text/plain": [
       "<IPython.core.display.HTML object>"
      ]
     },
     "metadata": {},
     "output_type": "display_data"
    },
    {
     "name": "stdout",
     "output_type": "stream",
     "text": [
      "Train error: 0.3957769063157095\n",
      "Test error: 0.40465602\n",
      "Time Taken: 0:01:19.778683\n",
      "\n",
      "\n",
      "epoch: 19\n"
     ]
    },
    {
     "data": {
      "text/html": [
       "\n",
       "        <progress\n",
       "            value='355'\n",
       "            max='356',\n",
       "            style='width: 100%'\n",
       "        >\n",
       "            355\n",
       "        </progress>\n",
       "    "
      ],
      "text/plain": [
       "<IPython.core.display.HTML object>"
      ]
     },
     "metadata": {},
     "output_type": "display_data"
    },
    {
     "name": "stdout",
     "output_type": "stream",
     "text": [
      "Train error: 0.39376496958061\n",
      "Test error: 0.40362042\n",
      "Time Taken: 0:01:18.505959\n",
      "\n",
      "\n",
      "epoch: 20\n"
     ]
    },
    {
     "data": {
      "text/html": [
       "\n",
       "        <progress\n",
       "            value='355'\n",
       "            max='356',\n",
       "            style='width: 100%'\n",
       "        >\n",
       "            355\n",
       "        </progress>\n",
       "    "
      ],
      "text/plain": [
       "<IPython.core.display.HTML object>"
      ]
     },
     "metadata": {},
     "output_type": "display_data"
    },
    {
     "name": "stdout",
     "output_type": "stream",
     "text": [
      "Train error: 0.39306751330133893\n",
      "Test error: 0.4000378\n",
      "Time Taken: 0:01:18.244676\n",
      "\n",
      "\n",
      "epoch: 21\n"
     ]
    },
    {
     "data": {
      "text/html": [
       "\n",
       "        <progress\n",
       "            value='355'\n",
       "            max='356',\n",
       "            style='width: 100%'\n",
       "        >\n",
       "            355\n",
       "        </progress>\n",
       "    "
      ],
      "text/plain": [
       "<IPython.core.display.HTML object>"
      ]
     },
     "metadata": {},
     "output_type": "display_data"
    },
    {
     "name": "stdout",
     "output_type": "stream",
     "text": [
      "Train error: 0.39227914701045397\n",
      "Test error: 0.399169\n",
      "Time Taken: 0:01:18.558811\n",
      "\n",
      "\n",
      "epoch: 22\n"
     ]
    },
    {
     "data": {
      "text/html": [
       "\n",
       "        <progress\n",
       "            value='355'\n",
       "            max='356',\n",
       "            style='width: 100%'\n",
       "        >\n",
       "            355\n",
       "        </progress>\n",
       "    "
      ],
      "text/plain": [
       "<IPython.core.display.HTML object>"
      ]
     },
     "metadata": {},
     "output_type": "display_data"
    },
    {
     "name": "stdout",
     "output_type": "stream",
     "text": [
      "Train error: 0.3925695775260388\n",
      "Test error: 0.4009065\n",
      "Time Taken: 0:01:18.402229\n",
      "\n",
      "\n",
      "epoch: 23\n"
     ]
    },
    {
     "data": {
      "text/html": [
       "\n",
       "        <progress\n",
       "            value='355'\n",
       "            max='356',\n",
       "            style='width: 100%'\n",
       "        >\n",
       "            355\n",
       "        </progress>\n",
       "    "
      ],
      "text/plain": [
       "<IPython.core.display.HTML object>"
      ]
     },
     "metadata": {},
     "output_type": "display_data"
    },
    {
     "name": "stdout",
     "output_type": "stream",
     "text": [
      "Train error: 0.3905989194420022\n",
      "Test error: 0.39868537\n",
      "Time Taken: 0:01:18.296572\n",
      "\n",
      "\n",
      "epoch: 24\n"
     ]
    },
    {
     "data": {
      "text/html": [
       "\n",
       "        <progress\n",
       "            value='355'\n",
       "            max='356',\n",
       "            style='width: 100%'\n",
       "        >\n",
       "            355\n",
       "        </progress>\n",
       "    "
      ],
      "text/plain": [
       "<IPython.core.display.HTML object>"
      ]
     },
     "metadata": {},
     "output_type": "display_data"
    },
    {
     "name": "stdout",
     "output_type": "stream",
     "text": [
      "Train error: 0.39118177152015793\n",
      "Test error: 0.3999801\n",
      "Time Taken: 0:01:18.237652\n",
      "\n",
      "\n",
      "epoch: 25\n"
     ]
    },
    {
     "data": {
      "text/html": [
       "\n",
       "        <progress\n",
       "            value='355'\n",
       "            max='356',\n",
       "            style='width: 100%'\n",
       "        >\n",
       "            355\n",
       "        </progress>\n",
       "    "
      ],
      "text/plain": [
       "<IPython.core.display.HTML object>"
      ]
     },
     "metadata": {},
     "output_type": "display_data"
    },
    {
     "name": "stdout",
     "output_type": "stream",
     "text": [
      "Train error: 0.3908767603652578\n",
      "Test error: 0.3979093\n",
      "Time Taken: 0:01:18.641590\n",
      "\n",
      "\n",
      "epoch: 26\n"
     ]
    },
    {
     "data": {
      "text/html": [
       "\n",
       "        <progress\n",
       "            value='355'\n",
       "            max='356',\n",
       "            style='width: 100%'\n",
       "        >\n",
       "            355\n",
       "        </progress>\n",
       "    "
      ],
      "text/plain": [
       "<IPython.core.display.HTML object>"
      ]
     },
     "metadata": {},
     "output_type": "display_data"
    },
    {
     "name": "stdout",
     "output_type": "stream",
     "text": [
      "Train error: 0.38979977595974025\n",
      "Test error: 0.39805079\n",
      "Time Taken: 0:01:18.512943\n",
      "\n",
      "\n",
      "epoch: 27\n"
     ]
    },
    {
     "data": {
      "text/html": [
       "\n",
       "        <progress\n",
       "            value='355'\n",
       "            max='356',\n",
       "            style='width: 100%'\n",
       "        >\n",
       "            355\n",
       "        </progress>\n",
       "    "
      ],
      "text/plain": [
       "<IPython.core.display.HTML object>"
      ]
     },
     "metadata": {},
     "output_type": "display_data"
    },
    {
     "name": "stdout",
     "output_type": "stream",
     "text": [
      "Train error: 0.39018971819273185\n",
      "Test error: 0.39938608\n",
      "Time Taken: 0:01:18.177831\n",
      "\n",
      "\n",
      "epoch: 28\n"
     ]
    },
    {
     "data": {
      "text/html": [
       "\n",
       "        <progress\n",
       "            value='355'\n",
       "            max='356',\n",
       "            style='width: 100%'\n",
       "        >\n",
       "            355\n",
       "        </progress>\n",
       "    "
      ],
      "text/plain": [
       "<IPython.core.display.HTML object>"
      ]
     },
     "metadata": {},
     "output_type": "display_data"
    },
    {
     "name": "stdout",
     "output_type": "stream",
     "text": [
      "Train error: 0.38939980973660104\n",
      "Test error: 0.39884654\n",
      "Time Taken: 0:01:18.214732\n",
      "\n",
      "\n",
      "epoch: 29\n"
     ]
    },
    {
     "data": {
      "text/html": [
       "\n",
       "        <progress\n",
       "            value='355'\n",
       "            max='356',\n",
       "            style='width: 100%'\n",
       "        >\n",
       "            355\n",
       "        </progress>\n",
       "    "
      ],
      "text/plain": [
       "<IPython.core.display.HTML object>"
      ]
     },
     "metadata": {},
     "output_type": "display_data"
    },
    {
     "name": "stdout",
     "output_type": "stream",
     "text": [
      "Train error: 0.38913486868562835\n",
      "Test error: 0.40094307\n",
      "Time Taken: 0:01:18.374322\n",
      "\n",
      "\n",
      "epoch: 30\n"
     ]
    },
    {
     "data": {
      "text/html": [
       "\n",
       "        <progress\n",
       "            value='355'\n",
       "            max='356',\n",
       "            style='width: 100%'\n",
       "        >\n",
       "            355\n",
       "        </progress>\n",
       "    "
      ],
      "text/plain": [
       "<IPython.core.display.HTML object>"
      ]
     },
     "metadata": {},
     "output_type": "display_data"
    },
    {
     "name": "stdout",
     "output_type": "stream",
     "text": [
      "Train error: 0.38957627684297697\n",
      "Test error: 0.39931506\n",
      "Time Taken: 0:01:18.720379\n",
      "\n",
      "\n",
      "epoch: 31\n"
     ]
    },
    {
     "data": {
      "text/html": [
       "\n",
       "        <progress\n",
       "            value='355'\n",
       "            max='356',\n",
       "            style='width: 100%'\n",
       "        >\n",
       "            355\n",
       "        </progress>\n",
       "    "
      ],
      "text/plain": [
       "<IPython.core.display.HTML object>"
      ]
     },
     "metadata": {},
     "output_type": "display_data"
    },
    {
     "name": "stdout",
     "output_type": "stream",
     "text": [
      "Train error: 0.3890064293230084\n",
      "Test error: 0.39635944\n",
      "Time Taken: 0:01:18.267630\n",
      "\n",
      "\n",
      "epoch: 32\n"
     ]
    },
    {
     "data": {
      "text/html": [
       "\n",
       "        <progress\n",
       "            value='355'\n",
       "            max='356',\n",
       "            style='width: 100%'\n",
       "        >\n",
       "            355\n",
       "        </progress>\n",
       "    "
      ],
      "text/plain": [
       "<IPython.core.display.HTML object>"
      ]
     },
     "metadata": {},
     "output_type": "display_data"
    },
    {
     "name": "stdout",
     "output_type": "stream",
     "text": [
      "Train error: 0.3891071840910844\n",
      "Test error: 0.39781088\n",
      "Time Taken: 0:01:18.562800\n",
      "\n",
      "\n",
      "epoch: 33\n"
     ]
    },
    {
     "data": {
      "text/html": [
       "\n",
       "        <progress\n",
       "            value='355'\n",
       "            max='356',\n",
       "            style='width: 100%'\n",
       "        >\n",
       "            355\n",
       "        </progress>\n",
       "    "
      ],
      "text/plain": [
       "<IPython.core.display.HTML object>"
      ]
     },
     "metadata": {},
     "output_type": "display_data"
    },
    {
     "name": "stdout",
     "output_type": "stream",
     "text": [
      "Train error: 0.3895210646407705\n",
      "Test error: 0.40204298\n",
      "Time Taken: 0:01:18.309478\n",
      "\n",
      "\n",
      "epoch: 34\n"
     ]
    },
    {
     "data": {
      "text/html": [
       "\n",
       "        <progress\n",
       "            value='355'\n",
       "            max='356',\n",
       "            style='width: 100%'\n",
       "        >\n",
       "            355\n",
       "        </progress>\n",
       "    "
      ],
      "text/plain": [
       "<IPython.core.display.HTML object>"
      ]
     },
     "metadata": {},
     "output_type": "display_data"
    },
    {
     "name": "stdout",
     "output_type": "stream",
     "text": [
      "Train error: 0.3882232922903249\n",
      "Test error: 0.39532244\n",
      "Time Taken: 0:01:18.327437\n",
      "\n",
      "\n",
      "epoch: 35\n"
     ]
    },
    {
     "data": {
      "text/html": [
       "\n",
       "        <progress\n",
       "            value='355'\n",
       "            max='356',\n",
       "            style='width: 100%'\n",
       "        >\n",
       "            355\n",
       "        </progress>\n",
       "    "
      ],
      "text/plain": [
       "<IPython.core.display.HTML object>"
      ]
     },
     "metadata": {},
     "output_type": "display_data"
    },
    {
     "name": "stdout",
     "output_type": "stream",
     "text": [
      "Train error: 0.3873269934889296\n",
      "Test error: 0.40180895\n",
      "Time Taken: 0:01:18.515927\n",
      "\n",
      "\n",
      "epoch: 36\n"
     ]
    },
    {
     "data": {
      "text/html": [
       "\n",
       "        <progress\n",
       "            value='355'\n",
       "            max='356',\n",
       "            style='width: 100%'\n",
       "        >\n",
       "            355\n",
       "        </progress>\n",
       "    "
      ],
      "text/plain": [
       "<IPython.core.display.HTML object>"
      ]
     },
     "metadata": {},
     "output_type": "display_data"
    },
    {
     "name": "stdout",
     "output_type": "stream",
     "text": [
      "Train error: 0.3878162150651636\n",
      "Test error: 0.39804354\n",
      "Time Taken: 0:01:18.537901\n",
      "\n",
      "\n",
      "epoch: 37\n"
     ]
    },
    {
     "data": {
      "text/html": [
       "\n",
       "        <progress\n",
       "            value='355'\n",
       "            max='356',\n",
       "            style='width: 100%'\n",
       "        >\n",
       "            355\n",
       "        </progress>\n",
       "    "
      ],
      "text/plain": [
       "<IPython.core.display.HTML object>"
      ]
     },
     "metadata": {},
     "output_type": "display_data"
    },
    {
     "name": "stdout",
     "output_type": "stream",
     "text": [
      "Train error: 0.387369425112093\n",
      "Test error: 0.39702895\n",
      "Time Taken: 0:01:18.383321\n",
      "\n",
      "\n",
      "epoch: 38\n"
     ]
    },
    {
     "data": {
      "text/html": [
       "\n",
       "        <progress\n",
       "            value='355'\n",
       "            max='356',\n",
       "            style='width: 100%'\n",
       "        >\n",
       "            355\n",
       "        </progress>\n",
       "    "
      ],
      "text/plain": [
       "<IPython.core.display.HTML object>"
      ]
     },
     "metadata": {},
     "output_type": "display_data"
    },
    {
     "name": "stdout",
     "output_type": "stream",
     "text": [
      "Train error: 0.3871651414414527\n",
      "Test error: 0.39470792\n",
      "Time Taken: 0:01:18.327430\n",
      "\n",
      "\n",
      "epoch: 39\n"
     ]
    },
    {
     "data": {
      "text/html": [
       "\n",
       "        <progress\n",
       "            value='355'\n",
       "            max='356',\n",
       "            style='width: 100%'\n",
       "        >\n",
       "            355\n",
       "        </progress>\n",
       "    "
      ],
      "text/plain": [
       "<IPython.core.display.HTML object>"
      ]
     },
     "metadata": {},
     "output_type": "display_data"
    },
    {
     "name": "stdout",
     "output_type": "stream",
     "text": [
      "Train error: 0.38697693070895234\n",
      "Test error: 0.39779785\n",
      "Time Taken: 0:01:18.359361\n",
      "\n",
      "\n",
      "epoch: 40\n"
     ]
    },
    {
     "data": {
      "text/html": [
       "\n",
       "        <progress\n",
       "            value='355'\n",
       "            max='356',\n",
       "            style='width: 100%'\n",
       "        >\n",
       "            355\n",
       "        </progress>\n",
       "    "
      ],
      "text/plain": [
       "<IPython.core.display.HTML object>"
      ]
     },
     "metadata": {},
     "output_type": "display_data"
    },
    {
     "name": "stdout",
     "output_type": "stream",
     "text": [
      "Train error: 0.3869427892523752\n",
      "Test error: 0.39592868\n",
      "Time Taken: 0:01:18.504970\n",
      "\n",
      "\n",
      "epoch: 41\n"
     ]
    },
    {
     "data": {
      "text/html": [
       "\n",
       "        <progress\n",
       "            value='355'\n",
       "            max='356',\n",
       "            style='width: 100%'\n",
       "        >\n",
       "            355\n",
       "        </progress>\n",
       "    "
      ],
      "text/plain": [
       "<IPython.core.display.HTML object>"
      ]
     },
     "metadata": {},
     "output_type": "display_data"
    },
    {
     "name": "stdout",
     "output_type": "stream",
     "text": [
      "Train error: 0.3861770119465573\n",
      "Test error: 0.39446196\n",
      "Time Taken: 0:01:18.238668\n",
      "\n",
      "\n",
      "epoch: 42\n"
     ]
    },
    {
     "data": {
      "text/html": [
       "\n",
       "        <progress\n",
       "            value='355'\n",
       "            max='356',\n",
       "            style='width: 100%'\n",
       "        >\n",
       "            355\n",
       "        </progress>\n",
       "    "
      ],
      "text/plain": [
       "<IPython.core.display.HTML object>"
      ]
     },
     "metadata": {},
     "output_type": "display_data"
    },
    {
     "name": "stdout",
     "output_type": "stream",
     "text": [
      "Train error: 0.3863742212174644\n",
      "Test error: 0.393722\n",
      "Time Taken: 0:01:18.592720\n",
      "\n",
      "\n",
      "epoch: 43\n"
     ]
    },
    {
     "data": {
      "text/html": [
       "\n",
       "        <progress\n",
       "            value='355'\n",
       "            max='356',\n",
       "            style='width: 100%'\n",
       "        >\n",
       "            355\n",
       "        </progress>\n",
       "    "
      ],
      "text/plain": [
       "<IPython.core.display.HTML object>"
      ]
     },
     "metadata": {},
     "output_type": "display_data"
    },
    {
     "name": "stdout",
     "output_type": "stream",
     "text": [
      "Train error: 0.38628953712087283\n",
      "Test error: 0.3999673\n",
      "Time Taken: 0:01:18.320474\n",
      "\n",
      "\n",
      "epoch: 44\n"
     ]
    },
    {
     "data": {
      "text/html": [
       "\n",
       "        <progress\n",
       "            value='355'\n",
       "            max='356',\n",
       "            style='width: 100%'\n",
       "        >\n",
       "            355\n",
       "        </progress>\n",
       "    "
      ],
      "text/plain": [
       "<IPython.core.display.HTML object>"
      ]
     },
     "metadata": {},
     "output_type": "display_data"
    },
    {
     "name": "stdout",
     "output_type": "stream",
     "text": [
      "Train error: 0.38578178681118386\n",
      "Test error: 0.39650014\n",
      "Time Taken: 0:01:18.461103\n",
      "\n",
      "\n",
      "epoch: 45\n"
     ]
    },
    {
     "data": {
      "text/html": [
       "\n",
       "        <progress\n",
       "            value='355'\n",
       "            max='356',\n",
       "            style='width: 100%'\n",
       "        >\n",
       "            355\n",
       "        </progress>\n",
       "    "
      ],
      "text/plain": [
       "<IPython.core.display.HTML object>"
      ]
     },
     "metadata": {},
     "output_type": "display_data"
    },
    {
     "name": "stdout",
     "output_type": "stream",
     "text": [
      "Train error: 0.3861345885505139\n",
      "Test error: 0.395539\n",
      "Time Taken: 0:01:18.525914\n",
      "\n",
      "\n",
      "epoch: 46\n"
     ]
    },
    {
     "data": {
      "text/html": [
       "\n",
       "        <progress\n",
       "            value='355'\n",
       "            max='356',\n",
       "            style='width: 100%'\n",
       "        >\n",
       "            355\n",
       "        </progress>\n",
       "    "
      ],
      "text/plain": [
       "<IPython.core.display.HTML object>"
      ]
     },
     "metadata": {},
     "output_type": "display_data"
    },
    {
     "name": "stdout",
     "output_type": "stream",
     "text": [
      "Train error: 0.38614430595451676\n",
      "Test error: 0.39603847\n",
      "Time Taken: 0:01:18.272595\n",
      "\n",
      "\n",
      "epoch: 47\n"
     ]
    },
    {
     "data": {
      "text/html": [
       "\n",
       "        <progress\n",
       "            value='355'\n",
       "            max='356',\n",
       "            style='width: 100%'\n",
       "        >\n",
       "            355\n",
       "        </progress>\n",
       "    "
      ],
      "text/plain": [
       "<IPython.core.display.HTML object>"
      ]
     },
     "metadata": {},
     "output_type": "display_data"
    },
    {
     "name": "stdout",
     "output_type": "stream",
     "text": [
      "Train error: 0.38574178546247345\n",
      "Test error: 0.39701512\n",
      "Time Taken: 0:01:18.411227\n",
      "\n",
      "\n",
      "epoch: 48\n"
     ]
    },
    {
     "data": {
      "text/html": [
       "\n",
       "        <progress\n",
       "            value='355'\n",
       "            max='356',\n",
       "            style='width: 100%'\n",
       "        >\n",
       "            355\n",
       "        </progress>\n",
       "    "
      ],
      "text/plain": [
       "<IPython.core.display.HTML object>"
      ]
     },
     "metadata": {},
     "output_type": "display_data"
    },
    {
     "name": "stdout",
     "output_type": "stream",
     "text": [
      "Train error: 0.3851321088596129\n",
      "Test error: 0.39450562\n",
      "Time Taken: 0:01:18.336437\n",
      "\n",
      "\n",
      "epoch: 49\n"
     ]
    },
    {
     "data": {
      "text/html": [
       "\n",
       "        <progress\n",
       "            value='355'\n",
       "            max='356',\n",
       "            style='width: 100%'\n",
       "        >\n",
       "            355\n",
       "        </progress>\n",
       "    "
      ],
      "text/plain": [
       "<IPython.core.display.HTML object>"
      ]
     },
     "metadata": {},
     "output_type": "display_data"
    },
    {
     "name": "stdout",
     "output_type": "stream",
     "text": [
      "Train error: 0.38591044276532993\n",
      "Test error: 0.3973521\n",
      "Time Taken: 0:01:18.404238\n",
      "\n",
      "\n",
      "epoch: 50\n"
     ]
    },
    {
     "data": {
      "text/html": [
       "\n",
       "        <progress\n",
       "            value='355'\n",
       "            max='356',\n",
       "            style='width: 100%'\n",
       "        >\n",
       "            355\n",
       "        </progress>\n",
       "    "
      ],
      "text/plain": [
       "<IPython.core.display.HTML object>"
      ]
     },
     "metadata": {},
     "output_type": "display_data"
    },
    {
     "name": "stdout",
     "output_type": "stream",
     "text": [
      "Train error: 0.38584163348439715\n",
      "Test error: 0.39574942\n",
      "Time Taken: 0:01:18.057152\n",
      "\n",
      "\n",
      "epoch: 51\n"
     ]
    },
    {
     "data": {
      "text/html": [
       "\n",
       "        <progress\n",
       "            value='355'\n",
       "            max='356',\n",
       "            style='width: 100%'\n",
       "        >\n",
       "            355\n",
       "        </progress>\n",
       "    "
      ],
      "text/plain": [
       "<IPython.core.display.HTML object>"
      ]
     },
     "metadata": {},
     "output_type": "display_data"
    },
    {
     "name": "stdout",
     "output_type": "stream",
     "text": [
      "Train error: 0.38629265536724683\n",
      "Test error: 0.3956116\n",
      "Time Taken: 0:01:18.298524\n",
      "\n",
      "\n",
      "epoch: 52\n"
     ]
    },
    {
     "data": {
      "text/html": [
       "\n",
       "        <progress\n",
       "            value='355'\n",
       "            max='356',\n",
       "            style='width: 100%'\n",
       "        >\n",
       "            355\n",
       "        </progress>\n",
       "    "
      ],
      "text/plain": [
       "<IPython.core.display.HTML object>"
      ]
     },
     "metadata": {},
     "output_type": "display_data"
    },
    {
     "name": "stdout",
     "output_type": "stream",
     "text": [
      "Train error: 0.3856026707400738\n",
      "Test error: 0.39302078\n",
      "Time Taken: 0:01:18.479054\n",
      "\n",
      "\n",
      "epoch: 53\n"
     ]
    },
    {
     "data": {
      "text/html": [
       "\n",
       "        <progress\n",
       "            value='355'\n",
       "            max='356',\n",
       "            style='width: 100%'\n",
       "        >\n",
       "            355\n",
       "        </progress>\n",
       "    "
      ],
      "text/plain": [
       "<IPython.core.display.HTML object>"
      ]
     },
     "metadata": {},
     "output_type": "display_data"
    },
    {
     "name": "stdout",
     "output_type": "stream",
     "text": [
      "Train error: 0.38521460798424734\n",
      "Test error: 0.39417946\n",
      "Time Taken: 0:01:18.324437\n",
      "\n",
      "\n",
      "epoch: 54\n"
     ]
    },
    {
     "data": {
      "text/html": [
       "\n",
       "        <progress\n",
       "            value='355'\n",
       "            max='356',\n",
       "            style='width: 100%'\n",
       "        >\n",
       "            355\n",
       "        </progress>\n",
       "    "
      ],
      "text/plain": [
       "<IPython.core.display.HTML object>"
      ]
     },
     "metadata": {},
     "output_type": "display_data"
    },
    {
     "name": "stdout",
     "output_type": "stream",
     "text": [
      "Train error: 0.38491422391273605\n",
      "Test error: 0.39747536\n",
      "Time Taken: 0:01:18.238668\n",
      "\n",
      "\n",
      "epoch: 55\n"
     ]
    },
    {
     "data": {
      "text/html": [
       "\n",
       "        <progress\n",
       "            value='355'\n",
       "            max='356',\n",
       "            style='width: 100%'\n",
       "        >\n",
       "            355\n",
       "        </progress>\n",
       "    "
      ],
      "text/plain": [
       "<IPython.core.display.HTML object>"
      ]
     },
     "metadata": {},
     "output_type": "display_data"
    },
    {
     "name": "stdout",
     "output_type": "stream",
     "text": [
      "Train error: 0.3842552708907866\n",
      "Test error: 0.3927103\n",
      "Time Taken: 0:01:18.445105\n",
      "\n",
      "\n",
      "epoch: 56\n"
     ]
    },
    {
     "data": {
      "text/html": [
       "\n",
       "        <progress\n",
       "            value='355'\n",
       "            max='356',\n",
       "            style='width: 100%'\n",
       "        >\n",
       "            355\n",
       "        </progress>\n",
       "    "
      ],
      "text/plain": [
       "<IPython.core.display.HTML object>"
      ]
     },
     "metadata": {},
     "output_type": "display_data"
    },
    {
     "name": "stdout",
     "output_type": "stream",
     "text": [
      "Train error: 0.38553276767193434\n",
      "Test error: 0.39620185\n",
      "Time Taken: 0:01:18.436180\n",
      "\n",
      "\n",
      "epoch: 57\n"
     ]
    },
    {
     "data": {
      "text/html": [
       "\n",
       "        <progress\n",
       "            value='355'\n",
       "            max='356',\n",
       "            style='width: 100%'\n",
       "        >\n",
       "            355\n",
       "        </progress>\n",
       "    "
      ],
      "text/plain": [
       "<IPython.core.display.HTML object>"
      ]
     },
     "metadata": {},
     "output_type": "display_data"
    },
    {
     "name": "stdout",
     "output_type": "stream",
     "text": [
      "Train error: 0.38354200695601987\n",
      "Test error: 0.3957036\n",
      "Time Taken: 0:01:18.306486\n",
      "\n",
      "\n",
      "epoch: 58\n"
     ]
    },
    {
     "data": {
      "text/html": [
       "\n",
       "        <progress\n",
       "            value='355'\n",
       "            max='356',\n",
       "            style='width: 100%'\n",
       "        >\n",
       "            355\n",
       "        </progress>\n",
       "    "
      ],
      "text/plain": [
       "<IPython.core.display.HTML object>"
      ]
     },
     "metadata": {},
     "output_type": "display_data"
    },
    {
     "name": "stdout",
     "output_type": "stream",
     "text": [
      "Train error: 0.3839859541033355\n",
      "Test error: 0.3937932\n",
      "Time Taken: 0:01:18.619680\n",
      "\n",
      "\n",
      "epoch: 59\n"
     ]
    },
    {
     "data": {
      "text/html": [
       "\n",
       "        <progress\n",
       "            value='355'\n",
       "            max='356',\n",
       "            style='width: 100%'\n",
       "        >\n",
       "            355\n",
       "        </progress>\n",
       "    "
      ],
      "text/plain": [
       "<IPython.core.display.HTML object>"
      ]
     },
     "metadata": {},
     "output_type": "display_data"
    },
    {
     "name": "stdout",
     "output_type": "stream",
     "text": [
      "Train error: 0.3832507706863779\n",
      "Test error: 0.39589363\n",
      "Time Taken: 0:01:18.253634\n",
      "\n",
      "\n",
      "epoch: 60\n"
     ]
    },
    {
     "data": {
      "text/html": [
       "\n",
       "        <progress\n",
       "            value='355'\n",
       "            max='356',\n",
       "            style='width: 100%'\n",
       "        >\n",
       "            355\n",
       "        </progress>\n",
       "    "
      ],
      "text/plain": [
       "<IPython.core.display.HTML object>"
      ]
     },
     "metadata": {},
     "output_type": "display_data"
    },
    {
     "name": "stdout",
     "output_type": "stream",
     "text": [
      "Train error: 0.3832185073637627\n",
      "Test error: 0.39150062\n",
      "Time Taken: 0:01:18.425168\n",
      "\n",
      "\n",
      "epoch: 61\n"
     ]
    },
    {
     "data": {
      "text/html": [
       "\n",
       "        <progress\n",
       "            value='355'\n",
       "            max='356',\n",
       "            style='width: 100%'\n",
       "        >\n",
       "            355\n",
       "        </progress>\n",
       "    "
      ],
      "text/plain": [
       "<IPython.core.display.HTML object>"
      ]
     },
     "metadata": {},
     "output_type": "display_data"
    },
    {
     "name": "stdout",
     "output_type": "stream",
     "text": [
      "Train error: 0.3828682942289702\n",
      "Test error: 0.39251786\n",
      "Time Taken: 0:01:18.276575\n",
      "\n",
      "\n",
      "epoch: 62\n"
     ]
    },
    {
     "data": {
      "text/html": [
       "\n",
       "        <progress\n",
       "            value='355'\n",
       "            max='356',\n",
       "            style='width: 100%'\n",
       "        >\n",
       "            355\n",
       "        </progress>\n",
       "    "
      ],
      "text/plain": [
       "<IPython.core.display.HTML object>"
      ]
     },
     "metadata": {},
     "output_type": "display_data"
    },
    {
     "name": "stdout",
     "output_type": "stream",
     "text": [
      "Train error: 0.38288284212770596\n",
      "Test error: 0.39295426\n",
      "Time Taken: 0:01:19.511261\n",
      "\n",
      "\n",
      "epoch: 63\n"
     ]
    },
    {
     "data": {
      "text/html": [
       "\n",
       "        <progress\n",
       "            value='355'\n",
       "            max='356',\n",
       "            style='width: 100%'\n",
       "        >\n",
       "            355\n",
       "        </progress>\n",
       "    "
      ],
      "text/plain": [
       "<IPython.core.display.HTML object>"
      ]
     },
     "metadata": {},
     "output_type": "display_data"
    },
    {
     "name": "stdout",
     "output_type": "stream",
     "text": [
      "Train error: 0.3832362183382813\n",
      "Test error: 0.39221045\n",
      "Time Taken: 0:01:18.151938\n",
      "\n",
      "\n",
      "epoch: 64\n"
     ]
    },
    {
     "data": {
      "text/html": [
       "\n",
       "        <progress\n",
       "            value='355'\n",
       "            max='356',\n",
       "            style='width: 100%'\n",
       "        >\n",
       "            355\n",
       "        </progress>\n",
       "    "
      ],
      "text/plain": [
       "<IPython.core.display.HTML object>"
      ]
     },
     "metadata": {},
     "output_type": "display_data"
    },
    {
     "name": "stdout",
     "output_type": "stream",
     "text": [
      "Train error: 0.383125578433695\n",
      "Test error: 0.39398542\n",
      "Time Taken: 0:01:18.284544\n",
      "\n",
      "\n",
      "epoch: 65\n"
     ]
    },
    {
     "data": {
      "text/html": [
       "\n",
       "        <progress\n",
       "            value='355'\n",
       "            max='356',\n",
       "            style='width: 100%'\n",
       "        >\n",
       "            355\n",
       "        </progress>\n",
       "    "
      ],
      "text/plain": [
       "<IPython.core.display.HTML object>"
      ]
     },
     "metadata": {},
     "output_type": "display_data"
    },
    {
     "name": "stdout",
     "output_type": "stream",
     "text": [
      "Train error: 0.38211507419465296\n",
      "Test error: 0.39231518\n",
      "Time Taken: 0:01:18.209745\n",
      "\n",
      "\n",
      "epoch: 66\n"
     ]
    },
    {
     "data": {
      "text/html": [
       "\n",
       "        <progress\n",
       "            value='355'\n",
       "            max='356',\n",
       "            style='width: 100%'\n",
       "        >\n",
       "            355\n",
       "        </progress>\n",
       "    "
      ],
      "text/plain": [
       "<IPython.core.display.HTML object>"
      ]
     },
     "metadata": {},
     "output_type": "display_data"
    },
    {
     "name": "stdout",
     "output_type": "stream",
     "text": [
      "Train error: 0.38237417399043766\n",
      "Test error: 0.39418972\n",
      "Time Taken: 0:01:17.979361\n",
      "\n",
      "\n",
      "epoch: 67\n"
     ]
    },
    {
     "data": {
      "text/html": [
       "\n",
       "        <progress\n",
       "            value='355'\n",
       "            max='356',\n",
       "            style='width: 100%'\n",
       "        >\n",
       "            355\n",
       "        </progress>\n",
       "    "
      ],
      "text/plain": [
       "<IPython.core.display.HTML object>"
      ]
     },
     "metadata": {},
     "output_type": "display_data"
    },
    {
     "name": "stdout",
     "output_type": "stream",
     "text": [
      "Train error: 0.3831256244384067\n",
      "Test error: 0.39215463\n",
      "Time Taken: 0:01:17.802833\n",
      "\n",
      "\n",
      "epoch: 68\n"
     ]
    },
    {
     "data": {
      "text/html": [
       "\n",
       "        <progress\n",
       "            value='355'\n",
       "            max='356',\n",
       "            style='width: 100%'\n",
       "        >\n",
       "            355\n",
       "        </progress>\n",
       "    "
      ],
      "text/plain": [
       "<IPython.core.display.HTML object>"
      ]
     },
     "metadata": {},
     "output_type": "display_data"
    },
    {
     "name": "stdout",
     "output_type": "stream",
     "text": [
      "Train error: 0.38257846034748455\n",
      "Test error: 0.392028\n",
      "Time Taken: 0:01:18.215729\n",
      "\n",
      "\n",
      "epoch: 69\n"
     ]
    },
    {
     "data": {
      "text/html": [
       "\n",
       "        <progress\n",
       "            value='355'\n",
       "            max='356',\n",
       "            style='width: 100%'\n",
       "        >\n",
       "            355\n",
       "        </progress>\n",
       "    "
      ],
      "text/plain": [
       "<IPython.core.display.HTML object>"
      ]
     },
     "metadata": {},
     "output_type": "display_data"
    },
    {
     "name": "stdout",
     "output_type": "stream",
     "text": [
      "Train error: 0.38241691933551303\n",
      "Test error: 0.39513418\n",
      "Time Taken: 0:01:17.921516\n",
      "\n",
      "\n",
      "epoch: 70\n"
     ]
    },
    {
     "data": {
      "text/html": [
       "\n",
       "        <progress\n",
       "            value='355'\n",
       "            max='356',\n",
       "            style='width: 100%'\n",
       "        >\n",
       "            355\n",
       "        </progress>\n",
       "    "
      ],
      "text/plain": [
       "<IPython.core.display.HTML object>"
      ]
     },
     "metadata": {},
     "output_type": "display_data"
    },
    {
     "name": "stdout",
     "output_type": "stream",
     "text": [
      "Train error: 0.38173439578271245\n",
      "Test error: 0.39550737\n",
      "Time Taken: 0:01:18.172852\n",
      "\n",
      "\n",
      "epoch: 71\n"
     ]
    },
    {
     "data": {
      "text/html": [
       "\n",
       "        <progress\n",
       "            value='355'\n",
       "            max='356',\n",
       "            style='width: 100%'\n",
       "        >\n",
       "            355\n",
       "        </progress>\n",
       "    "
      ],
      "text/plain": [
       "<IPython.core.display.HTML object>"
      ]
     },
     "metadata": {},
     "output_type": "display_data"
    },
    {
     "name": "stdout",
     "output_type": "stream",
     "text": [
      "Train error: 0.3812211892974209\n",
      "Test error: 0.39434886\n",
      "Time Taken: 0:01:18.306486\n",
      "\n",
      "\n",
      "epoch: 72\n"
     ]
    },
    {
     "data": {
      "text/html": [
       "\n",
       "        <progress\n",
       "            value='355'\n",
       "            max='356',\n",
       "            style='width: 100%'\n",
       "        >\n",
       "            355\n",
       "        </progress>\n",
       "    "
      ],
      "text/plain": [
       "<IPython.core.display.HTML object>"
      ]
     },
     "metadata": {},
     "output_type": "display_data"
    },
    {
     "name": "stdout",
     "output_type": "stream",
     "text": [
      "Train error: 0.38175745833087976\n",
      "Test error: 0.39276913\n",
      "Time Taken: 0:01:18.647572\n",
      "\n",
      "\n",
      "epoch: 73\n"
     ]
    },
    {
     "data": {
      "text/html": [
       "\n",
       "        <progress\n",
       "            value='355'\n",
       "            max='356',\n",
       "            style='width: 100%'\n",
       "        >\n",
       "            355\n",
       "        </progress>\n",
       "    "
      ],
      "text/plain": [
       "<IPython.core.display.HTML object>"
      ]
     },
     "metadata": {},
     "output_type": "display_data"
    },
    {
     "name": "stdout",
     "output_type": "stream",
     "text": [
      "Train error: 0.38180703596330023\n",
      "Test error: 0.3928903\n",
      "Time Taken: 0:01:18.122977\n",
      "\n",
      "\n",
      "epoch: 74\n"
     ]
    },
    {
     "data": {
      "text/html": [
       "\n",
       "        <progress\n",
       "            value='355'\n",
       "            max='356',\n",
       "            style='width: 100%'\n",
       "        >\n",
       "            355\n",
       "        </progress>\n",
       "    "
      ],
      "text/plain": [
       "<IPython.core.display.HTML object>"
      ]
     },
     "metadata": {},
     "output_type": "display_data"
    },
    {
     "name": "stdout",
     "output_type": "stream",
     "text": [
      "Train error: 0.38096486615463043\n",
      "Test error: 0.38975465\n",
      "Time Taken: 0:01:18.264597\n",
      "\n",
      "\n",
      "epoch: 75\n"
     ]
    },
    {
     "data": {
      "text/html": [
       "\n",
       "        <progress\n",
       "            value='355'\n",
       "            max='356',\n",
       "            style='width: 100%'\n",
       "        >\n",
       "            355\n",
       "        </progress>\n",
       "    "
      ],
      "text/plain": [
       "<IPython.core.display.HTML object>"
      ]
     },
     "metadata": {},
     "output_type": "display_data"
    },
    {
     "name": "stdout",
     "output_type": "stream",
     "text": [
      "Train error: 0.38087413680385535\n",
      "Test error: 0.39573792\n",
      "Time Taken: 0:01:18.285541\n",
      "\n",
      "\n",
      "epoch: 76\n"
     ]
    },
    {
     "data": {
      "text/html": [
       "\n",
       "        <progress\n",
       "            value='355'\n",
       "            max='356',\n",
       "            style='width: 100%'\n",
       "        >\n",
       "            355\n",
       "        </progress>\n",
       "    "
      ],
      "text/plain": [
       "<IPython.core.display.HTML object>"
      ]
     },
     "metadata": {},
     "output_type": "display_data"
    },
    {
     "name": "stdout",
     "output_type": "stream",
     "text": [
      "Train error: 0.3820938163240191\n",
      "Test error: 0.39202642\n",
      "Time Taken: 0:01:18.388349\n",
      "\n",
      "\n",
      "epoch: 77\n"
     ]
    },
    {
     "data": {
      "text/html": [
       "\n",
       "        <progress\n",
       "            value='355'\n",
       "            max='356',\n",
       "            style='width: 100%'\n",
       "        >\n",
       "            355\n",
       "        </progress>\n",
       "    "
      ],
      "text/plain": [
       "<IPython.core.display.HTML object>"
      ]
     },
     "metadata": {},
     "output_type": "display_data"
    },
    {
     "name": "stdout",
     "output_type": "stream",
     "text": [
      "Train error: 0.3806167076171284\n",
      "Test error: 0.39067045\n",
      "Time Taken: 0:01:18.133968\n",
      "\n",
      "\n",
      "epoch: 78\n"
     ]
    },
    {
     "data": {
      "text/html": [
       "\n",
       "        <progress\n",
       "            value='355'\n",
       "            max='356',\n",
       "            style='width: 100%'\n",
       "        >\n",
       "            355\n",
       "        </progress>\n",
       "    "
      ],
      "text/plain": [
       "<IPython.core.display.HTML object>"
      ]
     },
     "metadata": {},
     "output_type": "display_data"
    },
    {
     "name": "stdout",
     "output_type": "stream",
     "text": [
      "Train error: 0.38023689439598946\n",
      "Test error: 0.3904159\n",
      "Time Taken: 0:01:18.093056\n",
      "\n",
      "\n",
      "epoch: 79\n"
     ]
    },
    {
     "data": {
      "text/html": [
       "\n",
       "        <progress\n",
       "            value='355'\n",
       "            max='356',\n",
       "            style='width: 100%'\n",
       "        >\n",
       "            355\n",
       "        </progress>\n",
       "    "
      ],
      "text/plain": [
       "<IPython.core.display.HTML object>"
      ]
     },
     "metadata": {},
     "output_type": "display_data"
    },
    {
     "name": "stdout",
     "output_type": "stream",
     "text": [
      "Train error: 0.38050851251038026\n",
      "Test error: 0.3914487\n",
      "Time Taken: 0:01:17.865666\n",
      "\n",
      "\n",
      "epoch: 80\n"
     ]
    },
    {
     "data": {
      "text/html": [
       "\n",
       "        <progress\n",
       "            value='355'\n",
       "            max='356',\n",
       "            style='width: 100%'\n",
       "        >\n",
       "            355\n",
       "        </progress>\n",
       "    "
      ],
      "text/plain": [
       "<IPython.core.display.HTML object>"
      ]
     },
     "metadata": {},
     "output_type": "display_data"
    },
    {
     "name": "stdout",
     "output_type": "stream",
     "text": [
      "Train error: 0.38036611046589597\n",
      "Test error: 0.39158544\n",
      "Time Taken: 0:01:18.286539\n",
      "\n",
      "\n",
      "epoch: 81\n"
     ]
    },
    {
     "data": {
      "text/html": [
       "\n",
       "        <progress\n",
       "            value='355'\n",
       "            max='356',\n",
       "            style='width: 100%'\n",
       "        >\n",
       "            355\n",
       "        </progress>\n",
       "    "
      ],
      "text/plain": [
       "<IPython.core.display.HTML object>"
      ]
     },
     "metadata": {},
     "output_type": "display_data"
    },
    {
     "name": "stdout",
     "output_type": "stream",
     "text": [
      "Train error: 0.3801604538736209\n",
      "Test error: 0.39684772\n",
      "Time Taken: 0:01:18.457102\n",
      "\n",
      "\n",
      "epoch: 82\n"
     ]
    },
    {
     "data": {
      "text/html": [
       "\n",
       "        <progress\n",
       "            value='355'\n",
       "            max='356',\n",
       "            style='width: 100%'\n",
       "        >\n",
       "            355\n",
       "        </progress>\n",
       "    "
      ],
      "text/plain": [
       "<IPython.core.display.HTML object>"
      ]
     },
     "metadata": {},
     "output_type": "display_data"
    },
    {
     "name": "stdout",
     "output_type": "stream",
     "text": [
      "Train error: 0.3799926841762704\n",
      "Test error: 0.39206538\n",
      "Time Taken: 0:01:18.575765\n",
      "\n",
      "\n",
      "epoch: 83\n"
     ]
    },
    {
     "data": {
      "text/html": [
       "\n",
       "        <progress\n",
       "            value='355'\n",
       "            max='356',\n",
       "            style='width: 100%'\n",
       "        >\n",
       "            355\n",
       "        </progress>\n",
       "    "
      ],
      "text/plain": [
       "<IPython.core.display.HTML object>"
      ]
     },
     "metadata": {},
     "output_type": "display_data"
    },
    {
     "name": "stdout",
     "output_type": "stream",
     "text": [
      "Train error: 0.3798882333325668\n",
      "Test error: 0.3931759\n",
      "Time Taken: 0:01:18.195782\n",
      "\n",
      "\n",
      "epoch: 84\n"
     ]
    },
    {
     "data": {
      "text/html": [
       "\n",
       "        <progress\n",
       "            value='355'\n",
       "            max='356',\n",
       "            style='width: 100%'\n",
       "        >\n",
       "            355\n",
       "        </progress>\n",
       "    "
      ],
      "text/plain": [
       "<IPython.core.display.HTML object>"
      ]
     },
     "metadata": {},
     "output_type": "display_data"
    },
    {
     "name": "stdout",
     "output_type": "stream",
     "text": [
      "Train error: 0.38132198259864053\n",
      "Test error: 0.39133772\n",
      "Time Taken: 0:01:18.435141\n",
      "\n",
      "\n",
      "epoch: 85\n"
     ]
    },
    {
     "data": {
      "text/html": [
       "\n",
       "        <progress\n",
       "            value='355'\n",
       "            max='356',\n",
       "            style='width: 100%'\n",
       "        >\n",
       "            355\n",
       "        </progress>\n",
       "    "
      ],
      "text/plain": [
       "<IPython.core.display.HTML object>"
      ]
     },
     "metadata": {},
     "output_type": "display_data"
    },
    {
     "name": "stdout",
     "output_type": "stream",
     "text": [
      "Train error: 0.3803903960006338\n",
      "Test error: 0.3925999\n",
      "Time Taken: 0:01:18.425169\n",
      "\n",
      "\n",
      "epoch: 86\n"
     ]
    },
    {
     "data": {
      "text/html": [
       "\n",
       "        <progress\n",
       "            value='355'\n",
       "            max='356',\n",
       "            style='width: 100%'\n",
       "        >\n",
       "            355\n",
       "        </progress>\n",
       "    "
      ],
      "text/plain": [
       "<IPython.core.display.HTML object>"
      ]
     },
     "metadata": {},
     "output_type": "display_data"
    },
    {
     "name": "stdout",
     "output_type": "stream",
     "text": [
      "Train error: 0.38013664013902904\n",
      "Test error: 0.39248878\n",
      "Time Taken: 0:01:18.160876\n",
      "\n",
      "\n",
      "epoch: 87\n"
     ]
    },
    {
     "data": {
      "text/html": [
       "\n",
       "        <progress\n",
       "            value='355'\n",
       "            max='356',\n",
       "            style='width: 100%'\n",
       "        >\n",
       "            355\n",
       "        </progress>\n",
       "    "
      ],
      "text/plain": [
       "<IPython.core.display.HTML object>"
      ]
     },
     "metadata": {},
     "output_type": "display_data"
    },
    {
     "name": "stdout",
     "output_type": "stream",
     "text": [
      "Train error: 0.3807293823067571\n",
      "Test error: 0.39480957\n",
      "Time Taken: 0:01:18.305488\n",
      "\n",
      "\n",
      "epoch: 88\n"
     ]
    },
    {
     "data": {
      "text/html": [
       "\n",
       "        <progress\n",
       "            value='355'\n",
       "            max='356',\n",
       "            style='width: 100%'\n",
       "        >\n",
       "            355\n",
       "        </progress>\n",
       "    "
      ],
      "text/plain": [
       "<IPython.core.display.HTML object>"
      ]
     },
     "metadata": {},
     "output_type": "display_data"
    },
    {
     "name": "stdout",
     "output_type": "stream",
     "text": [
      "Train error: 0.3801497972347367\n",
      "Test error: 0.39236736\n",
      "Time Taken: 0:01:18.222710\n",
      "\n",
      "\n",
      "epoch: 89\n"
     ]
    },
    {
     "data": {
      "text/html": [
       "\n",
       "        <progress\n",
       "            value='355'\n",
       "            max='356',\n",
       "            style='width: 100%'\n",
       "        >\n",
       "            355\n",
       "        </progress>\n",
       "    "
      ],
      "text/plain": [
       "<IPython.core.display.HTML object>"
      ]
     },
     "metadata": {},
     "output_type": "display_data"
    },
    {
     "name": "stdout",
     "output_type": "stream",
     "text": [
      "Train error: 0.37972050896832643\n",
      "Test error: 0.39598572\n",
      "Time Taken: 0:01:18.385378\n",
      "\n",
      "\n",
      "epoch: 90\n"
     ]
    },
    {
     "data": {
      "text/html": [
       "\n",
       "        <progress\n",
       "            value='355'\n",
       "            max='356',\n",
       "            style='width: 100%'\n",
       "        >\n",
       "            355\n",
       "        </progress>\n",
       "    "
      ],
      "text/plain": [
       "<IPython.core.display.HTML object>"
      ]
     },
     "metadata": {},
     "output_type": "display_data"
    },
    {
     "name": "stdout",
     "output_type": "stream",
     "text": [
      "Train error: 0.379645149220883\n",
      "Test error: 0.3936383\n",
      "Time Taken: 0:01:18.217723\n",
      "\n",
      "\n",
      "epoch: 91\n"
     ]
    },
    {
     "data": {
      "text/html": [
       "\n",
       "        <progress\n",
       "            value='355'\n",
       "            max='356',\n",
       "            style='width: 100%'\n",
       "        >\n",
       "            355\n",
       "        </progress>\n",
       "    "
      ],
      "text/plain": [
       "<IPython.core.display.HTML object>"
      ]
     },
     "metadata": {},
     "output_type": "display_data"
    },
    {
     "name": "stdout",
     "output_type": "stream",
     "text": [
      "Train error: 0.3796555326018535\n",
      "Test error: 0.39260855\n",
      "Time Taken: 0:01:18.386273\n",
      "\n",
      "\n",
      "epoch: 92\n"
     ]
    },
    {
     "data": {
      "text/html": [
       "\n",
       "        <progress\n",
       "            value='355'\n",
       "            max='356',\n",
       "            style='width: 100%'\n",
       "        >\n",
       "            355\n",
       "        </progress>\n",
       "    "
      ],
      "text/plain": [
       "<IPython.core.display.HTML object>"
      ]
     },
     "metadata": {},
     "output_type": "display_data"
    },
    {
     "name": "stdout",
     "output_type": "stream",
     "text": [
      "Train error: 0.37982385746190245\n",
      "Test error: 0.3932874\n",
      "Time Taken: 0:01:18.367323\n",
      "\n",
      "\n",
      "epoch: 93\n"
     ]
    },
    {
     "data": {
      "text/html": [
       "\n",
       "        <progress\n",
       "            value='355'\n",
       "            max='356',\n",
       "            style='width: 100%'\n",
       "        >\n",
       "            355\n",
       "        </progress>\n",
       "    "
      ],
      "text/plain": [
       "<IPython.core.display.HTML object>"
      ]
     },
     "metadata": {},
     "output_type": "display_data"
    },
    {
     "name": "stdout",
     "output_type": "stream",
     "text": [
      "Train error: 0.3792356271978835\n",
      "Test error: 0.3912209\n",
      "Time Taken: 0:01:18.269585\n",
      "\n",
      "\n",
      "epoch: 94\n"
     ]
    },
    {
     "data": {
      "text/html": [
       "\n",
       "        <progress\n",
       "            value='355'\n",
       "            max='356',\n",
       "            style='width: 100%'\n",
       "        >\n",
       "            355\n",
       "        </progress>\n",
       "    "
      ],
      "text/plain": [
       "<IPython.core.display.HTML object>"
      ]
     },
     "metadata": {},
     "output_type": "display_data"
    },
    {
     "name": "stdout",
     "output_type": "stream",
     "text": [
      "Train error: 0.3790865925835892\n",
      "Test error: 0.3891254\n",
      "Time Taken: 0:01:18.269584\n",
      "\n",
      "\n",
      "epoch: 95\n"
     ]
    },
    {
     "data": {
      "text/html": [
       "\n",
       "        <progress\n",
       "            value='355'\n",
       "            max='356',\n",
       "            style='width: 100%'\n",
       "        >\n",
       "            355\n",
       "        </progress>\n",
       "    "
      ],
      "text/plain": [
       "<IPython.core.display.HTML object>"
      ]
     },
     "metadata": {},
     "output_type": "display_data"
    },
    {
     "name": "stdout",
     "output_type": "stream",
     "text": [
      "Train error: 0.3788754307887924\n",
      "Test error: 0.39027002\n",
      "Time Taken: 0:01:18.222730\n",
      "\n",
      "\n",
      "epoch: 96\n"
     ]
    },
    {
     "data": {
      "text/html": [
       "\n",
       "        <progress\n",
       "            value='355'\n",
       "            max='356',\n",
       "            style='width: 100%'\n",
       "        >\n",
       "            355\n",
       "        </progress>\n",
       "    "
      ],
      "text/plain": [
       "<IPython.core.display.HTML object>"
      ]
     },
     "metadata": {},
     "output_type": "display_data"
    },
    {
     "name": "stdout",
     "output_type": "stream",
     "text": [
      "Train error: 0.37856098211986916\n",
      "Test error: 0.39166442\n",
      "Time Taken: 0:01:17.982353\n",
      "\n",
      "\n",
      "epoch: 97\n"
     ]
    },
    {
     "data": {
      "text/html": [
       "\n",
       "        <progress\n",
       "            value='355'\n",
       "            max='356',\n",
       "            style='width: 100%'\n",
       "        >\n",
       "            355\n",
       "        </progress>\n",
       "    "
      ],
      "text/plain": [
       "<IPython.core.display.HTML object>"
      ]
     },
     "metadata": {},
     "output_type": "display_data"
    },
    {
     "name": "stdout",
     "output_type": "stream",
     "text": [
      "Train error: 0.3790893506835884\n",
      "Test error: 0.3899807\n",
      "Time Taken: 0:01:18.098044\n",
      "\n",
      "\n",
      "epoch: 98\n"
     ]
    },
    {
     "data": {
      "text/html": [
       "\n",
       "        <progress\n",
       "            value='355'\n",
       "            max='356',\n",
       "            style='width: 100%'\n",
       "        >\n",
       "            355\n",
       "        </progress>\n",
       "    "
      ],
      "text/plain": [
       "<IPython.core.display.HTML object>"
      ]
     },
     "metadata": {},
     "output_type": "display_data"
    },
    {
     "name": "stdout",
     "output_type": "stream",
     "text": [
      "Train error: 0.37861749764899133\n",
      "Test error: 0.39022726\n",
      "Time Taken: 0:01:18.127990\n",
      "\n",
      "\n",
      "epoch: 99\n"
     ]
    },
    {
     "data": {
      "text/html": [
       "\n",
       "        <progress\n",
       "            value='355'\n",
       "            max='356',\n",
       "            style='width: 100%'\n",
       "        >\n",
       "            355\n",
       "        </progress>\n",
       "    "
      ],
      "text/plain": [
       "<IPython.core.display.HTML object>"
      ]
     },
     "metadata": {},
     "output_type": "display_data"
    },
    {
     "name": "stdout",
     "output_type": "stream",
     "text": [
      "Train error: 0.3785929419624973\n",
      "Test error: 0.39244404\n",
      "Time Taken: 0:01:18.304483\n",
      "\n",
      "\n",
      "epoch: 100\n"
     ]
    },
    {
     "data": {
      "text/html": [
       "\n",
       "        <progress\n",
       "            value='355'\n",
       "            max='356',\n",
       "            style='width: 100%'\n",
       "        >\n",
       "            355\n",
       "        </progress>\n",
       "    "
      ],
      "text/plain": [
       "<IPython.core.display.HTML object>"
      ]
     },
     "metadata": {},
     "output_type": "display_data"
    },
    {
     "name": "stdout",
     "output_type": "stream",
     "text": [
      "Train error: 0.3781488240604669\n",
      "Test error: 0.3922017\n",
      "Time Taken: 0:01:18.151899\n",
      "\n",
      "\n",
      "epoch: 101\n"
     ]
    },
    {
     "data": {
      "text/html": [
       "\n",
       "        <progress\n",
       "            value='355'\n",
       "            max='356',\n",
       "            style='width: 100%'\n",
       "        >\n",
       "            355\n",
       "        </progress>\n",
       "    "
      ],
      "text/plain": [
       "<IPython.core.display.HTML object>"
      ]
     },
     "metadata": {},
     "output_type": "display_data"
    },
    {
     "name": "stdout",
     "output_type": "stream",
     "text": [
      "Train error: 0.37856092730038604\n",
      "Test error: 0.39051253\n",
      "Time Taken: 0:01:18.071116\n",
      "\n",
      "\n",
      "epoch: 102\n"
     ]
    },
    {
     "data": {
      "text/html": [
       "\n",
       "        <progress\n",
       "            value='355'\n",
       "            max='356',\n",
       "            style='width: 100%'\n",
       "        >\n",
       "            355\n",
       "        </progress>\n",
       "    "
      ],
      "text/plain": [
       "<IPython.core.display.HTML object>"
      ]
     },
     "metadata": {},
     "output_type": "display_data"
    },
    {
     "name": "stdout",
     "output_type": "stream",
     "text": [
      "Train error: 0.37794592439288827\n",
      "Test error: 0.39041558\n",
      "Time Taken: 0:01:17.934481\n",
      "\n",
      "\n",
      "epoch: 103\n"
     ]
    },
    {
     "data": {
      "text/html": [
       "\n",
       "        <progress\n",
       "            value='355'\n",
       "            max='356',\n",
       "            style='width: 100%'\n",
       "        >\n",
       "            355\n",
       "        </progress>\n",
       "    "
      ],
      "text/plain": [
       "<IPython.core.display.HTML object>"
      ]
     },
     "metadata": {},
     "output_type": "display_data"
    },
    {
     "name": "stdout",
     "output_type": "stream",
     "text": [
      "Train error: 0.3785774417326484\n",
      "Test error: 0.38944858\n",
      "Time Taken: 0:01:18.295515\n",
      "\n",
      "\n",
      "epoch: 104\n"
     ]
    },
    {
     "data": {
      "text/html": [
       "\n",
       "        <progress\n",
       "            value='355'\n",
       "            max='356',\n",
       "            style='width: 100%'\n",
       "        >\n",
       "            355\n",
       "        </progress>\n",
       "    "
      ],
      "text/plain": [
       "<IPython.core.display.HTML object>"
      ]
     },
     "metadata": {},
     "output_type": "display_data"
    },
    {
     "name": "stdout",
     "output_type": "stream",
     "text": [
      "Train error: 0.3782937755047435\n",
      "Test error: 0.39284557\n",
      "Time Taken: 0:01:18.550832\n",
      "\n",
      "\n",
      "epoch: 105\n"
     ]
    },
    {
     "data": {
      "text/html": [
       "\n",
       "        <progress\n",
       "            value='355'\n",
       "            max='356',\n",
       "            style='width: 100%'\n",
       "        >\n",
       "            355\n",
       "        </progress>\n",
       "    "
      ],
      "text/plain": [
       "<IPython.core.display.HTML object>"
      ]
     },
     "metadata": {},
     "output_type": "display_data"
    },
    {
     "name": "stdout",
     "output_type": "stream",
     "text": [
      "Train error: 0.3774492476187961\n",
      "Test error: 0.39053893\n",
      "Time Taken: 0:01:17.992396\n",
      "\n",
      "\n",
      "epoch: 106\n"
     ]
    },
    {
     "data": {
      "text/html": [
       "\n",
       "        <progress\n",
       "            value='355'\n",
       "            max='356',\n",
       "            style='width: 100%'\n",
       "        >\n",
       "            355\n",
       "        </progress>\n",
       "    "
      ],
      "text/plain": [
       "<IPython.core.display.HTML object>"
      ]
     },
     "metadata": {},
     "output_type": "display_data"
    },
    {
     "name": "stdout",
     "output_type": "stream",
     "text": [
      "Train error: 0.3781165434441096\n",
      "Test error: 0.39319488\n",
      "Time Taken: 0:01:18.348410\n",
      "\n",
      "\n",
      "epoch: 107\n"
     ]
    },
    {
     "data": {
      "text/html": [
       "\n",
       "        <progress\n",
       "            value='355'\n",
       "            max='356',\n",
       "            style='width: 100%'\n",
       "        >\n",
       "            355\n",
       "        </progress>\n",
       "    "
      ],
      "text/plain": [
       "<IPython.core.display.HTML object>"
      ]
     },
     "metadata": {},
     "output_type": "display_data"
    },
    {
     "name": "stdout",
     "output_type": "stream",
     "text": [
      "Train error: 0.37785260022526057\n",
      "Test error: 0.39546937\n",
      "Time Taken: 0:01:17.941463\n",
      "\n",
      "\n",
      "epoch: 108\n"
     ]
    },
    {
     "data": {
      "text/html": [
       "\n",
       "        <progress\n",
       "            value='355'\n",
       "            max='356',\n",
       "            style='width: 100%'\n",
       "        >\n",
       "            355\n",
       "        </progress>\n",
       "    "
      ],
      "text/plain": [
       "<IPython.core.display.HTML object>"
      ]
     },
     "metadata": {},
     "output_type": "display_data"
    },
    {
     "name": "stdout",
     "output_type": "stream",
     "text": [
      "Train error: 0.37859959719886244\n",
      "Test error: 0.39153636\n",
      "Time Taken: 0:01:18.221713\n",
      "\n",
      "\n",
      "epoch: 109\n"
     ]
    },
    {
     "data": {
      "text/html": [
       "\n",
       "        <progress\n",
       "            value='355'\n",
       "            max='356',\n",
       "            style='width: 100%'\n",
       "        >\n",
       "            355\n",
       "        </progress>\n",
       "    "
      ],
      "text/plain": [
       "<IPython.core.display.HTML object>"
      ]
     },
     "metadata": {},
     "output_type": "display_data"
    },
    {
     "name": "stdout",
     "output_type": "stream",
     "text": [
      "Train error: 0.377355363755159\n",
      "Test error: 0.39090133\n",
      "Time Taken: 0:01:18.068124\n",
      "\n",
      "\n",
      "epoch: 110\n"
     ]
    },
    {
     "data": {
      "text/html": [
       "\n",
       "        <progress\n",
       "            value='355'\n",
       "            max='356',\n",
       "            style='width: 100%'\n",
       "        >\n",
       "            355\n",
       "        </progress>\n",
       "    "
      ],
      "text/plain": [
       "<IPython.core.display.HTML object>"
      ]
     },
     "metadata": {},
     "output_type": "display_data"
    },
    {
     "name": "stdout",
     "output_type": "stream",
     "text": [
      "Train error: 0.3769421463281336\n",
      "Test error: 0.39081928\n",
      "Time Taken: 0:01:18.004295\n",
      "\n",
      "\n",
      "epoch: 111\n"
     ]
    },
    {
     "data": {
      "text/html": [
       "\n",
       "        <progress\n",
       "            value='355'\n",
       "            max='356',\n",
       "            style='width: 100%'\n",
       "        >\n",
       "            355\n",
       "        </progress>\n",
       "    "
      ],
      "text/plain": [
       "<IPython.core.display.HTML object>"
      ]
     },
     "metadata": {},
     "output_type": "display_data"
    },
    {
     "name": "stdout",
     "output_type": "stream",
     "text": [
      "Train error: 0.3769570336375438\n",
      "Test error: 0.39228415\n",
      "Time Taken: 0:01:17.974392\n",
      "\n",
      "\n",
      "epoch: 112\n"
     ]
    },
    {
     "data": {
      "text/html": [
       "\n",
       "        <progress\n",
       "            value='355'\n",
       "            max='356',\n",
       "            style='width: 100%'\n",
       "        >\n",
       "            355\n",
       "        </progress>\n",
       "    "
      ],
      "text/plain": [
       "<IPython.core.display.HTML object>"
      ]
     },
     "metadata": {},
     "output_type": "display_data"
    },
    {
     "name": "stdout",
     "output_type": "stream",
     "text": [
      "Train error: 0.3772711889005043\n",
      "Test error: 0.39263323\n",
      "Time Taken: 0:01:18.022247\n",
      "\n",
      "\n",
      "epoch: 113\n"
     ]
    },
    {
     "data": {
      "text/html": [
       "\n",
       "        <progress\n",
       "            value='355'\n",
       "            max='356',\n",
       "            style='width: 100%'\n",
       "        >\n",
       "            355\n",
       "        </progress>\n",
       "    "
      ],
      "text/plain": [
       "<IPython.core.display.HTML object>"
      ]
     },
     "metadata": {},
     "output_type": "display_data"
    },
    {
     "name": "stdout",
     "output_type": "stream",
     "text": [
      "Train error: 0.37670557347821515\n",
      "Test error: 0.39424092\n",
      "Time Taken: 0:01:17.962405\n",
      "\n",
      "\n",
      "epoch: 114\n"
     ]
    },
    {
     "data": {
      "text/html": [
       "\n",
       "        <progress\n",
       "            value='355'\n",
       "            max='356',\n",
       "            style='width: 100%'\n",
       "        >\n",
       "            355\n",
       "        </progress>\n",
       "    "
      ],
      "text/plain": [
       "<IPython.core.display.HTML object>"
      ]
     },
     "metadata": {},
     "output_type": "display_data"
    },
    {
     "name": "stdout",
     "output_type": "stream",
     "text": [
      "Train error: 0.37734465086963814\n",
      "Test error: 0.3936839\n",
      "Time Taken: 0:01:18.046182\n",
      "\n",
      "\n",
      "epoch: 115\n"
     ]
    },
    {
     "data": {
      "text/html": [
       "\n",
       "        <progress\n",
       "            value='355'\n",
       "            max='356',\n",
       "            style='width: 100%'\n",
       "        >\n",
       "            355\n",
       "        </progress>\n",
       "    "
      ],
      "text/plain": [
       "<IPython.core.display.HTML object>"
      ]
     },
     "metadata": {},
     "output_type": "display_data"
    },
    {
     "name": "stdout",
     "output_type": "stream",
     "text": [
      "Train error: 0.3770227515361678\n",
      "Test error: 0.39077404\n",
      "Time Taken: 0:01:18.125983\n",
      "\n",
      "\n",
      "epoch: 116\n"
     ]
    },
    {
     "data": {
      "text/html": [
       "\n",
       "        <progress\n",
       "            value='355'\n",
       "            max='356',\n",
       "            style='width: 100%'\n",
       "        >\n",
       "            355\n",
       "        </progress>\n",
       "    "
      ],
      "text/plain": [
       "<IPython.core.display.HTML object>"
      ]
     },
     "metadata": {},
     "output_type": "display_data"
    },
    {
     "name": "stdout",
     "output_type": "stream",
     "text": [
      "Train error: 0.376538717494884\n",
      "Test error: 0.39273265\n",
      "Time Taken: 0:01:18.474038\n",
      "\n",
      "\n",
      "epoch: 117\n"
     ]
    },
    {
     "data": {
      "text/html": [
       "\n",
       "        <progress\n",
       "            value='355'\n",
       "            max='356',\n",
       "            style='width: 100%'\n",
       "        >\n",
       "            355\n",
       "        </progress>\n",
       "    "
      ],
      "text/plain": [
       "<IPython.core.display.HTML object>"
      ]
     },
     "metadata": {},
     "output_type": "display_data"
    },
    {
     "name": "stdout",
     "output_type": "stream",
     "text": [
      "Train error: 0.37678287432227336\n",
      "Test error: 0.39028215\n",
      "Time Taken: 0:01:18.537866\n",
      "\n",
      "\n",
      "epoch: 118\n"
     ]
    },
    {
     "data": {
      "text/html": [
       "\n",
       "        <progress\n",
       "            value='355'\n",
       "            max='356',\n",
       "            style='width: 100%'\n",
       "        >\n",
       "            355\n",
       "        </progress>\n",
       "    "
      ],
      "text/plain": [
       "<IPython.core.display.HTML object>"
      ]
     },
     "metadata": {},
     "output_type": "display_data"
    },
    {
     "name": "stdout",
     "output_type": "stream",
     "text": [
      "Train error: 0.3769943269205765\n",
      "Test error: 0.3907582\n",
      "Time Taken: 0:01:18.568834\n",
      "\n",
      "\n",
      "epoch: 119\n"
     ]
    },
    {
     "data": {
      "text/html": [
       "\n",
       "        <progress\n",
       "            value='355'\n",
       "            max='356',\n",
       "            style='width: 100%'\n",
       "        >\n",
       "            355\n",
       "        </progress>\n",
       "    "
      ],
      "text/plain": [
       "<IPython.core.display.HTML object>"
      ]
     },
     "metadata": {},
     "output_type": "display_data"
    },
    {
     "name": "stdout",
     "output_type": "stream",
     "text": [
      "Train error: 0.37625731145831903\n",
      "Test error: 0.3933398\n",
      "Time Taken: 0:01:18.240686\n",
      "\n",
      "\n",
      "epoch: 120\n"
     ]
    },
    {
     "data": {
      "text/html": [
       "\n",
       "        <progress\n",
       "            value='355'\n",
       "            max='356',\n",
       "            style='width: 100%'\n",
       "        >\n",
       "            355\n",
       "        </progress>\n",
       "    "
      ],
      "text/plain": [
       "<IPython.core.display.HTML object>"
      ]
     },
     "metadata": {},
     "output_type": "display_data"
    },
    {
     "name": "stdout",
     "output_type": "stream",
     "text": [
      "Train error: 0.3772279854391662\n",
      "Test error: 0.38808465\n",
      "Time Taken: 0:01:18.352438\n",
      "\n",
      "\n",
      "epoch: 121\n"
     ]
    },
    {
     "data": {
      "text/html": [
       "\n",
       "        <progress\n",
       "            value='355'\n",
       "            max='356',\n",
       "            style='width: 100%'\n",
       "        >\n",
       "            355\n",
       "        </progress>\n",
       "    "
      ],
      "text/plain": [
       "<IPython.core.display.HTML object>"
      ]
     },
     "metadata": {},
     "output_type": "display_data"
    },
    {
     "name": "stdout",
     "output_type": "stream",
     "text": [
      "Train error: 0.37658670729314775\n",
      "Test error: 0.39531717\n",
      "Time Taken: 0:01:18.281553\n",
      "\n",
      "\n",
      "epoch: 122\n"
     ]
    },
    {
     "data": {
      "text/html": [
       "\n",
       "        <progress\n",
       "            value='355'\n",
       "            max='356',\n",
       "            style='width: 100%'\n",
       "        >\n",
       "            355\n",
       "        </progress>\n",
       "    "
      ],
      "text/plain": [
       "<IPython.core.display.HTML object>"
      ]
     },
     "metadata": {},
     "output_type": "display_data"
    },
    {
     "name": "stdout",
     "output_type": "stream",
     "text": [
      "Train error: 0.3761831097199883\n",
      "Test error: 0.3908961\n",
      "Time Taken: 0:01:18.583744\n",
      "\n",
      "\n",
      "epoch: 123\n"
     ]
    },
    {
     "data": {
      "text/html": [
       "\n",
       "        <progress\n",
       "            value='355'\n",
       "            max='356',\n",
       "            style='width: 100%'\n",
       "        >\n",
       "            355\n",
       "        </progress>\n",
       "    "
      ],
      "text/plain": [
       "<IPython.core.display.HTML object>"
      ]
     },
     "metadata": {},
     "output_type": "display_data"
    },
    {
     "name": "stdout",
     "output_type": "stream",
     "text": [
      "Train error: 0.37563007398390436\n",
      "Test error: 0.38795212\n",
      "Time Taken: 0:01:18.342407\n",
      "\n",
      "\n",
      "epoch: 124\n"
     ]
    },
    {
     "data": {
      "text/html": [
       "\n",
       "        <progress\n",
       "            value='355'\n",
       "            max='356',\n",
       "            style='width: 100%'\n",
       "        >\n",
       "            355\n",
       "        </progress>\n",
       "    "
      ],
      "text/plain": [
       "<IPython.core.display.HTML object>"
      ]
     },
     "metadata": {},
     "output_type": "display_data"
    },
    {
     "name": "stdout",
     "output_type": "stream",
     "text": [
      "Train error: 0.37697112501507074\n",
      "Test error: 0.38898528\n",
      "Time Taken: 0:01:18.409210\n",
      "\n",
      "\n",
      "epoch: 125\n"
     ]
    },
    {
     "data": {
      "text/html": [
       "\n",
       "        <progress\n",
       "            value='355'\n",
       "            max='356',\n",
       "            style='width: 100%'\n",
       "        >\n",
       "            355\n",
       "        </progress>\n",
       "    "
      ],
      "text/plain": [
       "<IPython.core.display.HTML object>"
      ]
     },
     "metadata": {},
     "output_type": "display_data"
    },
    {
     "name": "stdout",
     "output_type": "stream",
     "text": [
      "Train error: 0.3757723958559439\n",
      "Test error: 0.39249521\n",
      "Time Taken: 0:01:18.249668\n",
      "\n",
      "\n",
      "epoch: 126\n"
     ]
    },
    {
     "data": {
      "text/html": [
       "\n",
       "        <progress\n",
       "            value='355'\n",
       "            max='356',\n",
       "            style='width: 100%'\n",
       "        >\n",
       "            355\n",
       "        </progress>\n",
       "    "
      ],
      "text/plain": [
       "<IPython.core.display.HTML object>"
      ]
     },
     "metadata": {},
     "output_type": "display_data"
    },
    {
     "name": "stdout",
     "output_type": "stream",
     "text": [
      "Train error: 0.3758613464697986\n",
      "Test error: 0.39311242\n",
      "Time Taken: 0:01:18.593753\n",
      "\n",
      "\n",
      "epoch: 127\n"
     ]
    },
    {
     "data": {
      "text/html": [
       "\n",
       "        <progress\n",
       "            value='355'\n",
       "            max='356',\n",
       "            style='width: 100%'\n",
       "        >\n",
       "            355\n",
       "        </progress>\n",
       "    "
      ],
      "text/plain": [
       "<IPython.core.display.HTML object>"
      ]
     },
     "metadata": {},
     "output_type": "display_data"
    },
    {
     "name": "stdout",
     "output_type": "stream",
     "text": [
      "Train error: 0.3754269262434731\n",
      "Test error: 0.39102876\n",
      "Time Taken: 0:01:18.316460\n",
      "\n",
      "\n",
      "epoch: 128\n"
     ]
    },
    {
     "data": {
      "text/html": [
       "\n",
       "        <progress\n",
       "            value='355'\n",
       "            max='356',\n",
       "            style='width: 100%'\n",
       "        >\n",
       "            355\n",
       "        </progress>\n",
       "    "
      ],
      "text/plain": [
       "<IPython.core.display.HTML object>"
      ]
     },
     "metadata": {},
     "output_type": "display_data"
    },
    {
     "name": "stdout",
     "output_type": "stream",
     "text": [
      "Train error: 0.37548618048009735\n",
      "Test error: 0.39038494\n",
      "Time Taken: 0:01:18.610678\n",
      "\n",
      "\n",
      "epoch: 129\n"
     ]
    },
    {
     "data": {
      "text/html": [
       "\n",
       "        <progress\n",
       "            value='355'\n",
       "            max='356',\n",
       "            style='width: 100%'\n",
       "        >\n",
       "            355\n",
       "        </progress>\n",
       "    "
      ],
      "text/plain": [
       "<IPython.core.display.HTML object>"
      ]
     },
     "metadata": {},
     "output_type": "display_data"
    },
    {
     "name": "stdout",
     "output_type": "stream",
     "text": [
      "Train error: 0.3749990145925065\n",
      "Test error: 0.39221376\n",
      "Time Taken: 0:01:18.453093\n",
      "\n",
      "\n",
      "epoch: 130\n"
     ]
    },
    {
     "data": {
      "text/html": [
       "\n",
       "        <progress\n",
       "            value='355'\n",
       "            max='356',\n",
       "            style='width: 100%'\n",
       "        >\n",
       "            355\n",
       "        </progress>\n",
       "    "
      ],
      "text/plain": [
       "<IPython.core.display.HTML object>"
      ]
     },
     "metadata": {},
     "output_type": "display_data"
    },
    {
     "name": "stdout",
     "output_type": "stream",
     "text": [
      "Train error: 0.3750914962358878\n",
      "Test error: 0.38875285\n",
      "Time Taken: 0:01:18.604694\n",
      "\n",
      "\n",
      "epoch: 131\n"
     ]
    },
    {
     "data": {
      "text/html": [
       "\n",
       "        <progress\n",
       "            value='355'\n",
       "            max='356',\n",
       "            style='width: 100%'\n",
       "        >\n",
       "            355\n",
       "        </progress>\n",
       "    "
      ],
      "text/plain": [
       "<IPython.core.display.HTML object>"
      ]
     },
     "metadata": {},
     "output_type": "display_data"
    },
    {
     "name": "stdout",
     "output_type": "stream",
     "text": [
      "Train error: 0.37560602359368767\n",
      "Test error: 0.3895118\n",
      "Time Taken: 0:01:18.598732\n",
      "\n",
      "\n",
      "epoch: 132\n"
     ]
    },
    {
     "data": {
      "text/html": [
       "\n",
       "        <progress\n",
       "            value='355'\n",
       "            max='356',\n",
       "            style='width: 100%'\n",
       "        >\n",
       "            355\n",
       "        </progress>\n",
       "    "
      ],
      "text/plain": [
       "<IPython.core.display.HTML object>"
      ]
     },
     "metadata": {},
     "output_type": "display_data"
    },
    {
     "name": "stdout",
     "output_type": "stream",
     "text": [
      "Train error: 0.3755519858548339\n",
      "Test error: 0.3897352\n",
      "Time Taken: 0:01:18.334415\n",
      "\n",
      "\n",
      "epoch: 133\n"
     ]
    },
    {
     "data": {
      "text/html": [
       "\n",
       "        <progress\n",
       "            value='355'\n",
       "            max='356',\n",
       "            style='width: 100%'\n",
       "        >\n",
       "            355\n",
       "        </progress>\n",
       "    "
      ],
      "text/plain": [
       "<IPython.core.display.HTML object>"
      ]
     },
     "metadata": {},
     "output_type": "display_data"
    },
    {
     "name": "stdout",
     "output_type": "stream",
     "text": [
      "Train error: 0.3750018702426427\n",
      "Test error: 0.38818243\n",
      "Time Taken: 0:01:18.261606\n",
      "\n",
      "\n",
      "epoch: 134\n"
     ]
    },
    {
     "data": {
      "text/html": [
       "\n",
       "        <progress\n",
       "            value='355'\n",
       "            max='356',\n",
       "            style='width: 100%'\n",
       "        >\n",
       "            355\n",
       "        </progress>\n",
       "    "
      ],
      "text/plain": [
       "<IPython.core.display.HTML object>"
      ]
     },
     "metadata": {},
     "output_type": "display_data"
    },
    {
     "name": "stdout",
     "output_type": "stream",
     "text": [
      "Train error: 0.3751317024230957\n",
      "Test error: 0.39295232\n",
      "Time Taken: 0:01:18.477029\n",
      "\n",
      "\n",
      "epoch: 135\n"
     ]
    },
    {
     "data": {
      "text/html": [
       "\n",
       "        <progress\n",
       "            value='355'\n",
       "            max='356',\n",
       "            style='width: 100%'\n",
       "        >\n",
       "            355\n",
       "        </progress>\n",
       "    "
      ],
      "text/plain": [
       "<IPython.core.display.HTML object>"
      ]
     },
     "metadata": {},
     "output_type": "display_data"
    },
    {
     "name": "stdout",
     "output_type": "stream",
     "text": [
      "Train error: 0.3753173175831916\n",
      "Test error: 0.3906432\n",
      "Time Taken: 0:01:18.110011\n",
      "\n",
      "\n",
      "epoch: 136\n"
     ]
    },
    {
     "data": {
      "text/html": [
       "\n",
       "        <progress\n",
       "            value='355'\n",
       "            max='356',\n",
       "            style='width: 100%'\n",
       "        >\n",
       "            355\n",
       "        </progress>\n",
       "    "
      ],
      "text/plain": [
       "<IPython.core.display.HTML object>"
      ]
     },
     "metadata": {},
     "output_type": "display_data"
    },
    {
     "name": "stdout",
     "output_type": "stream",
     "text": [
      "Train error: 0.37486647728463296\n",
      "Test error: 0.39049688\n",
      "Time Taken: 0:01:20.721316\n",
      "\n",
      "\n",
      "epoch: 137\n"
     ]
    },
    {
     "data": {
      "text/html": [
       "\n",
       "        <progress\n",
       "            value='355'\n",
       "            max='356',\n",
       "            style='width: 100%'\n",
       "        >\n",
       "            355\n",
       "        </progress>\n",
       "    "
      ],
      "text/plain": [
       "<IPython.core.display.HTML object>"
      ]
     },
     "metadata": {},
     "output_type": "display_data"
    },
    {
     "name": "stdout",
     "output_type": "stream",
     "text": [
      "Train error: 0.3755570179140064\n",
      "Test error: 0.39188802\n",
      "Time Taken: 0:01:18.131953\n",
      "\n",
      "\n",
      "epoch: 138\n"
     ]
    },
    {
     "data": {
      "text/html": [
       "\n",
       "        <progress\n",
       "            value='355'\n",
       "            max='356',\n",
       "            style='width: 100%'\n",
       "        >\n",
       "            355\n",
       "        </progress>\n",
       "    "
      ],
      "text/plain": [
       "<IPython.core.display.HTML object>"
      ]
     },
     "metadata": {},
     "output_type": "display_data"
    },
    {
     "name": "stdout",
     "output_type": "stream",
     "text": [
      "Train error: 0.3749229393374752\n",
      "Test error: 0.38851175\n",
      "Time Taken: 0:01:18.026236\n",
      "\n",
      "\n",
      "epoch: 139\n"
     ]
    },
    {
     "data": {
      "text/html": [
       "\n",
       "        <progress\n",
       "            value='355'\n",
       "            max='356',\n",
       "            style='width: 100%'\n",
       "        >\n",
       "            355\n",
       "        </progress>\n",
       "    "
      ],
      "text/plain": [
       "<IPython.core.display.HTML object>"
      ]
     },
     "metadata": {},
     "output_type": "display_data"
    },
    {
     "name": "stdout",
     "output_type": "stream",
     "text": [
      "Train error: 0.37478460820627885\n",
      "Test error: 0.39200857\n",
      "Time Taken: 0:01:18.317456\n",
      "\n",
      "\n",
      "epoch: 140\n"
     ]
    },
    {
     "data": {
      "text/html": [
       "\n",
       "        <progress\n",
       "            value='355'\n",
       "            max='356',\n",
       "            style='width: 100%'\n",
       "        >\n",
       "            355\n",
       "        </progress>\n",
       "    "
      ],
      "text/plain": [
       "<IPython.core.display.HTML object>"
      ]
     },
     "metadata": {},
     "output_type": "display_data"
    },
    {
     "name": "stdout",
     "output_type": "stream",
     "text": [
      "Train error: 0.37634485506675613\n",
      "Test error: 0.39185598\n",
      "Time Taken: 0:01:18.034215\n",
      "\n",
      "\n",
      "epoch: 141\n"
     ]
    },
    {
     "data": {
      "text/html": [
       "\n",
       "        <progress\n",
       "            value='355'\n",
       "            max='356',\n",
       "            style='width: 100%'\n",
       "        >\n",
       "            355\n",
       "        </progress>\n",
       "    "
      ],
      "text/plain": [
       "<IPython.core.display.HTML object>"
      ]
     },
     "metadata": {},
     "output_type": "display_data"
    },
    {
     "name": "stdout",
     "output_type": "stream",
     "text": [
      "Train error: 0.3747740753099952\n",
      "Test error: 0.38946962\n",
      "Time Taken: 0:01:20.123625\n",
      "\n",
      "\n",
      "epoch: 142\n"
     ]
    },
    {
     "data": {
      "text/html": [
       "\n",
       "        <progress\n",
       "            value='355'\n",
       "            max='356',\n",
       "            style='width: 100%'\n",
       "        >\n",
       "            355\n",
       "        </progress>\n",
       "    "
      ],
      "text/plain": [
       "<IPython.core.display.HTML object>"
      ]
     },
     "metadata": {},
     "output_type": "display_data"
    },
    {
     "name": "stdout",
     "output_type": "stream",
     "text": [
      "Train error: 0.3744848678649311\n",
      "Test error: 0.38909644\n",
      "Time Taken: 0:01:18.224704\n",
      "\n",
      "\n",
      "epoch: 143\n"
     ]
    },
    {
     "data": {
      "text/html": [
       "\n",
       "        <progress\n",
       "            value='355'\n",
       "            max='356',\n",
       "            style='width: 100%'\n",
       "        >\n",
       "            355\n",
       "        </progress>\n",
       "    "
      ],
      "text/plain": [
       "<IPython.core.display.HTML object>"
      ]
     },
     "metadata": {},
     "output_type": "display_data"
    },
    {
     "name": "stdout",
     "output_type": "stream",
     "text": [
      "Train error: 0.37525844649529794\n",
      "Test error: 0.39090145\n",
      "Time Taken: 0:01:18.250635\n",
      "\n",
      "\n",
      "epoch: 144\n"
     ]
    },
    {
     "data": {
      "text/html": [
       "\n",
       "        <progress\n",
       "            value='355'\n",
       "            max='356',\n",
       "            style='width: 100%'\n",
       "        >\n",
       "            355\n",
       "        </progress>\n",
       "    "
      ],
      "text/plain": [
       "<IPython.core.display.HTML object>"
      ]
     },
     "metadata": {},
     "output_type": "display_data"
    },
    {
     "name": "stdout",
     "output_type": "stream",
     "text": [
      "Train error: 0.37417120010080474\n",
      "Test error: 0.39080843\n",
      "Time Taken: 0:01:18.282550\n",
      "\n",
      "\n",
      "epoch: 145\n"
     ]
    },
    {
     "data": {
      "text/html": [
       "\n",
       "        <progress\n",
       "            value='355'\n",
       "            max='356',\n",
       "            style='width: 100%'\n",
       "        >\n",
       "            355\n",
       "        </progress>\n",
       "    "
      ],
      "text/plain": [
       "<IPython.core.display.HTML object>"
      ]
     },
     "metadata": {},
     "output_type": "display_data"
    },
    {
     "name": "stdout",
     "output_type": "stream",
     "text": [
      "Train error: 0.3742134691963733\n",
      "Test error: 0.38982597\n",
      "Time Taken: 0:01:18.274571\n",
      "\n",
      "\n",
      "epoch: 146\n"
     ]
    },
    {
     "data": {
      "text/html": [
       "\n",
       "        <progress\n",
       "            value='355'\n",
       "            max='356',\n",
       "            style='width: 100%'\n",
       "        >\n",
       "            355\n",
       "        </progress>\n",
       "    "
      ],
      "text/plain": [
       "<IPython.core.display.HTML object>"
      ]
     },
     "metadata": {},
     "output_type": "display_data"
    },
    {
     "name": "stdout",
     "output_type": "stream",
     "text": [
      "Train error: 0.37418091213199456\n",
      "Test error: 0.3934283\n",
      "Time Taken: 0:01:18.060144\n",
      "\n",
      "\n",
      "epoch: 147\n"
     ]
    },
    {
     "data": {
      "text/html": [
       "\n",
       "        <progress\n",
       "            value='355'\n",
       "            max='356',\n",
       "            style='width: 100%'\n",
       "        >\n",
       "            355\n",
       "        </progress>\n",
       "    "
      ],
      "text/plain": [
       "<IPython.core.display.HTML object>"
      ]
     },
     "metadata": {},
     "output_type": "display_data"
    },
    {
     "name": "stdout",
     "output_type": "stream",
     "text": [
      "Train error: 0.3744460424906771\n",
      "Test error: 0.38960475\n",
      "Time Taken: 0:01:18.314464\n",
      "\n",
      "\n",
      "epoch: 148\n"
     ]
    },
    {
     "data": {
      "text/html": [
       "\n",
       "        <progress\n",
       "            value='355'\n",
       "            max='356',\n",
       "            style='width: 100%'\n",
       "        >\n",
       "            355\n",
       "        </progress>\n",
       "    "
      ],
      "text/plain": [
       "<IPython.core.display.HTML object>"
      ]
     },
     "metadata": {},
     "output_type": "display_data"
    },
    {
     "name": "stdout",
     "output_type": "stream",
     "text": [
      "Train error: 0.37437375901450576\n",
      "Test error: 0.39084455\n",
      "Time Taken: 0:01:18.490012\n",
      "\n",
      "\n",
      "epoch: 149\n"
     ]
    },
    {
     "data": {
      "text/html": [
       "\n",
       "        <progress\n",
       "            value='355'\n",
       "            max='356',\n",
       "            style='width: 100%'\n",
       "        >\n",
       "            355\n",
       "        </progress>\n",
       "    "
      ],
      "text/plain": [
       "<IPython.core.display.HTML object>"
      ]
     },
     "metadata": {},
     "output_type": "display_data"
    },
    {
     "name": "stdout",
     "output_type": "stream",
     "text": [
      "Train error: 0.37409875502049084\n",
      "Test error: 0.39256603\n",
      "Time Taken: 0:01:17.905559\n",
      "\n",
      "\n",
      "epoch: 150\n"
     ]
    },
    {
     "data": {
      "text/html": [
       "\n",
       "        <progress\n",
       "            value='355'\n",
       "            max='356',\n",
       "            style='width: 100%'\n",
       "        >\n",
       "            355\n",
       "        </progress>\n",
       "    "
      ],
      "text/plain": [
       "<IPython.core.display.HTML object>"
      ]
     },
     "metadata": {},
     "output_type": "display_data"
    },
    {
     "name": "stdout",
     "output_type": "stream",
     "text": [
      "Train error: 0.3736964824333997\n",
      "Test error: 0.3903464\n",
      "Time Taken: 0:01:19.026559\n",
      "\n",
      "\n",
      "epoch: 151\n"
     ]
    },
    {
     "data": {
      "text/html": [
       "\n",
       "        <progress\n",
       "            value='355'\n",
       "            max='356',\n",
       "            style='width: 100%'\n",
       "        >\n",
       "            355\n",
       "        </progress>\n",
       "    "
      ],
      "text/plain": [
       "<IPython.core.display.HTML object>"
      ]
     },
     "metadata": {},
     "output_type": "display_data"
    },
    {
     "name": "stdout",
     "output_type": "stream",
     "text": [
      "Train error: 0.3742199054066564\n",
      "Test error: 0.3876666\n",
      "Time Taken: 0:01:18.313467\n",
      "\n",
      "\n",
      "epoch: 152\n"
     ]
    },
    {
     "data": {
      "text/html": [
       "\n",
       "        <progress\n",
       "            value='355'\n",
       "            max='356',\n",
       "            style='width: 100%'\n",
       "        >\n",
       "            355\n",
       "        </progress>\n",
       "    "
      ],
      "text/plain": [
       "<IPython.core.display.HTML object>"
      ]
     },
     "metadata": {},
     "output_type": "display_data"
    },
    {
     "name": "stdout",
     "output_type": "stream",
     "text": [
      "Train error: 0.37368256953400625\n",
      "Test error: 0.39202738\n",
      "Time Taken: 0:01:18.209756\n",
      "\n",
      "\n",
      "epoch: 153\n"
     ]
    },
    {
     "data": {
      "text/html": [
       "\n",
       "        <progress\n",
       "            value='355'\n",
       "            max='356',\n",
       "            style='width: 100%'\n",
       "        >\n",
       "            355\n",
       "        </progress>\n",
       "    "
      ],
      "text/plain": [
       "<IPython.core.display.HTML object>"
      ]
     },
     "metadata": {},
     "output_type": "display_data"
    },
    {
     "name": "stdout",
     "output_type": "stream",
     "text": [
      "Train error: 0.3741182772206589\n",
      "Test error: 0.38844404\n",
      "Time Taken: 0:01:18.475036\n",
      "\n",
      "\n",
      "epoch: 154\n"
     ]
    },
    {
     "data": {
      "text/html": [
       "\n",
       "        <progress\n",
       "            value='355'\n",
       "            max='356',\n",
       "            style='width: 100%'\n",
       "        >\n",
       "            355\n",
       "        </progress>\n",
       "    "
      ],
      "text/plain": [
       "<IPython.core.display.HTML object>"
      ]
     },
     "metadata": {},
     "output_type": "display_data"
    },
    {
     "name": "stdout",
     "output_type": "stream",
     "text": [
      "Train error: 0.37409551479447056\n",
      "Test error: 0.39291263\n",
      "Time Taken: 0:01:18.198792\n",
      "\n",
      "\n",
      "epoch: 155\n"
     ]
    },
    {
     "data": {
      "text/html": [
       "\n",
       "        <progress\n",
       "            value='355'\n",
       "            max='356',\n",
       "            style='width: 100%'\n",
       "        >\n",
       "            355\n",
       "        </progress>\n",
       "    "
      ],
      "text/plain": [
       "<IPython.core.display.HTML object>"
      ]
     },
     "metadata": {},
     "output_type": "display_data"
    },
    {
     "name": "stdout",
     "output_type": "stream",
     "text": [
      "Train error: 0.3739253080227006\n",
      "Test error: 0.39100766\n",
      "Time Taken: 0:01:18.371366\n",
      "\n",
      "\n",
      "epoch: 156\n"
     ]
    },
    {
     "data": {
      "text/html": [
       "\n",
       "        <progress\n",
       "            value='355'\n",
       "            max='356',\n",
       "            style='width: 100%'\n",
       "        >\n",
       "            355\n",
       "        </progress>\n",
       "    "
      ],
      "text/plain": [
       "<IPython.core.display.HTML object>"
      ]
     },
     "metadata": {},
     "output_type": "display_data"
    },
    {
     "name": "stdout",
     "output_type": "stream",
     "text": [
      "Train error: 0.3735708350027111\n",
      "Test error: 0.38785717\n",
      "Time Taken: 0:01:18.502973\n",
      "\n",
      "\n",
      "epoch: 157\n"
     ]
    },
    {
     "data": {
      "text/html": [
       "\n",
       "        <progress\n",
       "            value='355'\n",
       "            max='356',\n",
       "            style='width: 100%'\n",
       "        >\n",
       "            355\n",
       "        </progress>\n",
       "    "
      ],
      "text/plain": [
       "<IPython.core.display.HTML object>"
      ]
     },
     "metadata": {},
     "output_type": "display_data"
    },
    {
     "name": "stdout",
     "output_type": "stream",
     "text": [
      "Train error: 0.3736243010406763\n",
      "Test error: 0.39074743\n",
      "Time Taken: 0:01:18.347393\n",
      "\n",
      "\n",
      "epoch: 158\n"
     ]
    },
    {
     "data": {
      "text/html": [
       "\n",
       "        <progress\n",
       "            value='355'\n",
       "            max='356',\n",
       "            style='width: 100%'\n",
       "        >\n",
       "            355\n",
       "        </progress>\n",
       "    "
      ],
      "text/plain": [
       "<IPython.core.display.HTML object>"
      ]
     },
     "metadata": {},
     "output_type": "display_data"
    },
    {
     "name": "stdout",
     "output_type": "stream",
     "text": [
      "Train error: 0.3732692441470187\n",
      "Test error: 0.38715613\n",
      "Time Taken: 0:01:18.322443\n",
      "\n",
      "\n",
      "epoch: 159\n"
     ]
    },
    {
     "data": {
      "text/html": [
       "\n",
       "        <progress\n",
       "            value='355'\n",
       "            max='356',\n",
       "            style='width: 100%'\n",
       "        >\n",
       "            355\n",
       "        </progress>\n",
       "    "
      ],
      "text/plain": [
       "<IPython.core.display.HTML object>"
      ]
     },
     "metadata": {},
     "output_type": "display_data"
    },
    {
     "name": "stdout",
     "output_type": "stream",
     "text": [
      "Train error: 0.37348364104687326\n",
      "Test error: 0.39043576\n",
      "Time Taken: 0:01:18.194921\n",
      "\n",
      "\n",
      "epoch: 160\n"
     ]
    },
    {
     "data": {
      "text/html": [
       "\n",
       "        <progress\n",
       "            value='355'\n",
       "            max='356',\n",
       "            style='width: 100%'\n",
       "        >\n",
       "            355\n",
       "        </progress>\n",
       "    "
      ],
      "text/plain": [
       "<IPython.core.display.HTML object>"
      ]
     },
     "metadata": {},
     "output_type": "display_data"
    },
    {
     "name": "stdout",
     "output_type": "stream",
     "text": [
      "Train error: 0.3737832835862334\n",
      "Test error: 0.38924456\n",
      "Time Taken: 0:01:18.455089\n",
      "\n",
      "\n",
      "epoch: 161\n"
     ]
    },
    {
     "data": {
      "text/html": [
       "\n",
       "        <progress\n",
       "            value='355'\n",
       "            max='356',\n",
       "            style='width: 100%'\n",
       "        >\n",
       "            355\n",
       "        </progress>\n",
       "    "
      ],
      "text/plain": [
       "<IPython.core.display.HTML object>"
      ]
     },
     "metadata": {},
     "output_type": "display_data"
    },
    {
     "name": "stdout",
     "output_type": "stream",
     "text": [
      "Train error: 0.37336586747370976\n",
      "Test error: 0.39041743\n",
      "Time Taken: 0:01:18.118037\n",
      "\n",
      "\n",
      "epoch: 162\n"
     ]
    },
    {
     "data": {
      "text/html": [
       "\n",
       "        <progress\n",
       "            value='355'\n",
       "            max='356',\n",
       "            style='width: 100%'\n",
       "        >\n",
       "            355\n",
       "        </progress>\n",
       "    "
      ],
      "text/plain": [
       "<IPython.core.display.HTML object>"
      ]
     },
     "metadata": {},
     "output_type": "display_data"
    },
    {
     "name": "stdout",
     "output_type": "stream",
     "text": [
      "Train error: 0.373251215337028\n",
      "Test error: 0.38917562\n",
      "Time Taken: 0:01:18.027268\n",
      "\n",
      "\n",
      "epoch: 163\n"
     ]
    },
    {
     "data": {
      "text/html": [
       "\n",
       "        <progress\n",
       "            value='355'\n",
       "            max='356',\n",
       "            style='width: 100%'\n",
       "        >\n",
       "            355\n",
       "        </progress>\n",
       "    "
      ],
      "text/plain": [
       "<IPython.core.display.HTML object>"
      ]
     },
     "metadata": {},
     "output_type": "display_data"
    },
    {
     "name": "stdout",
     "output_type": "stream",
     "text": [
      "Train error: 0.3728796616406508\n",
      "Test error: 0.388303\n",
      "Time Taken: 0:01:18.280539\n",
      "\n",
      "\n",
      "epoch: 164\n"
     ]
    },
    {
     "data": {
      "text/html": [
       "\n",
       "        <progress\n",
       "            value='355'\n",
       "            max='356',\n",
       "            style='width: 100%'\n",
       "        >\n",
       "            355\n",
       "        </progress>\n",
       "    "
      ],
      "text/plain": [
       "<IPython.core.display.HTML object>"
      ]
     },
     "metadata": {},
     "output_type": "display_data"
    },
    {
     "name": "stdout",
     "output_type": "stream",
     "text": [
      "Train error: 0.37326403998992813\n",
      "Test error: 0.3869319\n",
      "Time Taken: 0:01:18.250644\n",
      "\n",
      "\n",
      "epoch: 165\n"
     ]
    },
    {
     "data": {
      "text/html": [
       "\n",
       "        <progress\n",
       "            value='355'\n",
       "            max='356',\n",
       "            style='width: 100%'\n",
       "        >\n",
       "            355\n",
       "        </progress>\n",
       "    "
      ],
      "text/plain": [
       "<IPython.core.display.HTML object>"
      ]
     },
     "metadata": {},
     "output_type": "display_data"
    },
    {
     "name": "stdout",
     "output_type": "stream",
     "text": [
      "Train error: 0.3732689418423344\n",
      "Test error: 0.39111674\n",
      "Time Taken: 0:01:18.383279\n",
      "\n",
      "\n",
      "epoch: 166\n"
     ]
    },
    {
     "data": {
      "text/html": [
       "\n",
       "        <progress\n",
       "            value='355'\n",
       "            max='356',\n",
       "            style='width: 100%'\n",
       "        >\n",
       "            355\n",
       "        </progress>\n",
       "    "
      ],
      "text/plain": [
       "<IPython.core.display.HTML object>"
      ]
     },
     "metadata": {},
     "output_type": "display_data"
    },
    {
     "name": "stdout",
     "output_type": "stream",
     "text": [
      "Train error: 0.3738013223862984\n",
      "Test error: 0.38938162\n",
      "Time Taken: 0:01:18.367345\n",
      "\n",
      "\n",
      "epoch: 167\n"
     ]
    },
    {
     "data": {
      "text/html": [
       "\n",
       "        <progress\n",
       "            value='355'\n",
       "            max='356',\n",
       "            style='width: 100%'\n",
       "        >\n",
       "            355\n",
       "        </progress>\n",
       "    "
      ],
      "text/plain": [
       "<IPython.core.display.HTML object>"
      ]
     },
     "metadata": {},
     "output_type": "display_data"
    },
    {
     "name": "stdout",
     "output_type": "stream",
     "text": [
      "Train error: 0.3732038500443311\n",
      "Test error: 0.38760737\n",
      "Time Taken: 0:01:18.101036\n",
      "\n",
      "\n",
      "epoch: 168\n"
     ]
    },
    {
     "data": {
      "text/html": [
       "\n",
       "        <progress\n",
       "            value='355'\n",
       "            max='356',\n",
       "            style='width: 100%'\n",
       "        >\n",
       "            355\n",
       "        </progress>\n",
       "    "
      ],
      "text/plain": [
       "<IPython.core.display.HTML object>"
      ]
     },
     "metadata": {},
     "output_type": "display_data"
    },
    {
     "name": "stdout",
     "output_type": "stream",
     "text": [
      "Train error: 0.3725397027714152\n",
      "Test error: 0.38822842\n",
      "Time Taken: 0:01:18.220745\n",
      "\n",
      "\n",
      "epoch: 169\n"
     ]
    },
    {
     "data": {
      "text/html": [
       "\n",
       "        <progress\n",
       "            value='355'\n",
       "            max='356',\n",
       "            style='width: 100%'\n",
       "        >\n",
       "            355\n",
       "        </progress>\n",
       "    "
      ],
      "text/plain": [
       "<IPython.core.display.HTML object>"
      ]
     },
     "metadata": {},
     "output_type": "display_data"
    },
    {
     "name": "stdout",
     "output_type": "stream",
     "text": [
      "Train error: 0.3732562955836175\n",
      "Test error: 0.38975555\n",
      "Time Taken: 0:01:18.178879\n",
      "\n",
      "\n",
      "epoch: 170\n"
     ]
    },
    {
     "data": {
      "text/html": [
       "\n",
       "        <progress\n",
       "            value='355'\n",
       "            max='356',\n",
       "            style='width: 100%'\n",
       "        >\n",
       "            355\n",
       "        </progress>\n",
       "    "
      ],
      "text/plain": [
       "<IPython.core.display.HTML object>"
      ]
     },
     "metadata": {},
     "output_type": "display_data"
    },
    {
     "name": "stdout",
     "output_type": "stream",
     "text": [
      "Train error: 0.3728055605586146\n",
      "Test error: 0.39111632\n",
      "Time Taken: 0:01:18.122003\n",
      "\n",
      "\n",
      "epoch: 171\n"
     ]
    },
    {
     "data": {
      "text/html": [
       "\n",
       "        <progress\n",
       "            value='355'\n",
       "            max='356',\n",
       "            style='width: 100%'\n",
       "        >\n",
       "            355\n",
       "        </progress>\n",
       "    "
      ],
      "text/plain": [
       "<IPython.core.display.HTML object>"
      ]
     },
     "metadata": {},
     "output_type": "display_data"
    },
    {
     "name": "stdout",
     "output_type": "stream",
     "text": [
      "Train error: 0.3726299913836197\n",
      "Test error: 0.3894957\n",
      "Time Taken: 0:01:18.623637\n",
      "\n",
      "\n",
      "epoch: 172\n"
     ]
    },
    {
     "data": {
      "text/html": [
       "\n",
       "        <progress\n",
       "            value='355'\n",
       "            max='356',\n",
       "            style='width: 100%'\n",
       "        >\n",
       "            355\n",
       "        </progress>\n",
       "    "
      ],
      "text/plain": [
       "<IPython.core.display.HTML object>"
      ]
     },
     "metadata": {},
     "output_type": "display_data"
    },
    {
     "name": "stdout",
     "output_type": "stream",
     "text": [
      "Train error: 0.37217921891682587\n",
      "Test error: 0.3885526\n",
      "Time Taken: 0:01:18.332424\n",
      "\n",
      "\n",
      "epoch: 173\n"
     ]
    },
    {
     "data": {
      "text/html": [
       "\n",
       "        <progress\n",
       "            value='355'\n",
       "            max='356',\n",
       "            style='width: 100%'\n",
       "        >\n",
       "            355\n",
       "        </progress>\n",
       "    "
      ],
      "text/plain": [
       "<IPython.core.display.HTML object>"
      ]
     },
     "metadata": {},
     "output_type": "display_data"
    },
    {
     "name": "stdout",
     "output_type": "stream",
     "text": [
      "Train error: 0.37245815480259103\n",
      "Test error: 0.3910449\n",
      "Time Taken: 0:01:18.324443\n",
      "\n",
      "\n",
      "epoch: 174\n"
     ]
    },
    {
     "data": {
      "text/html": [
       "\n",
       "        <progress\n",
       "            value='355'\n",
       "            max='356',\n",
       "            style='width: 100%'\n",
       "        >\n",
       "            355\n",
       "        </progress>\n",
       "    "
      ],
      "text/plain": [
       "<IPython.core.display.HTML object>"
      ]
     },
     "metadata": {},
     "output_type": "display_data"
    },
    {
     "name": "stdout",
     "output_type": "stream",
     "text": [
      "Train error: 0.3721415728750363\n",
      "Test error: 0.39149305\n",
      "Time Taken: 0:01:18.292578\n",
      "\n",
      "\n",
      "epoch: 175\n"
     ]
    },
    {
     "data": {
      "text/html": [
       "\n",
       "        <progress\n",
       "            value='355'\n",
       "            max='356',\n",
       "            style='width: 100%'\n",
       "        >\n",
       "            355\n",
       "        </progress>\n",
       "    "
      ],
      "text/plain": [
       "<IPython.core.display.HTML object>"
      ]
     },
     "metadata": {},
     "output_type": "display_data"
    },
    {
     "name": "stdout",
     "output_type": "stream",
     "text": [
      "Train error: 0.37291043795330425\n",
      "Test error: 0.39276904\n",
      "Time Taken: 0:01:18.042193\n",
      "\n",
      "\n",
      "epoch: 176\n"
     ]
    },
    {
     "data": {
      "text/html": [
       "\n",
       "        <progress\n",
       "            value='355'\n",
       "            max='356',\n",
       "            style='width: 100%'\n",
       "        >\n",
       "            355\n",
       "        </progress>\n",
       "    "
      ],
      "text/plain": [
       "<IPython.core.display.HTML object>"
      ]
     },
     "metadata": {},
     "output_type": "display_data"
    },
    {
     "name": "stdout",
     "output_type": "stream",
     "text": [
      "Train error: 0.372089379354262\n",
      "Test error: 0.39069474\n",
      "Time Taken: 0:01:18.162870\n",
      "\n",
      "\n",
      "epoch: 177\n"
     ]
    },
    {
     "data": {
      "text/html": [
       "\n",
       "        <progress\n",
       "            value='355'\n",
       "            max='356',\n",
       "            style='width: 100%'\n",
       "        >\n",
       "            355\n",
       "        </progress>\n",
       "    "
      ],
      "text/plain": [
       "<IPython.core.display.HTML object>"
      ]
     },
     "metadata": {},
     "output_type": "display_data"
    },
    {
     "name": "stdout",
     "output_type": "stream",
     "text": [
      "Train error: 0.3727586317230278\n",
      "Test error: 0.3909799\n",
      "Time Taken: 0:01:17.908550\n",
      "\n",
      "\n",
      "epoch: 178\n"
     ]
    },
    {
     "data": {
      "text/html": [
       "\n",
       "        <progress\n",
       "            value='355'\n",
       "            max='356',\n",
       "            style='width: 100%'\n",
       "        >\n",
       "            355\n",
       "        </progress>\n",
       "    "
      ],
      "text/plain": [
       "<IPython.core.display.HTML object>"
      ]
     },
     "metadata": {},
     "output_type": "display_data"
    },
    {
     "name": "stdout",
     "output_type": "stream",
     "text": [
      "Train error: 0.37236396082690065\n",
      "Test error: 0.39067307\n",
      "Time Taken: 0:01:18.034239\n",
      "\n",
      "\n",
      "epoch: 179\n"
     ]
    },
    {
     "data": {
      "text/html": [
       "\n",
       "        <progress\n",
       "            value='355'\n",
       "            max='356',\n",
       "            style='width: 100%'\n",
       "        >\n",
       "            355\n",
       "        </progress>\n",
       "    "
      ],
      "text/plain": [
       "<IPython.core.display.HTML object>"
      ]
     },
     "metadata": {},
     "output_type": "display_data"
    },
    {
     "name": "stdout",
     "output_type": "stream",
     "text": [
      "Train error: 0.37244393859111086\n",
      "Test error: 0.39066508\n",
      "Time Taken: 0:01:18.349371\n",
      "\n",
      "\n",
      "epoch: 180\n"
     ]
    },
    {
     "data": {
      "text/html": [
       "\n",
       "        <progress\n",
       "            value='355'\n",
       "            max='356',\n",
       "            style='width: 100%'\n",
       "        >\n",
       "            355\n",
       "        </progress>\n",
       "    "
      ],
      "text/plain": [
       "<IPython.core.display.HTML object>"
      ]
     },
     "metadata": {},
     "output_type": "display_data"
    },
    {
     "name": "stdout",
     "output_type": "stream",
     "text": [
      "Train error: 0.37212034799683263\n",
      "Test error: 0.39028037\n",
      "Time Taken: 0:01:18.225702\n",
      "\n",
      "\n",
      "epoch: 181\n"
     ]
    },
    {
     "data": {
      "text/html": [
       "\n",
       "        <progress\n",
       "            value='355'\n",
       "            max='356',\n",
       "            style='width: 100%'\n",
       "        >\n",
       "            355\n",
       "        </progress>\n",
       "    "
      ],
      "text/plain": [
       "<IPython.core.display.HTML object>"
      ]
     },
     "metadata": {},
     "output_type": "display_data"
    },
    {
     "name": "stdout",
     "output_type": "stream",
     "text": [
      "Train error: 0.3721852467093669\n",
      "Test error: 0.39374018\n",
      "Time Taken: 0:01:17.978404\n",
      "\n",
      "\n",
      "epoch: 182\n"
     ]
    },
    {
     "data": {
      "text/html": [
       "\n",
       "        <progress\n",
       "            value='355'\n",
       "            max='356',\n",
       "            style='width: 100%'\n",
       "        >\n",
       "            355\n",
       "        </progress>\n",
       "    "
      ],
      "text/plain": [
       "<IPython.core.display.HTML object>"
      ]
     },
     "metadata": {},
     "output_type": "display_data"
    },
    {
     "name": "stdout",
     "output_type": "stream",
     "text": [
      "Train error: 0.37167153417224613\n",
      "Test error: 0.38841724\n",
      "Time Taken: 0:01:18.192790\n",
      "\n",
      "\n",
      "epoch: 183\n"
     ]
    },
    {
     "data": {
      "text/html": [
       "\n",
       "        <progress\n",
       "            value='355'\n",
       "            max='356',\n",
       "            style='width: 100%'\n",
       "        >\n",
       "            355\n",
       "        </progress>\n",
       "    "
      ],
      "text/plain": [
       "<IPython.core.display.HTML object>"
      ]
     },
     "metadata": {},
     "output_type": "display_data"
    },
    {
     "name": "stdout",
     "output_type": "stream",
     "text": [
      "Train error: 0.37223009542680124\n",
      "Test error: 0.38910648\n",
      "Time Taken: 0:01:19.994968\n",
      "\n",
      "\n",
      "epoch: 184\n"
     ]
    },
    {
     "data": {
      "text/html": [
       "\n",
       "        <progress\n",
       "            value='355'\n",
       "            max='356',\n",
       "            style='width: 100%'\n",
       "        >\n",
       "            355\n",
       "        </progress>\n",
       "    "
      ],
      "text/plain": [
       "<IPython.core.display.HTML object>"
      ]
     },
     "metadata": {},
     "output_type": "display_data"
    },
    {
     "name": "stdout",
     "output_type": "stream",
     "text": [
      "Train error: 0.37252744142438327\n",
      "Test error: 0.3900049\n",
      "Time Taken: 0:01:18.794187\n",
      "\n",
      "\n",
      "epoch: 185\n"
     ]
    },
    {
     "data": {
      "text/html": [
       "\n",
       "        <progress\n",
       "            value='355'\n",
       "            max='356',\n",
       "            style='width: 100%'\n",
       "        >\n",
       "            355\n",
       "        </progress>\n",
       "    "
      ],
      "text/plain": [
       "<IPython.core.display.HTML object>"
      ]
     },
     "metadata": {},
     "output_type": "display_data"
    },
    {
     "name": "stdout",
     "output_type": "stream",
     "text": [
      "Train error: 0.3717819296138387\n",
      "Test error: 0.38950318\n",
      "Time Taken: 0:01:18.406218\n",
      "\n",
      "\n",
      "epoch: 186\n"
     ]
    },
    {
     "data": {
      "text/html": [
       "\n",
       "        <progress\n",
       "            value='355'\n",
       "            max='356',\n",
       "            style='width: 100%'\n",
       "        >\n",
       "            355\n",
       "        </progress>\n",
       "    "
      ],
      "text/plain": [
       "<IPython.core.display.HTML object>"
      ]
     },
     "metadata": {},
     "output_type": "display_data"
    },
    {
     "name": "stdout",
     "output_type": "stream",
     "text": [
      "Train error: 0.3713479434100675\n",
      "Test error: 0.38712487\n",
      "Time Taken: 0:01:18.527894\n",
      "\n",
      "\n",
      "epoch: 187\n"
     ]
    },
    {
     "data": {
      "text/html": [
       "\n",
       "        <progress\n",
       "            value='355'\n",
       "            max='356',\n",
       "            style='width: 100%'\n",
       "        >\n",
       "            355\n",
       "        </progress>\n",
       "    "
      ],
      "text/plain": [
       "<IPython.core.display.HTML object>"
      ]
     },
     "metadata": {},
     "output_type": "display_data"
    },
    {
     "name": "stdout",
     "output_type": "stream",
     "text": [
      "Train error: 0.3719817641755225\n",
      "Test error: 0.38970006\n",
      "Time Taken: 0:01:18.259612\n",
      "\n",
      "\n",
      "epoch: 188\n"
     ]
    },
    {
     "data": {
      "text/html": [
       "\n",
       "        <progress\n",
       "            value='355'\n",
       "            max='356',\n",
       "            style='width: 100%'\n",
       "        >\n",
       "            355\n",
       "        </progress>\n",
       "    "
      ],
      "text/plain": [
       "<IPython.core.display.HTML object>"
      ]
     },
     "metadata": {},
     "output_type": "display_data"
    },
    {
     "name": "stdout",
     "output_type": "stream",
     "text": [
      "Train error: 0.37240437949207467\n",
      "Test error: 0.38894945\n",
      "Time Taken: 0:01:18.291557\n",
      "\n",
      "\n",
      "epoch: 189\n"
     ]
    },
    {
     "data": {
      "text/html": [
       "\n",
       "        <progress\n",
       "            value='355'\n",
       "            max='356',\n",
       "            style='width: 100%'\n",
       "        >\n",
       "            355\n",
       "        </progress>\n",
       "    "
      ],
      "text/plain": [
       "<IPython.core.display.HTML object>"
      ]
     },
     "metadata": {},
     "output_type": "display_data"
    },
    {
     "name": "stdout",
     "output_type": "stream",
     "text": [
      "Train error: 0.3721251451633346\n",
      "Test error: 0.38870677\n",
      "Time Taken: 0:01:18.321475\n",
      "\n",
      "\n",
      "epoch: 190\n"
     ]
    },
    {
     "data": {
      "text/html": [
       "\n",
       "        <progress\n",
       "            value='355'\n",
       "            max='356',\n",
       "            style='width: 100%'\n",
       "        >\n",
       "            355\n",
       "        </progress>\n",
       "    "
      ],
      "text/plain": [
       "<IPython.core.display.HTML object>"
      ]
     },
     "metadata": {},
     "output_type": "display_data"
    },
    {
     "name": "stdout",
     "output_type": "stream",
     "text": [
      "Train error: 0.37142071354557094\n",
      "Test error: 0.38985792\n",
      "Time Taken: 0:01:17.751969\n",
      "\n",
      "\n",
      "epoch: 191\n"
     ]
    },
    {
     "data": {
      "text/html": [
       "\n",
       "        <progress\n",
       "            value='355'\n",
       "            max='356',\n",
       "            style='width: 100%'\n",
       "        >\n",
       "            355\n",
       "        </progress>\n",
       "    "
      ],
      "text/plain": [
       "<IPython.core.display.HTML object>"
      ]
     },
     "metadata": {},
     "output_type": "display_data"
    },
    {
     "name": "stdout",
     "output_type": "stream",
     "text": [
      "Train error: 0.3722282155298851\n",
      "Test error: 0.38996014\n",
      "Time Taken: 0:01:18.374305\n",
      "\n",
      "\n",
      "epoch: 192\n"
     ]
    },
    {
     "data": {
      "text/html": [
       "\n",
       "        <progress\n",
       "            value='355'\n",
       "            max='356',\n",
       "            style='width: 100%'\n",
       "        >\n",
       "            355\n",
       "        </progress>\n",
       "    "
      ],
      "text/plain": [
       "<IPython.core.display.HTML object>"
      ]
     },
     "metadata": {},
     "output_type": "display_data"
    },
    {
     "name": "stdout",
     "output_type": "stream",
     "text": [
      "Train error: 0.3712862663705584\n",
      "Test error: 0.38929728\n",
      "Time Taken: 0:01:17.865665\n",
      "\n",
      "\n",
      "epoch: 193\n"
     ]
    },
    {
     "data": {
      "text/html": [
       "\n",
       "        <progress\n",
       "            value='355'\n",
       "            max='356',\n",
       "            style='width: 100%'\n",
       "        >\n",
       "            355\n",
       "        </progress>\n",
       "    "
      ],
      "text/plain": [
       "<IPython.core.display.HTML object>"
      ]
     },
     "metadata": {},
     "output_type": "display_data"
    },
    {
     "name": "stdout",
     "output_type": "stream",
     "text": [
      "Train error: 0.37170577972707614\n",
      "Test error: 0.39014193\n",
      "Time Taken: 0:01:18.044188\n",
      "\n",
      "\n",
      "epoch: 194\n"
     ]
    },
    {
     "data": {
      "text/html": [
       "\n",
       "        <progress\n",
       "            value='355'\n",
       "            max='356',\n",
       "            style='width: 100%'\n",
       "        >\n",
       "            355\n",
       "        </progress>\n",
       "    "
      ],
      "text/plain": [
       "<IPython.core.display.HTML object>"
      ]
     },
     "metadata": {},
     "output_type": "display_data"
    },
    {
     "name": "stdout",
     "output_type": "stream",
     "text": [
      "Train error: 0.37112251352256453\n",
      "Test error: 0.38922587\n",
      "Time Taken: 0:01:18.921838\n",
      "\n",
      "\n",
      "epoch: 195\n"
     ]
    },
    {
     "data": {
      "text/html": [
       "\n",
       "        <progress\n",
       "            value='355'\n",
       "            max='356',\n",
       "            style='width: 100%'\n",
       "        >\n",
       "            355\n",
       "        </progress>\n",
       "    "
      ],
      "text/plain": [
       "<IPython.core.display.HTML object>"
      ]
     },
     "metadata": {},
     "output_type": "display_data"
    },
    {
     "name": "stdout",
     "output_type": "stream",
     "text": [
      "Train error: 0.37245101072418857\n",
      "Test error: 0.38781145\n",
      "Time Taken: 0:01:18.439131\n",
      "\n",
      "\n",
      "epoch: 196\n"
     ]
    },
    {
     "data": {
      "text/html": [
       "\n",
       "        <progress\n",
       "            value='355'\n",
       "            max='356',\n",
       "            style='width: 100%'\n",
       "        >\n",
       "            355\n",
       "        </progress>\n",
       "    "
      ],
      "text/plain": [
       "<IPython.core.display.HTML object>"
      ]
     },
     "metadata": {},
     "output_type": "display_data"
    },
    {
     "name": "stdout",
     "output_type": "stream",
     "text": [
      "Train error: 0.37115516419142064\n",
      "Test error: 0.39352155\n",
      "Time Taken: 0:01:18.741322\n",
      "\n",
      "\n",
      "epoch: 197\n"
     ]
    },
    {
     "data": {
      "text/html": [
       "\n",
       "        <progress\n",
       "            value='355'\n",
       "            max='356',\n",
       "            style='width: 100%'\n",
       "        >\n",
       "            355\n",
       "        </progress>\n",
       "    "
      ],
      "text/plain": [
       "<IPython.core.display.HTML object>"
      ]
     },
     "metadata": {},
     "output_type": "display_data"
    },
    {
     "name": "stdout",
     "output_type": "stream",
     "text": [
      "Train error: 0.37114792021227555\n",
      "Test error: 0.38687083\n",
      "Time Taken: 0:01:18.249638\n",
      "\n",
      "\n",
      "epoch: 198\n"
     ]
    },
    {
     "data": {
      "text/html": [
       "\n",
       "        <progress\n",
       "            value='355'\n",
       "            max='356',\n",
       "            style='width: 100%'\n",
       "        >\n",
       "            355\n",
       "        </progress>\n",
       "    "
      ],
      "text/plain": [
       "<IPython.core.display.HTML object>"
      ]
     },
     "metadata": {},
     "output_type": "display_data"
    },
    {
     "name": "stdout",
     "output_type": "stream",
     "text": [
      "Train error: 0.3707231734000461\n",
      "Test error: 0.38816318\n",
      "Time Taken: 0:01:17.972408\n",
      "\n",
      "\n",
      "epoch: 199\n"
     ]
    },
    {
     "data": {
      "text/html": [
       "\n",
       "        <progress\n",
       "            value='355'\n",
       "            max='356',\n",
       "            style='width: 100%'\n",
       "        >\n",
       "            355\n",
       "        </progress>\n",
       "    "
      ],
      "text/plain": [
       "<IPython.core.display.HTML object>"
      ]
     },
     "metadata": {},
     "output_type": "display_data"
    },
    {
     "name": "stdout",
     "output_type": "stream",
     "text": [
      "Train error: 0.3707019219096278\n",
      "Test error: 0.3908775\n",
      "Time Taken: 0:01:18.246674\n",
      "\n",
      "\n",
      "epoch: 200\n"
     ]
    },
    {
     "data": {
      "text/html": [
       "\n",
       "        <progress\n",
       "            value='355'\n",
       "            max='356',\n",
       "            style='width: 100%'\n",
       "        >\n",
       "            355\n",
       "        </progress>\n",
       "    "
      ],
      "text/plain": [
       "<IPython.core.display.HTML object>"
      ]
     },
     "metadata": {},
     "output_type": "display_data"
    },
    {
     "name": "stdout",
     "output_type": "stream",
     "text": [
      "Train error: 0.3709187817405647\n",
      "Test error: 0.38823563\n",
      "Time Taken: 0:01:18.085079\n",
      "\n",
      "\n",
      "epoch: 201\n"
     ]
    },
    {
     "data": {
      "text/html": [
       "\n",
       "        <progress\n",
       "            value='355'\n",
       "            max='356',\n",
       "            style='width: 100%'\n",
       "        >\n",
       "            355\n",
       "        </progress>\n",
       "    "
      ],
      "text/plain": [
       "<IPython.core.display.HTML object>"
      ]
     },
     "metadata": {},
     "output_type": "display_data"
    },
    {
     "name": "stdout",
     "output_type": "stream",
     "text": [
      "Train error: 0.37075616423512847\n",
      "Test error: 0.3935362\n",
      "Time Taken: 0:01:18.180821\n",
      "\n",
      "\n",
      "epoch: 202\n"
     ]
    },
    {
     "data": {
      "text/html": [
       "\n",
       "        <progress\n",
       "            value='355'\n",
       "            max='356',\n",
       "            style='width: 100%'\n",
       "        >\n",
       "            355\n",
       "        </progress>\n",
       "    "
      ],
      "text/plain": [
       "<IPython.core.display.HTML object>"
      ]
     },
     "metadata": {},
     "output_type": "display_data"
    },
    {
     "name": "stdout",
     "output_type": "stream",
     "text": [
      "Train error: 0.3710759628826464\n",
      "Test error: 0.38773456\n",
      "Time Taken: 0:01:18.410224\n",
      "\n",
      "\n",
      "epoch: 203\n"
     ]
    },
    {
     "data": {
      "text/html": [
       "\n",
       "        <progress\n",
       "            value='355'\n",
       "            max='356',\n",
       "            style='width: 100%'\n",
       "        >\n",
       "            355\n",
       "        </progress>\n",
       "    "
      ],
      "text/plain": [
       "<IPython.core.display.HTML object>"
      ]
     },
     "metadata": {},
     "output_type": "display_data"
    },
    {
     "name": "stdout",
     "output_type": "stream",
     "text": [
      "Train error: 0.3703775922177543\n",
      "Test error: 0.39046317\n",
      "Time Taken: 0:01:18.454091\n",
      "\n",
      "\n",
      "epoch: 204\n"
     ]
    },
    {
     "data": {
      "text/html": [
       "\n",
       "        <progress\n",
       "            value='355'\n",
       "            max='356',\n",
       "            style='width: 100%'\n",
       "        >\n",
       "            355\n",
       "        </progress>\n",
       "    "
      ],
      "text/plain": [
       "<IPython.core.display.HTML object>"
      ]
     },
     "metadata": {},
     "output_type": "display_data"
    },
    {
     "name": "stdout",
     "output_type": "stream",
     "text": [
      "Train error: 0.36973296622155416\n",
      "Test error: 0.38796517\n",
      "Time Taken: 0:01:18.092084\n",
      "\n",
      "\n",
      "epoch: 205\n"
     ]
    },
    {
     "data": {
      "text/html": [
       "\n",
       "        <progress\n",
       "            value='355'\n",
       "            max='356',\n",
       "            style='width: 100%'\n",
       "        >\n",
       "            355\n",
       "        </progress>\n",
       "    "
      ],
      "text/plain": [
       "<IPython.core.display.HTML object>"
      ]
     },
     "metadata": {},
     "output_type": "display_data"
    },
    {
     "name": "stdout",
     "output_type": "stream",
     "text": [
      "Train error: 0.3712301368444738\n",
      "Test error: 0.3902043\n",
      "Time Taken: 0:01:18.505952\n",
      "\n",
      "\n",
      "epoch: 206\n"
     ]
    },
    {
     "data": {
      "text/html": [
       "\n",
       "        <progress\n",
       "            value='355'\n",
       "            max='356',\n",
       "            style='width: 100%'\n",
       "        >\n",
       "            355\n",
       "        </progress>\n",
       "    "
      ],
      "text/plain": [
       "<IPython.core.display.HTML object>"
      ]
     },
     "metadata": {},
     "output_type": "display_data"
    },
    {
     "name": "stdout",
     "output_type": "stream",
     "text": [
      "Train error: 0.37102286194411804\n",
      "Test error: 0.3886069\n",
      "Time Taken: 0:01:18.249638\n",
      "\n",
      "\n",
      "epoch: 207\n"
     ]
    },
    {
     "data": {
      "text/html": [
       "\n",
       "        <progress\n",
       "            value='355'\n",
       "            max='356',\n",
       "            style='width: 100%'\n",
       "        >\n",
       "            355\n",
       "        </progress>\n",
       "    "
      ],
      "text/plain": [
       "<IPython.core.display.HTML object>"
      ]
     },
     "metadata": {},
     "output_type": "display_data"
    },
    {
     "name": "stdout",
     "output_type": "stream",
     "text": [
      "Train error: 0.3705126868167394\n",
      "Test error: 0.3885799\n",
      "Time Taken: 0:01:18.071116\n",
      "\n",
      "\n",
      "epoch: 208\n"
     ]
    },
    {
     "data": {
      "text/html": [
       "\n",
       "        <progress\n",
       "            value='355'\n",
       "            max='356',\n",
       "            style='width: 100%'\n",
       "        >\n",
       "            355\n",
       "        </progress>\n",
       "    "
      ],
      "text/plain": [
       "<IPython.core.display.HTML object>"
      ]
     },
     "metadata": {},
     "output_type": "display_data"
    },
    {
     "name": "stdout",
     "output_type": "stream",
     "text": [
      "Train error: 0.3702483836194159\n",
      "Test error: 0.38766348\n",
      "Time Taken: 0:01:18.175836\n",
      "\n",
      "\n",
      "epoch: 209\n"
     ]
    },
    {
     "data": {
      "text/html": [
       "\n",
       "        <progress\n",
       "            value='355'\n",
       "            max='356',\n",
       "            style='width: 100%'\n",
       "        >\n",
       "            355\n",
       "        </progress>\n",
       "    "
      ],
      "text/plain": [
       "<IPython.core.display.HTML object>"
      ]
     },
     "metadata": {},
     "output_type": "display_data"
    },
    {
     "name": "stdout",
     "output_type": "stream",
     "text": [
      "Train error: 0.37075836675267826\n",
      "Test error: 0.38833326\n",
      "Time Taken: 0:01:18.139931\n",
      "\n",
      "\n",
      "epoch: 210\n"
     ]
    },
    {
     "data": {
      "text/html": [
       "\n",
       "        <progress\n",
       "            value='355'\n",
       "            max='356',\n",
       "            style='width: 100%'\n",
       "        >\n",
       "            355\n",
       "        </progress>\n",
       "    "
      ],
      "text/plain": [
       "<IPython.core.display.HTML object>"
      ]
     },
     "metadata": {},
     "output_type": "display_data"
    },
    {
     "name": "stdout",
     "output_type": "stream",
     "text": [
      "Train error: 0.3704680922165723\n",
      "Test error: 0.38996243\n",
      "Time Taken: 0:01:18.160876\n",
      "\n",
      "\n",
      "epoch: 211\n"
     ]
    },
    {
     "data": {
      "text/html": [
       "\n",
       "        <progress\n",
       "            value='355'\n",
       "            max='356',\n",
       "            style='width: 100%'\n",
       "        >\n",
       "            355\n",
       "        </progress>\n",
       "    "
      ],
      "text/plain": [
       "<IPython.core.display.HTML object>"
      ]
     },
     "metadata": {},
     "output_type": "display_data"
    },
    {
     "name": "stdout",
     "output_type": "stream",
     "text": [
      "Train error: 0.3703451711527059\n",
      "Test error: 0.3927123\n",
      "Time Taken: 0:01:18.033227\n",
      "\n",
      "\n",
      "epoch: 212\n"
     ]
    },
    {
     "data": {
      "text/html": [
       "\n",
       "        <progress\n",
       "            value='355'\n",
       "            max='356',\n",
       "            style='width: 100%'\n",
       "        >\n",
       "            355\n",
       "        </progress>\n",
       "    "
      ],
      "text/plain": [
       "<IPython.core.display.HTML object>"
      ]
     },
     "metadata": {},
     "output_type": "display_data"
    },
    {
     "name": "stdout",
     "output_type": "stream",
     "text": [
      "Train error: 0.37010580175359487\n",
      "Test error: 0.3904544\n",
      "Time Taken: 0:01:18.111009\n",
      "\n",
      "\n",
      "epoch: 213\n"
     ]
    },
    {
     "data": {
      "text/html": [
       "\n",
       "        <progress\n",
       "            value='355'\n",
       "            max='356',\n",
       "            style='width: 100%'\n",
       "        >\n",
       "            355\n",
       "        </progress>\n",
       "    "
      ],
      "text/plain": [
       "<IPython.core.display.HTML object>"
      ]
     },
     "metadata": {},
     "output_type": "display_data"
    },
    {
     "name": "stdout",
     "output_type": "stream",
     "text": [
      "Train error: 0.37058940009332036\n",
      "Test error: 0.3875922\n",
      "Time Taken: 0:01:18.098043\n",
      "\n",
      "\n",
      "epoch: 214\n"
     ]
    },
    {
     "data": {
      "text/html": [
       "\n",
       "        <progress\n",
       "            value='355'\n",
       "            max='356',\n",
       "            style='width: 100%'\n",
       "        >\n",
       "            355\n",
       "        </progress>\n",
       "    "
      ],
      "text/plain": [
       "<IPython.core.display.HTML object>"
      ]
     },
     "metadata": {},
     "output_type": "display_data"
    },
    {
     "name": "stdout",
     "output_type": "stream",
     "text": [
      "Train error: 0.3701658269049416\n",
      "Test error: 0.39149576\n",
      "Time Taken: 0:01:18.036216\n",
      "\n",
      "\n",
      "epoch: 215\n"
     ]
    },
    {
     "data": {
      "text/html": [
       "\n",
       "        <progress\n",
       "            value='355'\n",
       "            max='356',\n",
       "            style='width: 100%'\n",
       "        >\n",
       "            355\n",
       "        </progress>\n",
       "    "
      ],
      "text/plain": [
       "<IPython.core.display.HTML object>"
      ]
     },
     "metadata": {},
     "output_type": "display_data"
    },
    {
     "name": "stdout",
     "output_type": "stream",
     "text": [
      "Train error: 0.36990356134696745\n",
      "Test error: 0.3909238\n",
      "Time Taken: 0:01:18.076120\n",
      "\n",
      "\n",
      "epoch: 216\n"
     ]
    },
    {
     "data": {
      "text/html": [
       "\n",
       "        <progress\n",
       "            value='355'\n",
       "            max='356',\n",
       "            style='width: 100%'\n",
       "        >\n",
       "            355\n",
       "        </progress>\n",
       "    "
      ],
      "text/plain": [
       "<IPython.core.display.HTML object>"
      ]
     },
     "metadata": {},
     "output_type": "display_data"
    },
    {
     "name": "stdout",
     "output_type": "stream",
     "text": [
      "Train error: 0.37055244303085433\n",
      "Test error: 0.38739744\n",
      "Time Taken: 0:01:18.525899\n",
      "\n",
      "\n",
      "epoch: 217\n"
     ]
    },
    {
     "data": {
      "text/html": [
       "\n",
       "        <progress\n",
       "            value='355'\n",
       "            max='356',\n",
       "            style='width: 100%'\n",
       "        >\n",
       "            355\n",
       "        </progress>\n",
       "    "
      ],
      "text/plain": [
       "<IPython.core.display.HTML object>"
      ]
     },
     "metadata": {},
     "output_type": "display_data"
    },
    {
     "name": "stdout",
     "output_type": "stream",
     "text": [
      "Train error: 0.37022643097689456\n",
      "Test error: 0.3930566\n",
      "Time Taken: 0:01:18.149027\n",
      "\n",
      "\n",
      "epoch: 218\n"
     ]
    },
    {
     "data": {
      "text/html": [
       "\n",
       "        <progress\n",
       "            value='355'\n",
       "            max='356',\n",
       "            style='width: 100%'\n",
       "        >\n",
       "            355\n",
       "        </progress>\n",
       "    "
      ],
      "text/plain": [
       "<IPython.core.display.HTML object>"
      ]
     },
     "metadata": {},
     "output_type": "display_data"
    },
    {
     "name": "stdout",
     "output_type": "stream",
     "text": [
      "Train error: 0.37076248014476937\n",
      "Test error: 0.39081383\n",
      "Time Taken: 0:01:18.398244\n",
      "\n",
      "\n",
      "epoch: 219\n"
     ]
    },
    {
     "data": {
      "text/html": [
       "\n",
       "        <progress\n",
       "            value='355'\n",
       "            max='356',\n",
       "            style='width: 100%'\n",
       "        >\n",
       "            355\n",
       "        </progress>\n",
       "    "
      ],
      "text/plain": [
       "<IPython.core.display.HTML object>"
      ]
     },
     "metadata": {},
     "output_type": "display_data"
    },
    {
     "name": "stdout",
     "output_type": "stream",
     "text": [
      "Train error: 0.3701286601348662\n",
      "Test error: 0.3898292\n",
      "Time Taken: 0:01:18.359362\n",
      "\n",
      "\n",
      "epoch: 220\n"
     ]
    },
    {
     "data": {
      "text/html": [
       "\n",
       "        <progress\n",
       "            value='355'\n",
       "            max='356',\n",
       "            style='width: 100%'\n",
       "        >\n",
       "            355\n",
       "        </progress>\n",
       "    "
      ],
      "text/plain": [
       "<IPython.core.display.HTML object>"
      ]
     },
     "metadata": {},
     "output_type": "display_data"
    },
    {
     "name": "stdout",
     "output_type": "stream",
     "text": [
      "Train error: 0.3700066462369032\n",
      "Test error: 0.39400047\n",
      "Time Taken: 0:01:18.268587\n",
      "\n",
      "\n",
      "epoch: 221\n"
     ]
    },
    {
     "data": {
      "text/html": [
       "\n",
       "        <progress\n",
       "            value='355'\n",
       "            max='356',\n",
       "            style='width: 100%'\n",
       "        >\n",
       "            355\n",
       "        </progress>\n",
       "    "
      ],
      "text/plain": [
       "<IPython.core.display.HTML object>"
      ]
     },
     "metadata": {},
     "output_type": "display_data"
    },
    {
     "name": "stdout",
     "output_type": "stream",
     "text": [
      "Train error: 0.3702432890173415\n",
      "Test error: 0.39012262\n",
      "Time Taken: 0:01:18.463067\n",
      "\n",
      "\n",
      "epoch: 222\n"
     ]
    },
    {
     "data": {
      "text/html": [
       "\n",
       "        <progress\n",
       "            value='355'\n",
       "            max='356',\n",
       "            style='width: 100%'\n",
       "        >\n",
       "            355\n",
       "        </progress>\n",
       "    "
      ],
      "text/plain": [
       "<IPython.core.display.HTML object>"
      ]
     },
     "metadata": {},
     "output_type": "display_data"
    },
    {
     "name": "stdout",
     "output_type": "stream",
     "text": [
      "Train error: 0.3704208622516041\n",
      "Test error: 0.39057827\n",
      "Time Taken: 0:01:18.467055\n",
      "\n",
      "\n",
      "epoch: 223\n"
     ]
    },
    {
     "data": {
      "text/html": [
       "\n",
       "        <progress\n",
       "            value='355'\n",
       "            max='356',\n",
       "            style='width: 100%'\n",
       "        >\n",
       "            355\n",
       "        </progress>\n",
       "    "
      ],
      "text/plain": [
       "<IPython.core.display.HTML object>"
      ]
     },
     "metadata": {},
     "output_type": "display_data"
    },
    {
     "name": "stdout",
     "output_type": "stream",
     "text": [
      "Train error: 0.37007279110626434\n",
      "Test error: 0.39043635\n",
      "Time Taken: 0:01:18.366330\n",
      "\n",
      "\n",
      "epoch: 224\n"
     ]
    },
    {
     "data": {
      "text/html": [
       "\n",
       "        <progress\n",
       "            value='355'\n",
       "            max='356',\n",
       "            style='width: 100%'\n",
       "        >\n",
       "            355\n",
       "        </progress>\n",
       "    "
      ],
      "text/plain": [
       "<IPython.core.display.HTML object>"
      ]
     },
     "metadata": {},
     "output_type": "display_data"
    },
    {
     "name": "stdout",
     "output_type": "stream",
     "text": [
      "Train error: 0.3698506908517488\n",
      "Test error: 0.3899349\n",
      "Time Taken: 0:01:17.979361\n",
      "\n",
      "\n",
      "epoch: 225\n"
     ]
    },
    {
     "data": {
      "text/html": [
       "\n",
       "        <progress\n",
       "            value='355'\n",
       "            max='356',\n",
       "            style='width: 100%'\n",
       "        >\n",
       "            355\n",
       "        </progress>\n",
       "    "
      ],
      "text/plain": [
       "<IPython.core.display.HTML object>"
      ]
     },
     "metadata": {},
     "output_type": "display_data"
    },
    {
     "name": "stdout",
     "output_type": "stream",
     "text": [
      "Train error: 0.3700269211345995\n",
      "Test error: 0.3910393\n",
      "Time Taken: 0:01:17.960457\n",
      "\n",
      "\n",
      "epoch: 226\n"
     ]
    },
    {
     "data": {
      "text/html": [
       "\n",
       "        <progress\n",
       "            value='355'\n",
       "            max='356',\n",
       "            style='width: 100%'\n",
       "        >\n",
       "            355\n",
       "        </progress>\n",
       "    "
      ],
      "text/plain": [
       "<IPython.core.display.HTML object>"
      ]
     },
     "metadata": {},
     "output_type": "display_data"
    },
    {
     "name": "stdout",
     "output_type": "stream",
     "text": [
      "Train error: 0.369513905719972\n",
      "Test error: 0.38771525\n",
      "Time Taken: 0:01:18.343418\n",
      "\n",
      "\n",
      "epoch: 227\n"
     ]
    },
    {
     "data": {
      "text/html": [
       "\n",
       "        <progress\n",
       "            value='355'\n",
       "            max='356',\n",
       "            style='width: 100%'\n",
       "        >\n",
       "            355\n",
       "        </progress>\n",
       "    "
      ],
      "text/plain": [
       "<IPython.core.display.HTML object>"
      ]
     },
     "metadata": {},
     "output_type": "display_data"
    },
    {
     "name": "stdout",
     "output_type": "stream",
     "text": [
      "Train error: 0.36968953718601816\n",
      "Test error: 0.3907959\n",
      "Time Taken: 0:01:18.077115\n",
      "\n",
      "\n",
      "epoch: 228\n"
     ]
    },
    {
     "data": {
      "text/html": [
       "\n",
       "        <progress\n",
       "            value='355'\n",
       "            max='356',\n",
       "            style='width: 100%'\n",
       "        >\n",
       "            355\n",
       "        </progress>\n",
       "    "
      ],
      "text/plain": [
       "<IPython.core.display.HTML object>"
      ]
     },
     "metadata": {},
     "output_type": "display_data"
    },
    {
     "name": "stdout",
     "output_type": "stream",
     "text": [
      "Train error: 0.37016493174391735\n",
      "Test error: 0.3903756\n",
      "Time Taken: 0:01:17.946463\n",
      "\n",
      "\n",
      "epoch: 229\n"
     ]
    },
    {
     "data": {
      "text/html": [
       "\n",
       "        <progress\n",
       "            value='355'\n",
       "            max='356',\n",
       "            style='width: 100%'\n",
       "        >\n",
       "            355\n",
       "        </progress>\n",
       "    "
      ],
      "text/plain": [
       "<IPython.core.display.HTML object>"
      ]
     },
     "metadata": {},
     "output_type": "display_data"
    },
    {
     "name": "stdout",
     "output_type": "stream",
     "text": [
      "Train error: 0.37051667646622993\n",
      "Test error: 0.39199466\n",
      "Time Taken: 0:01:18.196780\n",
      "\n",
      "\n",
      "epoch: 230\n"
     ]
    },
    {
     "data": {
      "text/html": [
       "\n",
       "        <progress\n",
       "            value='355'\n",
       "            max='356',\n",
       "            style='width: 100%'\n",
       "        >\n",
       "            355\n",
       "        </progress>\n",
       "    "
      ],
      "text/plain": [
       "<IPython.core.display.HTML object>"
      ]
     },
     "metadata": {},
     "output_type": "display_data"
    },
    {
     "name": "stdout",
     "output_type": "stream",
     "text": [
      "Train error: 0.3695782807511343\n",
      "Test error: 0.38990638\n",
      "Time Taken: 0:01:17.208423\n",
      "\n",
      "\n",
      "epoch: 231\n"
     ]
    },
    {
     "data": {
      "text/html": [
       "\n",
       "        <progress\n",
       "            value='355'\n",
       "            max='356',\n",
       "            style='width: 100%'\n",
       "        >\n",
       "            355\n",
       "        </progress>\n",
       "    "
      ],
      "text/plain": [
       "<IPython.core.display.HTML object>"
      ]
     },
     "metadata": {},
     "output_type": "display_data"
    },
    {
     "name": "stdout",
     "output_type": "stream",
     "text": [
      "Train error: 0.3699776550413857\n",
      "Test error: 0.39090258\n",
      "Time Taken: 0:01:17.341069\n",
      "\n",
      "\n",
      "epoch: 232\n"
     ]
    },
    {
     "data": {
      "text/html": [
       "\n",
       "        <progress\n",
       "            value='355'\n",
       "            max='356',\n",
       "            style='width: 100%'\n",
       "        >\n",
       "            355\n",
       "        </progress>\n",
       "    "
      ],
      "text/plain": [
       "<IPython.core.display.HTML object>"
      ]
     },
     "metadata": {},
     "output_type": "display_data"
    },
    {
     "name": "stdout",
     "output_type": "stream",
     "text": [
      "Train error: 0.37026164388992416\n",
      "Test error: 0.38807762\n",
      "Time Taken: 0:01:17.926533\n",
      "\n",
      "\n",
      "epoch: 233\n"
     ]
    },
    {
     "data": {
      "text/html": [
       "\n",
       "        <progress\n",
       "            value='355'\n",
       "            max='356',\n",
       "            style='width: 100%'\n",
       "        >\n",
       "            355\n",
       "        </progress>\n",
       "    "
      ],
      "text/plain": [
       "<IPython.core.display.HTML object>"
      ]
     },
     "metadata": {},
     "output_type": "display_data"
    },
    {
     "name": "stdout",
     "output_type": "stream",
     "text": [
      "Train error: 0.36979955040233237\n",
      "Test error: 0.38839266\n",
      "Time Taken: 0:01:17.937472\n",
      "\n",
      "\n",
      "epoch: 234\n"
     ]
    },
    {
     "data": {
      "text/html": [
       "\n",
       "        <progress\n",
       "            value='355'\n",
       "            max='356',\n",
       "            style='width: 100%'\n",
       "        >\n",
       "            355\n",
       "        </progress>\n",
       "    "
      ],
      "text/plain": [
       "<IPython.core.display.HTML object>"
      ]
     },
     "metadata": {},
     "output_type": "display_data"
    },
    {
     "name": "stdout",
     "output_type": "stream",
     "text": [
      "Train error: 0.3695198962386225\n",
      "Test error: 0.3910371\n",
      "Time Taken: 0:01:18.210741\n",
      "\n",
      "\n",
      "epoch: 235\n"
     ]
    },
    {
     "data": {
      "text/html": [
       "\n",
       "        <progress\n",
       "            value='355'\n",
       "            max='356',\n",
       "            style='width: 100%'\n",
       "        >\n",
       "            355\n",
       "        </progress>\n",
       "    "
      ],
      "text/plain": [
       "<IPython.core.display.HTML object>"
      ]
     },
     "metadata": {},
     "output_type": "display_data"
    },
    {
     "name": "stdout",
     "output_type": "stream",
     "text": [
      "Train error: 0.36949961882242016\n",
      "Test error: 0.3913341\n",
      "Time Taken: 0:01:18.241659\n",
      "\n",
      "\n",
      "epoch: 236\n"
     ]
    },
    {
     "data": {
      "text/html": [
       "\n",
       "        <progress\n",
       "            value='355'\n",
       "            max='356',\n",
       "            style='width: 100%'\n",
       "        >\n",
       "            355\n",
       "        </progress>\n",
       "    "
      ],
      "text/plain": [
       "<IPython.core.display.HTML object>"
      ]
     },
     "metadata": {},
     "output_type": "display_data"
    },
    {
     "name": "stdout",
     "output_type": "stream",
     "text": [
      "Train error: 0.36992938317043683\n",
      "Test error: 0.393242\n",
      "Time Taken: 0:01:18.031216\n",
      "\n",
      "\n",
      "epoch: 237\n"
     ]
    },
    {
     "data": {
      "text/html": [
       "\n",
       "        <progress\n",
       "            value='355'\n",
       "            max='356',\n",
       "            style='width: 100%'\n",
       "        >\n",
       "            355\n",
       "        </progress>\n",
       "    "
      ],
      "text/plain": [
       "<IPython.core.display.HTML object>"
      ]
     },
     "metadata": {},
     "output_type": "display_data"
    },
    {
     "name": "stdout",
     "output_type": "stream",
     "text": [
      "Train error: 0.369579519856144\n",
      "Test error: 0.39065495\n",
      "Time Taken: 0:01:18.138934\n",
      "\n",
      "\n",
      "epoch: 238\n"
     ]
    },
    {
     "data": {
      "text/html": [
       "\n",
       "        <progress\n",
       "            value='355'\n",
       "            max='356',\n",
       "            style='width: 100%'\n",
       "        >\n",
       "            355\n",
       "        </progress>\n",
       "    "
      ],
      "text/plain": [
       "<IPython.core.display.HTML object>"
      ]
     },
     "metadata": {},
     "output_type": "display_data"
    },
    {
     "name": "stdout",
     "output_type": "stream",
     "text": [
      "Train error: 0.3698023734797894\n",
      "Test error: 0.39176628\n",
      "Time Taken: 0:01:18.087073\n",
      "\n",
      "\n",
      "epoch: 239\n"
     ]
    },
    {
     "data": {
      "text/html": [
       "\n",
       "        <progress\n",
       "            value='355'\n",
       "            max='356',\n",
       "            style='width: 100%'\n",
       "        >\n",
       "            355\n",
       "        </progress>\n",
       "    "
      ],
      "text/plain": [
       "<IPython.core.display.HTML object>"
      ]
     },
     "metadata": {},
     "output_type": "display_data"
    },
    {
     "name": "stdout",
     "output_type": "stream",
     "text": [
      "Train error: 0.3702447833309711\n",
      "Test error: 0.39198273\n",
      "Time Taken: 0:01:18.353361\n",
      "\n",
      "\n",
      "epoch: 240\n"
     ]
    },
    {
     "data": {
      "text/html": [
       "\n",
       "        <progress\n",
       "            value='355'\n",
       "            max='356',\n",
       "            style='width: 100%'\n",
       "        >\n",
       "            355\n",
       "        </progress>\n",
       "    "
      ],
      "text/plain": [
       "<IPython.core.display.HTML object>"
      ]
     },
     "metadata": {},
     "output_type": "display_data"
    },
    {
     "name": "stdout",
     "output_type": "stream",
     "text": [
      "Train error: 0.36960262228065816\n",
      "Test error: 0.3937285\n",
      "Time Taken: 0:01:18.241659\n",
      "\n",
      "\n",
      "epoch: 241\n"
     ]
    },
    {
     "data": {
      "text/html": [
       "\n",
       "        <progress\n",
       "            value='355'\n",
       "            max='356',\n",
       "            style='width: 100%'\n",
       "        >\n",
       "            355\n",
       "        </progress>\n",
       "    "
      ],
      "text/plain": [
       "<IPython.core.display.HTML object>"
      ]
     },
     "metadata": {},
     "output_type": "display_data"
    },
    {
     "name": "stdout",
     "output_type": "stream",
     "text": [
      "Train error: 0.36985435964356006\n",
      "Test error: 0.39462307\n",
      "Time Taken: 0:01:18.060170\n",
      "\n",
      "\n",
      "epoch: 242\n"
     ]
    },
    {
     "data": {
      "text/html": [
       "\n",
       "        <progress\n",
       "            value='355'\n",
       "            max='356',\n",
       "            style='width: 100%'\n",
       "        >\n",
       "            355\n",
       "        </progress>\n",
       "    "
      ],
      "text/plain": [
       "<IPython.core.display.HTML object>"
      ]
     },
     "metadata": {},
     "output_type": "display_data"
    },
    {
     "name": "stdout",
     "output_type": "stream",
     "text": [
      "Train error: 0.3693567082076005\n",
      "Test error: 0.38808733\n",
      "Time Taken: 0:01:18.690459\n",
      "\n",
      "\n",
      "epoch: 243\n"
     ]
    },
    {
     "data": {
      "text/html": [
       "\n",
       "        <progress\n",
       "            value='355'\n",
       "            max='356',\n",
       "            style='width: 100%'\n",
       "        >\n",
       "            355\n",
       "        </progress>\n",
       "    "
      ],
      "text/plain": [
       "<IPython.core.display.HTML object>"
      ]
     },
     "metadata": {},
     "output_type": "display_data"
    },
    {
     "name": "stdout",
     "output_type": "stream",
     "text": [
      "Train error: 0.3690419129082854\n",
      "Test error: 0.3900415\n",
      "Time Taken: 0:01:18.282550\n",
      "\n",
      "\n",
      "epoch: 244\n"
     ]
    },
    {
     "data": {
      "text/html": [
       "\n",
       "        <progress\n",
       "            value='355'\n",
       "            max='356',\n",
       "            style='width: 100%'\n",
       "        >\n",
       "            355\n",
       "        </progress>\n",
       "    "
      ],
      "text/plain": [
       "<IPython.core.display.HTML object>"
      ]
     },
     "metadata": {},
     "output_type": "display_data"
    },
    {
     "name": "stdout",
     "output_type": "stream",
     "text": [
      "Train error: 0.36901668578806057\n",
      "Test error: 0.39289665\n",
      "Time Taken: 0:01:18.201766\n",
      "\n",
      "\n",
      "epoch: 245\n"
     ]
    },
    {
     "data": {
      "text/html": [
       "\n",
       "        <progress\n",
       "            value='355'\n",
       "            max='356',\n",
       "            style='width: 100%'\n",
       "        >\n",
       "            355\n",
       "        </progress>\n",
       "    "
      ],
      "text/plain": [
       "<IPython.core.display.HTML object>"
      ]
     },
     "metadata": {},
     "output_type": "display_data"
    },
    {
     "name": "stdout",
     "output_type": "stream",
     "text": [
      "Train error: 0.369631096930571\n",
      "Test error: 0.38939703\n",
      "Time Taken: 0:01:17.856690\n",
      "\n",
      "\n",
      "epoch: 246\n"
     ]
    },
    {
     "data": {
      "text/html": [
       "\n",
       "        <progress\n",
       "            value='355'\n",
       "            max='356',\n",
       "            style='width: 100%'\n",
       "        >\n",
       "            355\n",
       "        </progress>\n",
       "    "
      ],
      "text/plain": [
       "<IPython.core.display.HTML object>"
      ]
     },
     "metadata": {},
     "output_type": "display_data"
    },
    {
     "name": "stdout",
     "output_type": "stream",
     "text": [
      "Train error: 0.3695309283867688\n",
      "Test error: 0.38932738\n",
      "Time Taken: 0:01:18.089067\n",
      "\n",
      "\n",
      "epoch: 247\n"
     ]
    },
    {
     "data": {
      "text/html": [
       "\n",
       "        <progress\n",
       "            value='355'\n",
       "            max='356',\n",
       "            style='width: 100%'\n",
       "        >\n",
       "            355\n",
       "        </progress>\n",
       "    "
      ],
      "text/plain": [
       "<IPython.core.display.HTML object>"
      ]
     },
     "metadata": {},
     "output_type": "display_data"
    },
    {
     "name": "stdout",
     "output_type": "stream",
     "text": [
      "Train error: 0.3690501752873542\n",
      "Test error: 0.38622445\n",
      "Time Taken: 0:01:18.145916\n",
      "\n",
      "\n",
      "epoch: 248\n"
     ]
    },
    {
     "data": {
      "text/html": [
       "\n",
       "        <progress\n",
       "            value='355'\n",
       "            max='356',\n",
       "            style='width: 100%'\n",
       "        >\n",
       "            355\n",
       "        </progress>\n",
       "    "
      ],
      "text/plain": [
       "<IPython.core.display.HTML object>"
      ]
     },
     "metadata": {},
     "output_type": "display_data"
    },
    {
     "name": "stdout",
     "output_type": "stream",
     "text": [
      "Train error: 0.36949967255055066\n",
      "Test error: 0.39010182\n",
      "Time Taken: 0:01:18.028302\n",
      "\n",
      "\n",
      "epoch: 249\n"
     ]
    },
    {
     "data": {
      "text/html": [
       "\n",
       "        <progress\n",
       "            value='355'\n",
       "            max='356',\n",
       "            style='width: 100%'\n",
       "        >\n",
       "            355\n",
       "        </progress>\n",
       "    "
      ],
      "text/plain": [
       "<IPython.core.display.HTML object>"
      ]
     },
     "metadata": {},
     "output_type": "display_data"
    },
    {
     "name": "stdout",
     "output_type": "stream",
     "text": [
      "Train error: 0.36904796571798726\n",
      "Test error: 0.39312872\n",
      "Time Taken: 0:01:18.056155\n",
      "\n",
      "\n",
      "epoch: 250\n"
     ]
    },
    {
     "data": {
      "text/html": [
       "\n",
       "        <progress\n",
       "            value='355'\n",
       "            max='356',\n",
       "            style='width: 100%'\n",
       "        >\n",
       "            355\n",
       "        </progress>\n",
       "    "
      ],
      "text/plain": [
       "<IPython.core.display.HTML object>"
      ]
     },
     "metadata": {},
     "output_type": "display_data"
    },
    {
     "name": "stdout",
     "output_type": "stream",
     "text": [
      "Train error: 0.3699251157297215\n",
      "Test error: 0.39417833\n",
      "Time Taken: 0:01:18.222710\n",
      "\n",
      "\n"
     ]
    }
   ],
   "source": [
    "sess = tf.Session()\n",
    "\n",
    "sess.run(tf.global_variables_initializer())\n",
    "no_of_batches = int(len(X_train)/config['batch_size'])\n",
    "avg_tr_loss_per_epoch = []\n",
    "avg_ts_loss = []\n",
    "test_error = []\n",
    "train_error = []\n",
    "for i in range(config['epoch']):\n",
    "    print('epoch:',i+1)\n",
    "    ptr = 0\n",
    "    cc = 0\n",
    "    out_disp = display(progress(1, no_of_batches+1), display_id=True)\n",
    "    start_time = datetime.now()\n",
    "    for j in range(no_of_batches):\n",
    "        inp = X_train[j*config['batch_size']:(j+1)*config['batch_size']]\n",
    "        out = y_train[j*config['batch_size']:(j+1)*config['batch_size']]\n",
    "        _, c = sess.run([train, cost], {data_x: inp, target: out})\n",
    "        cc += c\n",
    "        out_disp.update(progress(j+1, no_of_batches+1))\n",
    "    avg_tr_loss_per_epoch.append(cc/no_of_batches)\n",
    "    batch_number = randint(0, no_of_batches)\n",
    "#     train_error.append(\n",
    "#         sess.run(error, {\n",
    "#             data_x: X_train[batch_number*config['batch_size'] : (batch_number+1)*config['batch_size']],\n",
    "#             target: y_train[batch_number*config['batch_size'] : (batch_number+1)*config['batch_size']]\n",
    "#         })\n",
    "#     )\n",
    "#     test_error.append(sess.run(error, {data_x: X_test, target: y_test}))\n",
    "    avg_ts_loss.append(\n",
    "        sess.run(cost, {data_x: X_test, target: y_test})\n",
    "    )\n",
    "    end_time = datetime.now()\n",
    "    print('Train error:',avg_tr_loss_per_epoch[-1])\n",
    "    print('Test error:',avg_ts_loss[-1])\n",
    "    print('Time Taken:',str(end_time-start_time))\n",
    "    print('\\n')"
   ]
  },
  {
   "cell_type": "code",
   "execution_count": 26,
   "metadata": {},
   "outputs": [],
   "source": [
    "import pickle\n",
    "with open('stats.pkl', 'wb') as f:\n",
    "    pickle.dump((avg_tr_loss_per_epoch, avg_ts_loss, config), f)"
   ]
  },
  {
   "cell_type": "code",
   "execution_count": null,
   "metadata": {},
   "outputs": [],
   "source": []
  },
  {
   "cell_type": "code",
   "execution_count": null,
   "metadata": {},
   "outputs": [],
   "source": []
  }
 ],
 "metadata": {
  "kernelspec": {
   "display_name": "Python 3",
   "language": "python",
   "name": "python3"
  },
  "language_info": {
   "codemirror_mode": {
    "name": "ipython",
    "version": 3
   },
   "file_extension": ".py",
   "mimetype": "text/x-python",
   "name": "python",
   "nbconvert_exporter": "python",
   "pygments_lexer": "ipython3",
   "version": "3.6.6"
  }
 },
 "nbformat": 4,
 "nbformat_minor": 2
}
