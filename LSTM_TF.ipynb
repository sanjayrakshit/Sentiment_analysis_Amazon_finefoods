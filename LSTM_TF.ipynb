{
 "cells": [
  {
   "cell_type": "code",
   "execution_count": 1,
   "metadata": {},
   "outputs": [
    {
     "name": "stderr",
     "output_type": "stream",
     "text": [
      "Using TensorFlow backend.\n"
     ]
    }
   ],
   "source": [
    "import pandas as pd \n",
    "from collections import Counter\n",
    "import string\n",
    "import scipy as np\n",
    "from tqdm import tqdm\n",
    "from keras.preprocessing import sequence\n",
    "from sklearn.model_selection import train_test_split\n",
    "from bs4 import BeautifulSoup\n",
    "from random import randint\n",
    "from datetime import datetime\n",
    "import re\n",
    "import time\n",
    "import warnings \n",
    "warnings.filterwarnings('ignore')\n",
    "\n",
    "import tensorflow as tf"
   ]
  },
  {
   "cell_type": "code",
   "execution_count": 2,
   "metadata": {},
   "outputs": [],
   "source": [
    "%matplotlib notebook\n",
    "import matplotlib.pyplot as plt\n",
    "\n",
    "def plt_dynamic(x, vy, ty, ax, colors=['b'], save=False):\n",
    "    ax.clear()\n",
    "    ax.plot(x, vy, 'b', label=\"Validation Loss\")\n",
    "    ax.plot(x, ty, 'r', label=\"Train Loss\")\n",
    "    plt.ylim([0,1])\n",
    "    plt.legend()\n",
    "    plt.grid()\n",
    "    plt.pause(1)\n",
    "    fig.canvas.draw()\n",
    "    if save:\n",
    "        plt.save('plot.png')"
   ]
  },
  {
   "cell_type": "code",
   "execution_count": 3,
   "metadata": {},
   "outputs": [
    {
     "name": "stdout",
     "output_type": "stream",
     "text": [
      "Index(['Id', 'ProductId', 'UserId', 'ProfileName', 'HelpfulnessNumerator',\n",
      "       'HelpfulnessDenominator', 'Score', 'Time', 'Summary', 'Text'],\n",
      "      dtype='object')\n"
     ]
    }
   ],
   "source": [
    "data = pd.read_csv('./Reviews.csv').dropna()\n",
    "print(data.columns)"
   ]
  },
  {
   "cell_type": "code",
   "execution_count": 4,
   "metadata": {},
   "outputs": [],
   "source": [
    "data = data[['Text', 'Summary', 'Score']]\n",
    "data.drop_duplicates(inplace=True)\n",
    "data.fillna('', inplace=True)\n",
    "data = data[data['Score'] != 3] \n",
    "data['Score'] = [1 if item>3 else 0 for item in data['Score'].values]"
   ]
  },
  {
   "cell_type": "code",
   "execution_count": 5,
   "metadata": {},
   "outputs": [
    {
     "data": {
      "text/plain": [
       "array([1, 0], dtype=int64)"
      ]
     },
     "execution_count": 5,
     "metadata": {},
     "output_type": "execute_result"
    }
   ],
   "source": [
    "data['Score'].unique()"
   ]
  },
  {
   "cell_type": "code",
   "execution_count": 6,
   "metadata": {},
   "outputs": [
    {
     "name": "stderr",
     "output_type": "stream",
     "text": [
      "100%|███████████████████████████████████████████████████████████████████████| 365150/365150 [00:06<00:00, 52332.40it/s]\n",
      "100%|██████████████████████████████████████████████████████████████████████| 365150/365150 [00:02<00:00, 123644.70it/s]\n"
     ]
    }
   ],
   "source": [
    "def preprocess(x):\n",
    "    # x = BeautifulSoup(x, 'lxml').get_text()\n",
    "    x = re.sub('<[^>]*>', '', x)\n",
    "    for punc in string.punctuation:\n",
    "        if punc != \"\\'\":\n",
    "            x = x.replace(punc, f' {punc} ')\n",
    "    return ' '.join(x.split()).lower()\n",
    "\n",
    "data['Text'] = [preprocess(item) for item in tqdm(data['Text'].values, total=len(data['Text']))]\n",
    "data['Summary'] = [preprocess(item) for item in tqdm(data['Summary'].values, total=len(data['Summary']))]"
   ]
  },
  {
   "cell_type": "code",
   "execution_count": 7,
   "metadata": {},
   "outputs": [],
   "source": [
    "X_data = [i+' '+j for i,j in zip(list(data['Summary'].values), list(data['Text'].values))]\n",
    "Y_data = list(data['Score'].values)"
   ]
  },
  {
   "cell_type": "code",
   "execution_count": 8,
   "metadata": {},
   "outputs": [
    {
     "name": "stdout",
     "output_type": "stream",
     "text": [
      "Number of unique tokens: 146896\n"
     ]
    }
   ],
   "source": [
    "corpus = dict(Counter(' '.join(X_data).split()))\n",
    "print('Number of unique tokens:', len(corpus))"
   ]
  },
  {
   "cell_type": "code",
   "execution_count": 9,
   "metadata": {},
   "outputs": [
    {
     "name": "stdout",
     "output_type": "stream",
     "text": [
      "Minimum frequency of words: 34.0\n"
     ]
    }
   ],
   "source": [
    "min_word_count = np.percentile(list(corpus.values()), 90)\n",
    "print('Minimum frequency of words:', min_word_count)"
   ]
  },
  {
   "cell_type": "code",
   "execution_count": 10,
   "metadata": {},
   "outputs": [
    {
     "name": "stdout",
     "output_type": "stream",
     "text": [
      "Number of unique tokens after deleting less frequent tokens: 14702\n"
     ]
    }
   ],
   "source": [
    "words = list(corpus.keys())\n",
    "for w in words:\n",
    "    if corpus[w] < min_word_count:\n",
    "        del corpus[w]\n",
    "\n",
    "print('Number of unique tokens after deleting less frequent tokens:', len(corpus))"
   ]
  },
  {
   "cell_type": "code",
   "execution_count": 11,
   "metadata": {},
   "outputs": [
    {
     "name": "stdout",
     "output_type": "stream",
     "text": [
      "Suitable sequence length: 186\n"
     ]
    }
   ],
   "source": [
    "seq_len = [len(item.split()) for item in X_data]\n",
    "\n",
    "suitable_seq_len = int(np.percentile(seq_len, 90))\n",
    "print('Suitable sequence length:', suitable_seq_len)"
   ]
  },
  {
   "cell_type": "code",
   "execution_count": 12,
   "metadata": {},
   "outputs": [],
   "source": [
    "# Creating the word ids\n",
    "word_ids = {\n",
    "    item: index+2 for index, item in enumerate(corpus.keys())\n",
    "}"
   ]
  },
  {
   "cell_type": "code",
   "execution_count": 13,
   "metadata": {},
   "outputs": [],
   "source": [
    "X_data_int = []; Y_data_new = []\n",
    "for item, y in zip(X_data, Y_data):\n",
    "    temp = [word_ids.get(word, 1) for word in item.split()]\n",
    "    if temp:\n",
    "        X_data_int.append(temp)\n",
    "        Y_data_new.append(y)"
   ]
  },
  {
   "cell_type": "code",
   "execution_count": 14,
   "metadata": {},
   "outputs": [
    {
     "name": "stdout",
     "output_type": "stream",
     "text": [
      "Sample X_data with word ids: [ 0  0  0  0  0  0  0  0  0  0  0  0  0  0  0  0  0  0  0  0  0  0  0  0\n",
      "  0  0  0  0  0  0  0  0  0  0  0  0  0  0  0  0  0  0  0  0  0  0  0  0\n",
      "  0  0  0  0  0  0  0  0  0  0  0  0  0  0  0  0  0  0  0  0  0  0  0  0\n",
      "  0  0  0  0  0  0  0  0  0  0  0  0  0  0  0  0  0  0  0  0  0  0  0  0\n",
      "  0  0  0  0  0  0  0  0  0  0  0  0  0  0  0  0  0  0  0  0  0  0  0  0\n",
      "  0  0  0  0  0  0  0  0  0  0  0  2  3  4  5  6  7  8  9 10 11 12 13  4\n",
      "  5 14 15  7 16 17 18 19 20 10  2  3 21 11 22 23 24 25 26 27 28 26 29 30\n",
      " 15 31 32 33 21 34 35 36 37 15 38 39 40 22 33 28 41 21]\n",
      "Sample X_data with proper words: good quality dog food i have bought several of the vitality canned dog food products and have found them all to be of good quality . the product looks more like a stew than a processed meat and it smells better . my labrador is finicky and she appreciates this product better than most .\n"
     ]
    }
   ],
   "source": [
    "X_data_int = sequence.pad_sequences(X_data_int, maxlen=suitable_seq_len)\n",
    "print('Sample X_data with word ids:', X_data_int[0])\n",
    "print('Sample X_data with proper words:', X_data[0])"
   ]
  },
  {
   "cell_type": "code",
   "execution_count": 15,
   "metadata": {},
   "outputs": [],
   "source": [
    "def one_hot_maker(x):\n",
    "    with tf.Session() as sess:\n",
    "         return sess.run(tf.one_hot(x, depth=len(np.unique(x))))\n",
    "    \n",
    "Y_data_new = one_hot_maker(Y_data_new)"
   ]
  },
  {
   "cell_type": "code",
   "execution_count": 16,
   "metadata": {},
   "outputs": [
    {
     "name": "stdout",
     "output_type": "stream",
     "text": [
      "355290 9860\n"
     ]
    }
   ],
   "source": [
    "X_train, X_test, y_train, y_test = train_test_split(X_data_int, Y_data_new, test_size=0.027, random_state=101)\n",
    "print(len(X_train), len(X_test))"
   ]
  },
  {
   "cell_type": "markdown",
   "metadata": {},
   "source": [
    "## CONSTRUCTION AND TRAINING"
   ]
  },
  {
   "cell_type": "code",
   "execution_count": 17,
   "metadata": {},
   "outputs": [],
   "source": [
    "# defining the configuration\n",
    "\n",
    "config = {\n",
    "    'rnn_size': 5,\n",
    "    'rnn_layer': 2,\n",
    "    'sequence_length': suitable_seq_len,\n",
    "    'word_embedding_size': 300,\n",
    "    'vocab_size': len(corpus)+2,\n",
    "    'learning_rate': 3e-4,\n",
    "    'batch_size': 128,\n",
    "    'epoch': 1000,\n",
    "    'num_classes': len(y_train[0]),\n",
    "    'dropout_lstm': .5,\n",
    "    'dropout_dense': .5,\n",
    "    'dense_unit_size': 100,\n",
    "    'l2_reg_param': .01\n",
    "}\n",
    "\n",
    "data_x = tf.placeholder(name='data_x', dtype=tf.int64, shape=[None, config['sequence_length']])\n",
    "target = tf.placeholder(name='target', dtype=tf.float32, shape=[None, config['num_classes']])"
   ]
  },
  {
   "cell_type": "code",
   "execution_count": 18,
   "metadata": {},
   "outputs": [
    {
     "data": {
      "text/plain": [
       "{'rnn_size': 5,\n",
       " 'rnn_layer': 2,\n",
       " 'sequence_length': 186,\n",
       " 'word_embedding_size': 300,\n",
       " 'vocab_size': 14704,\n",
       " 'learning_rate': 0.0003,\n",
       " 'batch_size': 128,\n",
       " 'epoch': 1000,\n",
       " 'num_classes': 2,\n",
       " 'dropout_lstm': 0.5,\n",
       " 'dropout_dense': 0.5,\n",
       " 'dense_unit_size': 100,\n",
       " 'l2_reg_param': 0.01}"
      ]
     },
     "execution_count": 18,
     "metadata": {},
     "output_type": "execute_result"
    }
   ],
   "source": [
    "config"
   ]
  },
  {
   "cell_type": "code",
   "execution_count": 19,
   "metadata": {},
   "outputs": [],
   "source": [
    "def get_embedding():\n",
    "    with tf.variable_scope('get_embedding', reuse=tf.AUTO_REUSE):\n",
    "        word_embedding = tf.get_variable('word_embedding', [config['vocab_size'], config['word_embedding_size']])\n",
    "        return word_embedding"
   ]
  },
  {
   "cell_type": "code",
   "execution_count": 20,
   "metadata": {},
   "outputs": [],
   "source": [
    "def get_lstm_cell():\n",
    "    lstm_single_layer = tf.contrib.rnn.LSTMCell(config['rnn_size'], name='LSTM_CELLS', state_is_tuple=True)\n",
    "    dropout = tf.contrib.rnn.DropoutWrapper(lstm_single_layer, output_keep_prob=config['dropout_lstm'])\n",
    "    return dropout"
   ]
  },
  {
   "cell_type": "code",
   "execution_count": 21,
   "metadata": {},
   "outputs": [],
   "source": [
    "def create_rnn():\n",
    "    cell = tf.contrib.rnn.MultiRNNCell([get_lstm_cell() for _ in range(config['rnn_layer'])], state_is_tuple=True)\n",
    "    return cell"
   ]
  },
  {
   "cell_type": "code",
   "execution_count": 22,
   "metadata": {},
   "outputs": [],
   "source": [
    "def get_weights():\n",
    "    weights = tf.keras.initializers.he_normal(seed=None)\n",
    "    biases = tf.zeros_initializer()\n",
    "    return weights, biases\n",
    "\n",
    "# defining model \n",
    "\n",
    "def model():\n",
    "    # getting the embedding\n",
    "    word_embedding = get_embedding()\n",
    "    embedded_words = tf.nn.embedding_lookup(word_embedding, data_x)\n",
    "    \n",
    "    # creating the RNN layer\n",
    "    CELL = create_rnn()\n",
    "    with tf.variable_scope('model', reuse=tf.AUTO_REUSE):\n",
    "        OUTPUT, FINAL_STATE = tf.nn.dynamic_rnn(CELL, embedded_words, dtype=tf.float32)\n",
    "    OUTPUT = tf.transpose(OUTPUT, [1,0,2])\n",
    "    OUTPUT = tf.gather(OUTPUT, OUTPUT.get_shape()[0]-1)\n",
    "    \n",
    "    # defining weight for dense layers\n",
    "    \n",
    "    # Dense layer 1\n",
    "    dense = tf.contrib.layers.fully_connected(OUTPUT, num_outputs=config['dense_unit_size'],\n",
    "                                             activation_fn=tf.nn.leaky_relu, weights_initializer=get_weights()[0], \n",
    "                                              biases_initializer=get_weights()[1])\n",
    "    dense = tf.contrib.layers.dropout(dense, keep_prob=config['dropout_dense'])\n",
    "    \n",
    "    # Dense layer 2\n",
    "    dense = tf.contrib.layers.fully_connected(dense, num_outputs=config['dense_unit_size'],\n",
    "                                             activation_fn=tf.nn.leaky_relu, weights_initializer=get_weights()[0], \n",
    "                                              biases_initializer=get_weights()[1])\n",
    "    dense = tf.contrib.layers.dropout(dense, keep_prob=config['dropout_dense'])\n",
    "    \n",
    "    # adding a batch normalization layer\n",
    "    # I know the paper claims that we should add batch normalization before activation function of the previous layer, but [https://goo.gl/7CP9hs] this link claims otherwise.\n",
    "    dense = tf.layers.batch_normalization(dense)\n",
    "    \n",
    "    # Dense layer 3\n",
    "    dense = tf.contrib.layers.fully_connected(dense, num_outputs=config['dense_unit_size'],\n",
    "                                             activation_fn=tf.nn.leaky_relu, weights_initializer=get_weights()[0], \n",
    "                                              biases_initializer=get_weights()[1])\n",
    "    dense = tf.contrib.layers.dropout(dense, keep_prob=config['dropout_dense'])\n",
    "    \n",
    "    # Last softmax layer\n",
    "    predictions = tf.contrib.layers.fully_connected(dense, num_outputs=config['num_classes'],\n",
    "                                                   activation_fn=tf.nn.softmax, \n",
    "                                                    weights_initializer=tf.truncated_normal_initializer(mean=0., stddev=.1), \n",
    "                                                  biases_initializer=get_weights()[1])\n",
    "    return predictions"
   ]
  },
  {
   "cell_type": "code",
   "execution_count": 23,
   "metadata": {},
   "outputs": [
    {
     "name": "stdout",
     "output_type": "stream",
     "text": [
      "Tensor(\"fully_connected_3/Softmax:0\", shape=(?, 2), dtype=float32)\n",
      "(?, 2)\n"
     ]
    }
   ],
   "source": [
    "pred = model()\n",
    "print(pred)\n",
    "print(pred.get_shape())"
   ]
  },
  {
   "cell_type": "code",
   "execution_count": 24,
   "metadata": {},
   "outputs": [
    {
     "data": {
      "text/plain": [
       "[<tf.Variable 'get_embedding/word_embedding:0' shape=(14704, 300) dtype=float32_ref>,\n",
       " <tf.Variable 'model/rnn/multi_rnn_cell/cell_0/LSTM_CELLS/kernel:0' shape=(305, 20) dtype=float32_ref>,\n",
       " <tf.Variable 'model/rnn/multi_rnn_cell/cell_0/LSTM_CELLS/bias:0' shape=(20,) dtype=float32_ref>,\n",
       " <tf.Variable 'model/rnn/multi_rnn_cell/cell_1/LSTM_CELLS/kernel:0' shape=(10, 20) dtype=float32_ref>,\n",
       " <tf.Variable 'model/rnn/multi_rnn_cell/cell_1/LSTM_CELLS/bias:0' shape=(20,) dtype=float32_ref>,\n",
       " <tf.Variable 'fully_connected/weights:0' shape=(5, 100) dtype=float32_ref>,\n",
       " <tf.Variable 'fully_connected/biases:0' shape=(100,) dtype=float32_ref>,\n",
       " <tf.Variable 'fully_connected_1/weights:0' shape=(100, 100) dtype=float32_ref>,\n",
       " <tf.Variable 'fully_connected_1/biases:0' shape=(100,) dtype=float32_ref>,\n",
       " <tf.Variable 'batch_normalization/gamma:0' shape=(100,) dtype=float32_ref>,\n",
       " <tf.Variable 'batch_normalization/beta:0' shape=(100,) dtype=float32_ref>,\n",
       " <tf.Variable 'fully_connected_2/weights:0' shape=(100, 100) dtype=float32_ref>,\n",
       " <tf.Variable 'fully_connected_2/biases:0' shape=(100,) dtype=float32_ref>,\n",
       " <tf.Variable 'fully_connected_3/weights:0' shape=(100, 2) dtype=float32_ref>,\n",
       " <tf.Variable 'fully_connected_3/biases:0' shape=(2,) dtype=float32_ref>]"
      ]
     },
     "execution_count": 24,
     "metadata": {},
     "output_type": "execute_result"
    }
   ],
   "source": [
    "tf.trainable_variables()"
   ]
  },
  {
   "cell_type": "code",
   "execution_count": 25,
   "metadata": {},
   "outputs": [],
   "source": [
    "with tf.variable_scope('setting_training', reuse=tf.AUTO_REUSE):\n",
    "    y_hats = model()\n",
    "    \n",
    "    cost = tf.reduce_mean(tf.nn.softmax_cross_entropy_with_logits_v2(labels=target, logits=y_hats)\\\n",
    "                         + tf.add_n([config['l2_reg_param']*tf.nn.l2_loss(V) for V in tf.trainable_variables()]))\n",
    "    \n",
    "    optimizer = tf.train.AdamOptimizer(learning_rate=config['learning_rate'])\n",
    "    \n",
    "    train = optimizer.minimize(cost)\n",
    "    \n",
    "    mistakes = tf.not_equal(tf.argmax(target, 1), tf.argmax(y_hats, 1))\n",
    "    error = tf.reduce_mean(tf.cast(mistakes, tf.float32))"
   ]
  },
  {
   "cell_type": "code",
   "execution_count": 26,
   "metadata": {},
   "outputs": [],
   "source": [
    "no_of_tr_batches = int(len(X_train)/config['batch_size'])\n",
    "no_of_ts_batches = int(len(X_test)/config['batch_size'])\n",
    "train_loss = []\n",
    "test_loss = []"
   ]
  },
  {
   "cell_type": "code",
   "execution_count": 27,
   "metadata": {
    "scrolled": false
   },
   "outputs": [
    {
     "data": {
      "application/javascript": [
       "/* Put everything inside the global mpl namespace */\n",
       "window.mpl = {};\n",
       "\n",
       "\n",
       "mpl.get_websocket_type = function() {\n",
       "    if (typeof(WebSocket) !== 'undefined') {\n",
       "        return WebSocket;\n",
       "    } else if (typeof(MozWebSocket) !== 'undefined') {\n",
       "        return MozWebSocket;\n",
       "    } else {\n",
       "        alert('Your browser does not have WebSocket support.' +\n",
       "              'Please try Chrome, Safari or Firefox ≥ 6. ' +\n",
       "              'Firefox 4 and 5 are also supported but you ' +\n",
       "              'have to enable WebSockets in about:config.');\n",
       "    };\n",
       "}\n",
       "\n",
       "mpl.figure = function(figure_id, websocket, ondownload, parent_element) {\n",
       "    this.id = figure_id;\n",
       "\n",
       "    this.ws = websocket;\n",
       "\n",
       "    this.supports_binary = (this.ws.binaryType != undefined);\n",
       "\n",
       "    if (!this.supports_binary) {\n",
       "        var warnings = document.getElementById(\"mpl-warnings\");\n",
       "        if (warnings) {\n",
       "            warnings.style.display = 'block';\n",
       "            warnings.textContent = (\n",
       "                \"This browser does not support binary websocket messages. \" +\n",
       "                    \"Performance may be slow.\");\n",
       "        }\n",
       "    }\n",
       "\n",
       "    this.imageObj = new Image();\n",
       "\n",
       "    this.context = undefined;\n",
       "    this.message = undefined;\n",
       "    this.canvas = undefined;\n",
       "    this.rubberband_canvas = undefined;\n",
       "    this.rubberband_context = undefined;\n",
       "    this.format_dropdown = undefined;\n",
       "\n",
       "    this.image_mode = 'full';\n",
       "\n",
       "    this.root = $('<div/>');\n",
       "    this._root_extra_style(this.root)\n",
       "    this.root.attr('style', 'display: inline-block');\n",
       "\n",
       "    $(parent_element).append(this.root);\n",
       "\n",
       "    this._init_header(this);\n",
       "    this._init_canvas(this);\n",
       "    this._init_toolbar(this);\n",
       "\n",
       "    var fig = this;\n",
       "\n",
       "    this.waiting = false;\n",
       "\n",
       "    this.ws.onopen =  function () {\n",
       "            fig.send_message(\"supports_binary\", {value: fig.supports_binary});\n",
       "            fig.send_message(\"send_image_mode\", {});\n",
       "            if (mpl.ratio != 1) {\n",
       "                fig.send_message(\"set_dpi_ratio\", {'dpi_ratio': mpl.ratio});\n",
       "            }\n",
       "            fig.send_message(\"refresh\", {});\n",
       "        }\n",
       "\n",
       "    this.imageObj.onload = function() {\n",
       "            if (fig.image_mode == 'full') {\n",
       "                // Full images could contain transparency (where diff images\n",
       "                // almost always do), so we need to clear the canvas so that\n",
       "                // there is no ghosting.\n",
       "                fig.context.clearRect(0, 0, fig.canvas.width, fig.canvas.height);\n",
       "            }\n",
       "            fig.context.drawImage(fig.imageObj, 0, 0);\n",
       "        };\n",
       "\n",
       "    this.imageObj.onunload = function() {\n",
       "        fig.ws.close();\n",
       "    }\n",
       "\n",
       "    this.ws.onmessage = this._make_on_message_function(this);\n",
       "\n",
       "    this.ondownload = ondownload;\n",
       "}\n",
       "\n",
       "mpl.figure.prototype._init_header = function() {\n",
       "    var titlebar = $(\n",
       "        '<div class=\"ui-dialog-titlebar ui-widget-header ui-corner-all ' +\n",
       "        'ui-helper-clearfix\"/>');\n",
       "    var titletext = $(\n",
       "        '<div class=\"ui-dialog-title\" style=\"width: 100%; ' +\n",
       "        'text-align: center; padding: 3px;\"/>');\n",
       "    titlebar.append(titletext)\n",
       "    this.root.append(titlebar);\n",
       "    this.header = titletext[0];\n",
       "}\n",
       "\n",
       "\n",
       "\n",
       "mpl.figure.prototype._canvas_extra_style = function(canvas_div) {\n",
       "\n",
       "}\n",
       "\n",
       "\n",
       "mpl.figure.prototype._root_extra_style = function(canvas_div) {\n",
       "\n",
       "}\n",
       "\n",
       "mpl.figure.prototype._init_canvas = function() {\n",
       "    var fig = this;\n",
       "\n",
       "    var canvas_div = $('<div/>');\n",
       "\n",
       "    canvas_div.attr('style', 'position: relative; clear: both; outline: 0');\n",
       "\n",
       "    function canvas_keyboard_event(event) {\n",
       "        return fig.key_event(event, event['data']);\n",
       "    }\n",
       "\n",
       "    canvas_div.keydown('key_press', canvas_keyboard_event);\n",
       "    canvas_div.keyup('key_release', canvas_keyboard_event);\n",
       "    this.canvas_div = canvas_div\n",
       "    this._canvas_extra_style(canvas_div)\n",
       "    this.root.append(canvas_div);\n",
       "\n",
       "    var canvas = $('<canvas/>');\n",
       "    canvas.addClass('mpl-canvas');\n",
       "    canvas.attr('style', \"left: 0; top: 0; z-index: 0; outline: 0\")\n",
       "\n",
       "    this.canvas = canvas[0];\n",
       "    this.context = canvas[0].getContext(\"2d\");\n",
       "\n",
       "    var backingStore = this.context.backingStorePixelRatio ||\n",
       "\tthis.context.webkitBackingStorePixelRatio ||\n",
       "\tthis.context.mozBackingStorePixelRatio ||\n",
       "\tthis.context.msBackingStorePixelRatio ||\n",
       "\tthis.context.oBackingStorePixelRatio ||\n",
       "\tthis.context.backingStorePixelRatio || 1;\n",
       "\n",
       "    mpl.ratio = (window.devicePixelRatio || 1) / backingStore;\n",
       "\n",
       "    var rubberband = $('<canvas/>');\n",
       "    rubberband.attr('style', \"position: absolute; left: 0; top: 0; z-index: 1;\")\n",
       "\n",
       "    var pass_mouse_events = true;\n",
       "\n",
       "    canvas_div.resizable({\n",
       "        start: function(event, ui) {\n",
       "            pass_mouse_events = false;\n",
       "        },\n",
       "        resize: function(event, ui) {\n",
       "            fig.request_resize(ui.size.width, ui.size.height);\n",
       "        },\n",
       "        stop: function(event, ui) {\n",
       "            pass_mouse_events = true;\n",
       "            fig.request_resize(ui.size.width, ui.size.height);\n",
       "        },\n",
       "    });\n",
       "\n",
       "    function mouse_event_fn(event) {\n",
       "        if (pass_mouse_events)\n",
       "            return fig.mouse_event(event, event['data']);\n",
       "    }\n",
       "\n",
       "    rubberband.mousedown('button_press', mouse_event_fn);\n",
       "    rubberband.mouseup('button_release', mouse_event_fn);\n",
       "    // Throttle sequential mouse events to 1 every 20ms.\n",
       "    rubberband.mousemove('motion_notify', mouse_event_fn);\n",
       "\n",
       "    rubberband.mouseenter('figure_enter', mouse_event_fn);\n",
       "    rubberband.mouseleave('figure_leave', mouse_event_fn);\n",
       "\n",
       "    canvas_div.on(\"wheel\", function (event) {\n",
       "        event = event.originalEvent;\n",
       "        event['data'] = 'scroll'\n",
       "        if (event.deltaY < 0) {\n",
       "            event.step = 1;\n",
       "        } else {\n",
       "            event.step = -1;\n",
       "        }\n",
       "        mouse_event_fn(event);\n",
       "    });\n",
       "\n",
       "    canvas_div.append(canvas);\n",
       "    canvas_div.append(rubberband);\n",
       "\n",
       "    this.rubberband = rubberband;\n",
       "    this.rubberband_canvas = rubberband[0];\n",
       "    this.rubberband_context = rubberband[0].getContext(\"2d\");\n",
       "    this.rubberband_context.strokeStyle = \"#000000\";\n",
       "\n",
       "    this._resize_canvas = function(width, height) {\n",
       "        // Keep the size of the canvas, canvas container, and rubber band\n",
       "        // canvas in synch.\n",
       "        canvas_div.css('width', width)\n",
       "        canvas_div.css('height', height)\n",
       "\n",
       "        canvas.attr('width', width * mpl.ratio);\n",
       "        canvas.attr('height', height * mpl.ratio);\n",
       "        canvas.attr('style', 'width: ' + width + 'px; height: ' + height + 'px;');\n",
       "\n",
       "        rubberband.attr('width', width);\n",
       "        rubberband.attr('height', height);\n",
       "    }\n",
       "\n",
       "    // Set the figure to an initial 600x600px, this will subsequently be updated\n",
       "    // upon first draw.\n",
       "    this._resize_canvas(600, 600);\n",
       "\n",
       "    // Disable right mouse context menu.\n",
       "    $(this.rubberband_canvas).bind(\"contextmenu\",function(e){\n",
       "        return false;\n",
       "    });\n",
       "\n",
       "    function set_focus () {\n",
       "        canvas.focus();\n",
       "        canvas_div.focus();\n",
       "    }\n",
       "\n",
       "    window.setTimeout(set_focus, 100);\n",
       "}\n",
       "\n",
       "mpl.figure.prototype._init_toolbar = function() {\n",
       "    var fig = this;\n",
       "\n",
       "    var nav_element = $('<div/>')\n",
       "    nav_element.attr('style', 'width: 100%');\n",
       "    this.root.append(nav_element);\n",
       "\n",
       "    // Define a callback function for later on.\n",
       "    function toolbar_event(event) {\n",
       "        return fig.toolbar_button_onclick(event['data']);\n",
       "    }\n",
       "    function toolbar_mouse_event(event) {\n",
       "        return fig.toolbar_button_onmouseover(event['data']);\n",
       "    }\n",
       "\n",
       "    for(var toolbar_ind in mpl.toolbar_items) {\n",
       "        var name = mpl.toolbar_items[toolbar_ind][0];\n",
       "        var tooltip = mpl.toolbar_items[toolbar_ind][1];\n",
       "        var image = mpl.toolbar_items[toolbar_ind][2];\n",
       "        var method_name = mpl.toolbar_items[toolbar_ind][3];\n",
       "\n",
       "        if (!name) {\n",
       "            // put a spacer in here.\n",
       "            continue;\n",
       "        }\n",
       "        var button = $('<button/>');\n",
       "        button.addClass('ui-button ui-widget ui-state-default ui-corner-all ' +\n",
       "                        'ui-button-icon-only');\n",
       "        button.attr('role', 'button');\n",
       "        button.attr('aria-disabled', 'false');\n",
       "        button.click(method_name, toolbar_event);\n",
       "        button.mouseover(tooltip, toolbar_mouse_event);\n",
       "\n",
       "        var icon_img = $('<span/>');\n",
       "        icon_img.addClass('ui-button-icon-primary ui-icon');\n",
       "        icon_img.addClass(image);\n",
       "        icon_img.addClass('ui-corner-all');\n",
       "\n",
       "        var tooltip_span = $('<span/>');\n",
       "        tooltip_span.addClass('ui-button-text');\n",
       "        tooltip_span.html(tooltip);\n",
       "\n",
       "        button.append(icon_img);\n",
       "        button.append(tooltip_span);\n",
       "\n",
       "        nav_element.append(button);\n",
       "    }\n",
       "\n",
       "    var fmt_picker_span = $('<span/>');\n",
       "\n",
       "    var fmt_picker = $('<select/>');\n",
       "    fmt_picker.addClass('mpl-toolbar-option ui-widget ui-widget-content');\n",
       "    fmt_picker_span.append(fmt_picker);\n",
       "    nav_element.append(fmt_picker_span);\n",
       "    this.format_dropdown = fmt_picker[0];\n",
       "\n",
       "    for (var ind in mpl.extensions) {\n",
       "        var fmt = mpl.extensions[ind];\n",
       "        var option = $(\n",
       "            '<option/>', {selected: fmt === mpl.default_extension}).html(fmt);\n",
       "        fmt_picker.append(option)\n",
       "    }\n",
       "\n",
       "    // Add hover states to the ui-buttons\n",
       "    $( \".ui-button\" ).hover(\n",
       "        function() { $(this).addClass(\"ui-state-hover\");},\n",
       "        function() { $(this).removeClass(\"ui-state-hover\");}\n",
       "    );\n",
       "\n",
       "    var status_bar = $('<span class=\"mpl-message\"/>');\n",
       "    nav_element.append(status_bar);\n",
       "    this.message = status_bar[0];\n",
       "}\n",
       "\n",
       "mpl.figure.prototype.request_resize = function(x_pixels, y_pixels) {\n",
       "    // Request matplotlib to resize the figure. Matplotlib will then trigger a resize in the client,\n",
       "    // which will in turn request a refresh of the image.\n",
       "    this.send_message('resize', {'width': x_pixels, 'height': y_pixels});\n",
       "}\n",
       "\n",
       "mpl.figure.prototype.send_message = function(type, properties) {\n",
       "    properties['type'] = type;\n",
       "    properties['figure_id'] = this.id;\n",
       "    this.ws.send(JSON.stringify(properties));\n",
       "}\n",
       "\n",
       "mpl.figure.prototype.send_draw_message = function() {\n",
       "    if (!this.waiting) {\n",
       "        this.waiting = true;\n",
       "        this.ws.send(JSON.stringify({type: \"draw\", figure_id: this.id}));\n",
       "    }\n",
       "}\n",
       "\n",
       "\n",
       "mpl.figure.prototype.handle_save = function(fig, msg) {\n",
       "    var format_dropdown = fig.format_dropdown;\n",
       "    var format = format_dropdown.options[format_dropdown.selectedIndex].value;\n",
       "    fig.ondownload(fig, format);\n",
       "}\n",
       "\n",
       "\n",
       "mpl.figure.prototype.handle_resize = function(fig, msg) {\n",
       "    var size = msg['size'];\n",
       "    if (size[0] != fig.canvas.width || size[1] != fig.canvas.height) {\n",
       "        fig._resize_canvas(size[0], size[1]);\n",
       "        fig.send_message(\"refresh\", {});\n",
       "    };\n",
       "}\n",
       "\n",
       "mpl.figure.prototype.handle_rubberband = function(fig, msg) {\n",
       "    var x0 = msg['x0'] / mpl.ratio;\n",
       "    var y0 = (fig.canvas.height - msg['y0']) / mpl.ratio;\n",
       "    var x1 = msg['x1'] / mpl.ratio;\n",
       "    var y1 = (fig.canvas.height - msg['y1']) / mpl.ratio;\n",
       "    x0 = Math.floor(x0) + 0.5;\n",
       "    y0 = Math.floor(y0) + 0.5;\n",
       "    x1 = Math.floor(x1) + 0.5;\n",
       "    y1 = Math.floor(y1) + 0.5;\n",
       "    var min_x = Math.min(x0, x1);\n",
       "    var min_y = Math.min(y0, y1);\n",
       "    var width = Math.abs(x1 - x0);\n",
       "    var height = Math.abs(y1 - y0);\n",
       "\n",
       "    fig.rubberband_context.clearRect(\n",
       "        0, 0, fig.canvas.width, fig.canvas.height);\n",
       "\n",
       "    fig.rubberband_context.strokeRect(min_x, min_y, width, height);\n",
       "}\n",
       "\n",
       "mpl.figure.prototype.handle_figure_label = function(fig, msg) {\n",
       "    // Updates the figure title.\n",
       "    fig.header.textContent = msg['label'];\n",
       "}\n",
       "\n",
       "mpl.figure.prototype.handle_cursor = function(fig, msg) {\n",
       "    var cursor = msg['cursor'];\n",
       "    switch(cursor)\n",
       "    {\n",
       "    case 0:\n",
       "        cursor = 'pointer';\n",
       "        break;\n",
       "    case 1:\n",
       "        cursor = 'default';\n",
       "        break;\n",
       "    case 2:\n",
       "        cursor = 'crosshair';\n",
       "        break;\n",
       "    case 3:\n",
       "        cursor = 'move';\n",
       "        break;\n",
       "    }\n",
       "    fig.rubberband_canvas.style.cursor = cursor;\n",
       "}\n",
       "\n",
       "mpl.figure.prototype.handle_message = function(fig, msg) {\n",
       "    fig.message.textContent = msg['message'];\n",
       "}\n",
       "\n",
       "mpl.figure.prototype.handle_draw = function(fig, msg) {\n",
       "    // Request the server to send over a new figure.\n",
       "    fig.send_draw_message();\n",
       "}\n",
       "\n",
       "mpl.figure.prototype.handle_image_mode = function(fig, msg) {\n",
       "    fig.image_mode = msg['mode'];\n",
       "}\n",
       "\n",
       "mpl.figure.prototype.updated_canvas_event = function() {\n",
       "    // Called whenever the canvas gets updated.\n",
       "    this.send_message(\"ack\", {});\n",
       "}\n",
       "\n",
       "// A function to construct a web socket function for onmessage handling.\n",
       "// Called in the figure constructor.\n",
       "mpl.figure.prototype._make_on_message_function = function(fig) {\n",
       "    return function socket_on_message(evt) {\n",
       "        if (evt.data instanceof Blob) {\n",
       "            /* FIXME: We get \"Resource interpreted as Image but\n",
       "             * transferred with MIME type text/plain:\" errors on\n",
       "             * Chrome.  But how to set the MIME type?  It doesn't seem\n",
       "             * to be part of the websocket stream */\n",
       "            evt.data.type = \"image/png\";\n",
       "\n",
       "            /* Free the memory for the previous frames */\n",
       "            if (fig.imageObj.src) {\n",
       "                (window.URL || window.webkitURL).revokeObjectURL(\n",
       "                    fig.imageObj.src);\n",
       "            }\n",
       "\n",
       "            fig.imageObj.src = (window.URL || window.webkitURL).createObjectURL(\n",
       "                evt.data);\n",
       "            fig.updated_canvas_event();\n",
       "            fig.waiting = false;\n",
       "            return;\n",
       "        }\n",
       "        else if (typeof evt.data === 'string' && evt.data.slice(0, 21) == \"data:image/png;base64\") {\n",
       "            fig.imageObj.src = evt.data;\n",
       "            fig.updated_canvas_event();\n",
       "            fig.waiting = false;\n",
       "            return;\n",
       "        }\n",
       "\n",
       "        var msg = JSON.parse(evt.data);\n",
       "        var msg_type = msg['type'];\n",
       "\n",
       "        // Call the  \"handle_{type}\" callback, which takes\n",
       "        // the figure and JSON message as its only arguments.\n",
       "        try {\n",
       "            var callback = fig[\"handle_\" + msg_type];\n",
       "        } catch (e) {\n",
       "            console.log(\"No handler for the '\" + msg_type + \"' message type: \", msg);\n",
       "            return;\n",
       "        }\n",
       "\n",
       "        if (callback) {\n",
       "            try {\n",
       "                // console.log(\"Handling '\" + msg_type + \"' message: \", msg);\n",
       "                callback(fig, msg);\n",
       "            } catch (e) {\n",
       "                console.log(\"Exception inside the 'handler_\" + msg_type + \"' callback:\", e, e.stack, msg);\n",
       "            }\n",
       "        }\n",
       "    };\n",
       "}\n",
       "\n",
       "// from http://stackoverflow.com/questions/1114465/getting-mouse-location-in-canvas\n",
       "mpl.findpos = function(e) {\n",
       "    //this section is from http://www.quirksmode.org/js/events_properties.html\n",
       "    var targ;\n",
       "    if (!e)\n",
       "        e = window.event;\n",
       "    if (e.target)\n",
       "        targ = e.target;\n",
       "    else if (e.srcElement)\n",
       "        targ = e.srcElement;\n",
       "    if (targ.nodeType == 3) // defeat Safari bug\n",
       "        targ = targ.parentNode;\n",
       "\n",
       "    // jQuery normalizes the pageX and pageY\n",
       "    // pageX,Y are the mouse positions relative to the document\n",
       "    // offset() returns the position of the element relative to the document\n",
       "    var x = e.pageX - $(targ).offset().left;\n",
       "    var y = e.pageY - $(targ).offset().top;\n",
       "\n",
       "    return {\"x\": x, \"y\": y};\n",
       "};\n",
       "\n",
       "/*\n",
       " * return a copy of an object with only non-object keys\n",
       " * we need this to avoid circular references\n",
       " * http://stackoverflow.com/a/24161582/3208463\n",
       " */\n",
       "function simpleKeys (original) {\n",
       "  return Object.keys(original).reduce(function (obj, key) {\n",
       "    if (typeof original[key] !== 'object')\n",
       "        obj[key] = original[key]\n",
       "    return obj;\n",
       "  }, {});\n",
       "}\n",
       "\n",
       "mpl.figure.prototype.mouse_event = function(event, name) {\n",
       "    var canvas_pos = mpl.findpos(event)\n",
       "\n",
       "    if (name === 'button_press')\n",
       "    {\n",
       "        this.canvas.focus();\n",
       "        this.canvas_div.focus();\n",
       "    }\n",
       "\n",
       "    var x = canvas_pos.x * mpl.ratio;\n",
       "    var y = canvas_pos.y * mpl.ratio;\n",
       "\n",
       "    this.send_message(name, {x: x, y: y, button: event.button,\n",
       "                             step: event.step,\n",
       "                             guiEvent: simpleKeys(event)});\n",
       "\n",
       "    /* This prevents the web browser from automatically changing to\n",
       "     * the text insertion cursor when the button is pressed.  We want\n",
       "     * to control all of the cursor setting manually through the\n",
       "     * 'cursor' event from matplotlib */\n",
       "    event.preventDefault();\n",
       "    return false;\n",
       "}\n",
       "\n",
       "mpl.figure.prototype._key_event_extra = function(event, name) {\n",
       "    // Handle any extra behaviour associated with a key event\n",
       "}\n",
       "\n",
       "mpl.figure.prototype.key_event = function(event, name) {\n",
       "\n",
       "    // Prevent repeat events\n",
       "    if (name == 'key_press')\n",
       "    {\n",
       "        if (event.which === this._key)\n",
       "            return;\n",
       "        else\n",
       "            this._key = event.which;\n",
       "    }\n",
       "    if (name == 'key_release')\n",
       "        this._key = null;\n",
       "\n",
       "    var value = '';\n",
       "    if (event.ctrlKey && event.which != 17)\n",
       "        value += \"ctrl+\";\n",
       "    if (event.altKey && event.which != 18)\n",
       "        value += \"alt+\";\n",
       "    if (event.shiftKey && event.which != 16)\n",
       "        value += \"shift+\";\n",
       "\n",
       "    value += 'k';\n",
       "    value += event.which.toString();\n",
       "\n",
       "    this._key_event_extra(event, name);\n",
       "\n",
       "    this.send_message(name, {key: value,\n",
       "                             guiEvent: simpleKeys(event)});\n",
       "    return false;\n",
       "}\n",
       "\n",
       "mpl.figure.prototype.toolbar_button_onclick = function(name) {\n",
       "    if (name == 'download') {\n",
       "        this.handle_save(this, null);\n",
       "    } else {\n",
       "        this.send_message(\"toolbar_button\", {name: name});\n",
       "    }\n",
       "};\n",
       "\n",
       "mpl.figure.prototype.toolbar_button_onmouseover = function(tooltip) {\n",
       "    this.message.textContent = tooltip;\n",
       "};\n",
       "mpl.toolbar_items = [[\"Home\", \"Reset original view\", \"fa fa-home icon-home\", \"home\"], [\"Back\", \"Back to  previous view\", \"fa fa-arrow-left icon-arrow-left\", \"back\"], [\"Forward\", \"Forward to next view\", \"fa fa-arrow-right icon-arrow-right\", \"forward\"], [\"\", \"\", \"\", \"\"], [\"Pan\", \"Pan axes with left mouse, zoom with right\", \"fa fa-arrows icon-move\", \"pan\"], [\"Zoom\", \"Zoom to rectangle\", \"fa fa-square-o icon-check-empty\", \"zoom\"], [\"\", \"\", \"\", \"\"], [\"Download\", \"Download plot\", \"fa fa-floppy-o icon-save\", \"download\"]];\n",
       "\n",
       "mpl.extensions = [\"eps\", \"jpeg\", \"pdf\", \"png\", \"ps\", \"raw\", \"svg\", \"tif\"];\n",
       "\n",
       "mpl.default_extension = \"png\";var comm_websocket_adapter = function(comm) {\n",
       "    // Create a \"websocket\"-like object which calls the given IPython comm\n",
       "    // object with the appropriate methods. Currently this is a non binary\n",
       "    // socket, so there is still some room for performance tuning.\n",
       "    var ws = {};\n",
       "\n",
       "    ws.close = function() {\n",
       "        comm.close()\n",
       "    };\n",
       "    ws.send = function(m) {\n",
       "        //console.log('sending', m);\n",
       "        comm.send(m);\n",
       "    };\n",
       "    // Register the callback with on_msg.\n",
       "    comm.on_msg(function(msg) {\n",
       "        //console.log('receiving', msg['content']['data'], msg);\n",
       "        // Pass the mpl event to the overridden (by mpl) onmessage function.\n",
       "        ws.onmessage(msg['content']['data'])\n",
       "    });\n",
       "    return ws;\n",
       "}\n",
       "\n",
       "mpl.mpl_figure_comm = function(comm, msg) {\n",
       "    // This is the function which gets called when the mpl process\n",
       "    // starts-up an IPython Comm through the \"matplotlib\" channel.\n",
       "\n",
       "    var id = msg.content.data.id;\n",
       "    // Get hold of the div created by the display call when the Comm\n",
       "    // socket was opened in Python.\n",
       "    var element = $(\"#\" + id);\n",
       "    var ws_proxy = comm_websocket_adapter(comm)\n",
       "\n",
       "    function ondownload(figure, format) {\n",
       "        window.open(figure.imageObj.src);\n",
       "    }\n",
       "\n",
       "    var fig = new mpl.figure(id, ws_proxy,\n",
       "                           ondownload,\n",
       "                           element.get(0));\n",
       "\n",
       "    // Call onopen now - mpl needs it, as it is assuming we've passed it a real\n",
       "    // web socket which is closed, not our websocket->open comm proxy.\n",
       "    ws_proxy.onopen();\n",
       "\n",
       "    fig.parent_element = element.get(0);\n",
       "    fig.cell_info = mpl.find_output_cell(\"<div id='\" + id + \"'></div>\");\n",
       "    if (!fig.cell_info) {\n",
       "        console.error(\"Failed to find cell for figure\", id, fig);\n",
       "        return;\n",
       "    }\n",
       "\n",
       "    var output_index = fig.cell_info[2]\n",
       "    var cell = fig.cell_info[0];\n",
       "\n",
       "};\n",
       "\n",
       "mpl.figure.prototype.handle_close = function(fig, msg) {\n",
       "    var width = fig.canvas.width/mpl.ratio\n",
       "    fig.root.unbind('remove')\n",
       "\n",
       "    // Update the output cell to use the data from the current canvas.\n",
       "    fig.push_to_output();\n",
       "    var dataURL = fig.canvas.toDataURL();\n",
       "    // Re-enable the keyboard manager in IPython - without this line, in FF,\n",
       "    // the notebook keyboard shortcuts fail.\n",
       "    IPython.keyboard_manager.enable()\n",
       "    $(fig.parent_element).html('<img src=\"' + dataURL + '\" width=\"' + width + '\">');\n",
       "    fig.close_ws(fig, msg);\n",
       "}\n",
       "\n",
       "mpl.figure.prototype.close_ws = function(fig, msg){\n",
       "    fig.send_message('closing', msg);\n",
       "    // fig.ws.close()\n",
       "}\n",
       "\n",
       "mpl.figure.prototype.push_to_output = function(remove_interactive) {\n",
       "    // Turn the data on the canvas into data in the output cell.\n",
       "    var width = this.canvas.width/mpl.ratio\n",
       "    var dataURL = this.canvas.toDataURL();\n",
       "    this.cell_info[1]['text/html'] = '<img src=\"' + dataURL + '\" width=\"' + width + '\">';\n",
       "}\n",
       "\n",
       "mpl.figure.prototype.updated_canvas_event = function() {\n",
       "    // Tell IPython that the notebook contents must change.\n",
       "    IPython.notebook.set_dirty(true);\n",
       "    this.send_message(\"ack\", {});\n",
       "    var fig = this;\n",
       "    // Wait a second, then push the new image to the DOM so\n",
       "    // that it is saved nicely (might be nice to debounce this).\n",
       "    setTimeout(function () { fig.push_to_output() }, 1000);\n",
       "}\n",
       "\n",
       "mpl.figure.prototype._init_toolbar = function() {\n",
       "    var fig = this;\n",
       "\n",
       "    var nav_element = $('<div/>')\n",
       "    nav_element.attr('style', 'width: 100%');\n",
       "    this.root.append(nav_element);\n",
       "\n",
       "    // Define a callback function for later on.\n",
       "    function toolbar_event(event) {\n",
       "        return fig.toolbar_button_onclick(event['data']);\n",
       "    }\n",
       "    function toolbar_mouse_event(event) {\n",
       "        return fig.toolbar_button_onmouseover(event['data']);\n",
       "    }\n",
       "\n",
       "    for(var toolbar_ind in mpl.toolbar_items){\n",
       "        var name = mpl.toolbar_items[toolbar_ind][0];\n",
       "        var tooltip = mpl.toolbar_items[toolbar_ind][1];\n",
       "        var image = mpl.toolbar_items[toolbar_ind][2];\n",
       "        var method_name = mpl.toolbar_items[toolbar_ind][3];\n",
       "\n",
       "        if (!name) { continue; };\n",
       "\n",
       "        var button = $('<button class=\"btn btn-default\" href=\"#\" title=\"' + name + '\"><i class=\"fa ' + image + ' fa-lg\"></i></button>');\n",
       "        button.click(method_name, toolbar_event);\n",
       "        button.mouseover(tooltip, toolbar_mouse_event);\n",
       "        nav_element.append(button);\n",
       "    }\n",
       "\n",
       "    // Add the status bar.\n",
       "    var status_bar = $('<span class=\"mpl-message\" style=\"text-align:right; float: right;\"/>');\n",
       "    nav_element.append(status_bar);\n",
       "    this.message = status_bar[0];\n",
       "\n",
       "    // Add the close button to the window.\n",
       "    var buttongrp = $('<div class=\"btn-group inline pull-right\"></div>');\n",
       "    var button = $('<button class=\"btn btn-mini btn-primary\" href=\"#\" title=\"Stop Interaction\"><i class=\"fa fa-power-off icon-remove icon-large\"></i></button>');\n",
       "    button.click(function (evt) { fig.handle_close(fig, {}); } );\n",
       "    button.mouseover('Stop Interaction', toolbar_mouse_event);\n",
       "    buttongrp.append(button);\n",
       "    var titlebar = this.root.find($('.ui-dialog-titlebar'));\n",
       "    titlebar.prepend(buttongrp);\n",
       "}\n",
       "\n",
       "mpl.figure.prototype._root_extra_style = function(el){\n",
       "    var fig = this\n",
       "    el.on(\"remove\", function(){\n",
       "\tfig.close_ws(fig, {});\n",
       "    });\n",
       "}\n",
       "\n",
       "mpl.figure.prototype._canvas_extra_style = function(el){\n",
       "    // this is important to make the div 'focusable\n",
       "    el.attr('tabindex', 0)\n",
       "    // reach out to IPython and tell the keyboard manager to turn it's self\n",
       "    // off when our div gets focus\n",
       "\n",
       "    // location in version 3\n",
       "    if (IPython.notebook.keyboard_manager) {\n",
       "        IPython.notebook.keyboard_manager.register_events(el);\n",
       "    }\n",
       "    else {\n",
       "        // location in version 2\n",
       "        IPython.keyboard_manager.register_events(el);\n",
       "    }\n",
       "\n",
       "}\n",
       "\n",
       "mpl.figure.prototype._key_event_extra = function(event, name) {\n",
       "    var manager = IPython.notebook.keyboard_manager;\n",
       "    if (!manager)\n",
       "        manager = IPython.keyboard_manager;\n",
       "\n",
       "    // Check for shift+enter\n",
       "    if (event.shiftKey && event.which == 13) {\n",
       "        this.canvas_div.blur();\n",
       "        event.shiftKey = false;\n",
       "        // Send a \"J\" for go to next cell\n",
       "        event.which = 74;\n",
       "        event.keyCode = 74;\n",
       "        manager.command_mode();\n",
       "        manager.handle_keydown(event);\n",
       "    }\n",
       "}\n",
       "\n",
       "mpl.figure.prototype.handle_save = function(fig, msg) {\n",
       "    fig.ondownload(fig, null);\n",
       "}\n",
       "\n",
       "\n",
       "mpl.find_output_cell = function(html_output) {\n",
       "    // Return the cell and output element which can be found *uniquely* in the notebook.\n",
       "    // Note - this is a bit hacky, but it is done because the \"notebook_saving.Notebook\"\n",
       "    // IPython event is triggered only after the cells have been serialised, which for\n",
       "    // our purposes (turning an active figure into a static one), is too late.\n",
       "    var cells = IPython.notebook.get_cells();\n",
       "    var ncells = cells.length;\n",
       "    for (var i=0; i<ncells; i++) {\n",
       "        var cell = cells[i];\n",
       "        if (cell.cell_type === 'code'){\n",
       "            for (var j=0; j<cell.output_area.outputs.length; j++) {\n",
       "                var data = cell.output_area.outputs[j];\n",
       "                if (data.data) {\n",
       "                    // IPython >= 3 moved mimebundle to data attribute of output\n",
       "                    data = data.data;\n",
       "                }\n",
       "                if (data['text/html'] == html_output) {\n",
       "                    return [cell, data, j];\n",
       "                }\n",
       "            }\n",
       "        }\n",
       "    }\n",
       "}\n",
       "\n",
       "// Register the function which deals with the matplotlib target/channel.\n",
       "// The kernel may be null if the page has been refreshed.\n",
       "if (IPython.notebook.kernel != null) {\n",
       "    IPython.notebook.kernel.comm_manager.register_target('matplotlib', mpl.mpl_figure_comm);\n",
       "}\n"
      ],
      "text/plain": [
       "<IPython.core.display.Javascript object>"
      ]
     },
     "metadata": {},
     "output_type": "display_data"
    },
    {
     "data": {
      "text/html": [
       "<img src=\"data:image/png;base64,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\" width=\"639.9999861283738\">"
      ],
      "text/plain": [
       "<IPython.core.display.HTML object>"
      ]
     },
     "metadata": {},
     "output_type": "display_data"
    },
    {
     "name": "stdout",
     "output_type": "stream",
     "text": [
      "epoch: 1\n"
     ]
    },
    {
     "name": "stderr",
     "output_type": "stream",
     "text": [
      "100%|██████████████████████████████████████████████████████████████████████████████| 2775/2775 [09:04<00:00,  5.10it/s]\n",
      "100%|██████████████████████████████████████████████████████████████████████████████████| 77/77 [00:05<00:00, 12.92it/s]\n"
     ]
    },
    {
     "name": "stdout",
     "output_type": "stream",
     "text": [
      "Train loss: 1.8618468954971246\n",
      "Validation loss: 0.7081080218414207\n",
      "epoch: 2\n"
     ]
    },
    {
     "name": "stderr",
     "output_type": "stream",
     "text": [
      "100%|██████████████████████████████████████████████████████████████████████████████| 2775/2775 [09:05<00:00,  5.09it/s]\n",
      "100%|██████████████████████████████████████████████████████████████████████████████████| 77/77 [00:05<00:00, 13.30it/s]\n"
     ]
    },
    {
     "name": "stdout",
     "output_type": "stream",
     "text": [
      "epoch: 3\n"
     ]
    },
    {
     "name": "stderr",
     "output_type": "stream",
     "text": [
      "100%|██████████████████████████████████████████████████████████████████████████████| 2775/2775 [09:20<00:00,  4.95it/s]\n",
      "100%|██████████████████████████████████████████████████████████████████████████████████| 77/77 [00:06<00:00, 12.38it/s]\n"
     ]
    },
    {
     "name": "stdout",
     "output_type": "stream",
     "text": [
      "epoch: 4\n"
     ]
    },
    {
     "name": "stderr",
     "output_type": "stream",
     "text": [
      "100%|██████████████████████████████████████████████████████████████████████████████| 2775/2775 [09:29<00:00,  4.87it/s]\n",
      "100%|██████████████████████████████████████████████████████████████████████████████████| 77/77 [00:06<00:00, 12.30it/s]\n"
     ]
    },
    {
     "name": "stdout",
     "output_type": "stream",
     "text": [
      "epoch: 5\n"
     ]
    },
    {
     "name": "stderr",
     "output_type": "stream",
     "text": [
      "100%|██████████████████████████████████████████████████████████████████████████████| 2775/2775 [09:30<00:00,  4.87it/s]\n",
      "100%|██████████████████████████████████████████████████████████████████████████████████| 77/77 [00:06<00:00, 12.37it/s]\n"
     ]
    },
    {
     "name": "stdout",
     "output_type": "stream",
     "text": [
      "epoch: 6\n"
     ]
    },
    {
     "name": "stderr",
     "output_type": "stream",
     "text": [
      "100%|██████████████████████████████████████████████████████████████████████████████| 2775/2775 [09:05<00:00,  5.09it/s]\n",
      "100%|██████████████████████████████████████████████████████████████████████████████████| 77/77 [00:05<00:00, 13.11it/s]\n"
     ]
    },
    {
     "name": "stdout",
     "output_type": "stream",
     "text": [
      "Train loss: 0.4967322154947229\n",
      "Validation loss: 0.49655085995599824\n",
      "epoch: 7\n"
     ]
    },
    {
     "name": "stderr",
     "output_type": "stream",
     "text": [
      "100%|██████████████████████████████████████████████████████████████████████████████| 2775/2775 [09:02<00:00,  5.11it/s]\n",
      "100%|██████████████████████████████████████████████████████████████████████████████████| 77/77 [00:05<00:00, 13.33it/s]\n"
     ]
    },
    {
     "name": "stdout",
     "output_type": "stream",
     "text": [
      "epoch: 8\n"
     ]
    },
    {
     "name": "stderr",
     "output_type": "stream",
     "text": [
      "100%|██████████████████████████████████████████████████████████████████████████████| 2775/2775 [09:04<00:00,  5.09it/s]\n",
      "100%|██████████████████████████████████████████████████████████████████████████████████| 77/77 [00:05<00:00, 13.30it/s]\n"
     ]
    },
    {
     "name": "stdout",
     "output_type": "stream",
     "text": [
      "epoch: 9\n"
     ]
    },
    {
     "name": "stderr",
     "output_type": "stream",
     "text": [
      "100%|██████████████████████████████████████████████████████████████████████████████| 2775/2775 [09:02<00:00,  5.12it/s]\n",
      "100%|██████████████████████████████████████████████████████████████████████████████████| 77/77 [00:05<00:00, 12.87it/s]\n"
     ]
    },
    {
     "name": "stdout",
     "output_type": "stream",
     "text": [
      "epoch: 10\n"
     ]
    },
    {
     "name": "stderr",
     "output_type": "stream",
     "text": [
      "100%|██████████████████████████████████████████████████████████████████████████████| 2775/2775 [09:01<00:00,  5.12it/s]\n",
      "100%|██████████████████████████████████████████████████████████████████████████████████| 77/77 [00:05<00:00, 13.32it/s]\n"
     ]
    },
    {
     "name": "stdout",
     "output_type": "stream",
     "text": [
      "epoch: 11\n"
     ]
    },
    {
     "name": "stderr",
     "output_type": "stream",
     "text": [
      "100%|██████████████████████████████████████████████████████████████████████████████| 2775/2775 [09:02<00:00,  5.11it/s]\n",
      "100%|██████████████████████████████████████████████████████████████████████████████████| 77/77 [00:05<00:00, 13.34it/s]\n"
     ]
    },
    {
     "name": "stdout",
     "output_type": "stream",
     "text": [
      "Train loss: 0.4966972372875557\n",
      "Validation loss: 0.4962983506840545\n",
      "epoch: 12\n"
     ]
    },
    {
     "name": "stderr",
     "output_type": "stream",
     "text": [
      "100%|██████████████████████████████████████████████████████████████████████████████| 2775/2775 [09:01<00:00,  5.12it/s]\n",
      "100%|██████████████████████████████████████████████████████████████████████████████████| 77/77 [00:05<00:00, 13.32it/s]\n"
     ]
    },
    {
     "name": "stdout",
     "output_type": "stream",
     "text": [
      "epoch: 13\n"
     ]
    },
    {
     "name": "stderr",
     "output_type": "stream",
     "text": [
      "100%|██████████████████████████████████████████████████████████████████████████████| 2775/2775 [09:02<00:00,  5.12it/s]\n",
      "100%|██████████████████████████████████████████████████████████████████████████████████| 77/77 [00:05<00:00, 13.29it/s]\n"
     ]
    },
    {
     "name": "stdout",
     "output_type": "stream",
     "text": [
      "epoch: 14\n"
     ]
    },
    {
     "name": "stderr",
     "output_type": "stream",
     "text": [
      "100%|██████████████████████████████████████████████████████████████████████████████| 2775/2775 [09:01<00:00,  5.12it/s]\n",
      "100%|██████████████████████████████████████████████████████████████████████████████████| 77/77 [00:05<00:00, 13.30it/s]\n"
     ]
    },
    {
     "name": "stdout",
     "output_type": "stream",
     "text": [
      "epoch: 15\n"
     ]
    },
    {
     "name": "stderr",
     "output_type": "stream",
     "text": [
      "100%|██████████████████████████████████████████████████████████████████████████████| 2775/2775 [09:01<00:00,  5.12it/s]\n",
      "100%|██████████████████████████████████████████████████████████████████████████████████| 77/77 [00:05<00:00, 13.09it/s]\n"
     ]
    },
    {
     "name": "stdout",
     "output_type": "stream",
     "text": [
      "epoch: 16\n"
     ]
    },
    {
     "name": "stderr",
     "output_type": "stream",
     "text": [
      "100%|██████████████████████████████████████████████████████████████████████████████| 2775/2775 [09:01<00:00,  5.13it/s]\n",
      "100%|██████████████████████████████████████████████████████████████████████████████████| 77/77 [00:05<00:00, 13.32it/s]\n"
     ]
    },
    {
     "name": "stdout",
     "output_type": "stream",
     "text": [
      "Train loss: 0.4966856299542092\n",
      "Validation loss: 0.49649180762179485\n",
      "epoch: 17\n"
     ]
    },
    {
     "name": "stderr",
     "output_type": "stream",
     "text": [
      "100%|██████████████████████████████████████████████████████████████████████████████| 2775/2775 [09:01<00:00,  5.12it/s]\n",
      "100%|██████████████████████████████████████████████████████████████████████████████████| 77/77 [00:05<00:00, 13.23it/s]\n"
     ]
    },
    {
     "name": "stdout",
     "output_type": "stream",
     "text": [
      "epoch: 18\n"
     ]
    },
    {
     "name": "stderr",
     "output_type": "stream",
     "text": [
      "100%|██████████████████████████████████████████████████████████████████████████████| 2775/2775 [09:01<00:00,  5.13it/s]\n",
      "100%|██████████████████████████████████████████████████████████████████████████████████| 77/77 [00:05<00:00, 13.07it/s]\n"
     ]
    },
    {
     "name": "stdout",
     "output_type": "stream",
     "text": [
      "epoch: 19\n"
     ]
    },
    {
     "name": "stderr",
     "output_type": "stream",
     "text": [
      "100%|██████████████████████████████████████████████████████████████████████████████| 2775/2775 [09:01<00:00,  5.12it/s]\n",
      "100%|██████████████████████████████████████████████████████████████████████████████████| 77/77 [00:05<00:00, 13.27it/s]\n"
     ]
    },
    {
     "name": "stdout",
     "output_type": "stream",
     "text": [
      "epoch: 20\n"
     ]
    },
    {
     "name": "stderr",
     "output_type": "stream",
     "text": [
      "100%|██████████████████████████████████████████████████████████████████████████████| 2775/2775 [09:02<00:00,  5.12it/s]\n",
      "100%|██████████████████████████████████████████████████████████████████████████████████| 77/77 [00:05<00:00, 13.30it/s]\n"
     ]
    },
    {
     "name": "stdout",
     "output_type": "stream",
     "text": [
      "epoch: 21\n"
     ]
    },
    {
     "name": "stderr",
     "output_type": "stream",
     "text": [
      "100%|██████████████████████████████████████████████████████████████████████████████| 2775/2775 [09:01<00:00,  5.13it/s]\n",
      "100%|██████████████████████████████████████████████████████████████████████████████████| 77/77 [00:05<00:00, 13.15it/s]\n"
     ]
    },
    {
     "name": "stdout",
     "output_type": "stream",
     "text": [
      "Train loss: 0.49670344749012507\n",
      "Validation loss: 0.4964521322157476\n",
      "epoch: 22\n"
     ]
    },
    {
     "name": "stderr",
     "output_type": "stream",
     "text": [
      "100%|██████████████████████████████████████████████████████████████████████████████| 2775/2775 [09:01<00:00,  5.12it/s]\n",
      "100%|██████████████████████████████████████████████████████████████████████████████████| 77/77 [00:05<00:00, 13.32it/s]\n"
     ]
    },
    {
     "name": "stdout",
     "output_type": "stream",
     "text": [
      "epoch: 23\n"
     ]
    },
    {
     "name": "stderr",
     "output_type": "stream",
     "text": [
      "100%|██████████████████████████████████████████████████████████████████████████████| 2775/2775 [09:02<00:00,  5.12it/s]\n",
      "100%|██████████████████████████████████████████████████████████████████████████████████| 77/77 [00:05<00:00, 13.33it/s]\n"
     ]
    },
    {
     "name": "stdout",
     "output_type": "stream",
     "text": [
      "epoch: 24\n"
     ]
    },
    {
     "name": "stderr",
     "output_type": "stream",
     "text": [
      "100%|██████████████████████████████████████████████████████████████████████████████| 2775/2775 [09:01<00:00,  5.13it/s]\n",
      "100%|██████████████████████████████████████████████████████████████████████████████████| 77/77 [00:05<00:00, 12.97it/s]\n"
     ]
    },
    {
     "name": "stdout",
     "output_type": "stream",
     "text": [
      "epoch: 25\n"
     ]
    },
    {
     "name": "stderr",
     "output_type": "stream",
     "text": [
      "100%|██████████████████████████████████████████████████████████████████████████████| 2775/2775 [09:02<00:00,  5.12it/s]\n",
      "100%|██████████████████████████████████████████████████████████████████████████████████| 77/77 [00:05<00:00, 13.32it/s]\n"
     ]
    },
    {
     "name": "stdout",
     "output_type": "stream",
     "text": [
      "epoch: 26\n"
     ]
    },
    {
     "name": "stderr",
     "output_type": "stream",
     "text": [
      "100%|██████████████████████████████████████████████████████████████████████████████| 2775/2775 [09:04<00:00,  5.10it/s]\n",
      "100%|██████████████████████████████████████████████████████████████████████████████████| 77/77 [00:05<00:00, 13.29it/s]\n"
     ]
    },
    {
     "name": "stdout",
     "output_type": "stream",
     "text": [
      "Train loss: 0.4966769961408667\n",
      "Validation loss: 0.49647827310995624\n",
      "epoch: 27\n"
     ]
    },
    {
     "name": "stderr",
     "output_type": "stream",
     "text": [
      "100%|██████████████████████████████████████████████████████████████████████████████| 2775/2775 [09:02<00:00,  5.11it/s]\n",
      "100%|██████████████████████████████████████████████████████████████████████████████████| 77/77 [00:05<00:00, 13.00it/s]\n"
     ]
    },
    {
     "name": "stdout",
     "output_type": "stream",
     "text": [
      "epoch: 28\n"
     ]
    },
    {
     "name": "stderr",
     "output_type": "stream",
     "text": [
      "100%|██████████████████████████████████████████████████████████████████████████████| 2775/2775 [09:01<00:00,  5.12it/s]\n",
      "100%|██████████████████████████████████████████████████████████████████████████████████| 77/77 [00:05<00:00, 13.32it/s]\n"
     ]
    },
    {
     "name": "stdout",
     "output_type": "stream",
     "text": [
      "epoch: 29\n"
     ]
    },
    {
     "name": "stderr",
     "output_type": "stream",
     "text": [
      "100%|██████████████████████████████████████████████████████████████████████████████| 2775/2775 [09:04<00:00,  5.10it/s]\n",
      "100%|██████████████████████████████████████████████████████████████████████████████████| 77/77 [00:06<00:00, 12.25it/s]\n"
     ]
    },
    {
     "name": "stdout",
     "output_type": "stream",
     "text": [
      "epoch: 30\n"
     ]
    },
    {
     "name": "stderr",
     "output_type": "stream",
     "text": [
      " 12%|█████████▎                                                                     | 327/2775 [01:05<08:09,  5.00it/s]"
     ]
    },
    {
     "ename": "KeyboardInterrupt",
     "evalue": "",
     "output_type": "error",
     "traceback": [
      "\u001b[1;31m---------------------------------------------------------------------------\u001b[0m",
      "\u001b[1;31mKeyboardInterrupt\u001b[0m                         Traceback (most recent call last)",
      "\u001b[1;32m<ipython-input-27-007b8d20805b>\u001b[0m in \u001b[0;36m<module>\u001b[1;34m()\u001b[0m\n\u001b[0;32m     13\u001b[0m         \u001b[0minp\u001b[0m \u001b[1;33m=\u001b[0m \u001b[0mX_train\u001b[0m\u001b[1;33m[\u001b[0m\u001b[0mj\u001b[0m\u001b[1;33m*\u001b[0m\u001b[0mconfig\u001b[0m\u001b[1;33m[\u001b[0m\u001b[1;34m'batch_size'\u001b[0m\u001b[1;33m]\u001b[0m\u001b[1;33m:\u001b[0m\u001b[1;33m(\u001b[0m\u001b[0mj\u001b[0m\u001b[1;33m+\u001b[0m\u001b[1;36m1\u001b[0m\u001b[1;33m)\u001b[0m\u001b[1;33m*\u001b[0m\u001b[0mconfig\u001b[0m\u001b[1;33m[\u001b[0m\u001b[1;34m'batch_size'\u001b[0m\u001b[1;33m]\u001b[0m\u001b[1;33m]\u001b[0m\u001b[1;33m\u001b[0m\u001b[0m\n\u001b[0;32m     14\u001b[0m         \u001b[0mout\u001b[0m \u001b[1;33m=\u001b[0m \u001b[0my_train\u001b[0m\u001b[1;33m[\u001b[0m\u001b[0mj\u001b[0m\u001b[1;33m*\u001b[0m\u001b[0mconfig\u001b[0m\u001b[1;33m[\u001b[0m\u001b[1;34m'batch_size'\u001b[0m\u001b[1;33m]\u001b[0m\u001b[1;33m:\u001b[0m\u001b[1;33m(\u001b[0m\u001b[0mj\u001b[0m\u001b[1;33m+\u001b[0m\u001b[1;36m1\u001b[0m\u001b[1;33m)\u001b[0m\u001b[1;33m*\u001b[0m\u001b[0mconfig\u001b[0m\u001b[1;33m[\u001b[0m\u001b[1;34m'batch_size'\u001b[0m\u001b[1;33m]\u001b[0m\u001b[1;33m]\u001b[0m\u001b[1;33m\u001b[0m\u001b[0m\n\u001b[1;32m---> 15\u001b[1;33m         \u001b[0m_\u001b[0m\u001b[1;33m,\u001b[0m \u001b[0mc\u001b[0m \u001b[1;33m=\u001b[0m \u001b[0msess\u001b[0m\u001b[1;33m.\u001b[0m\u001b[0mrun\u001b[0m\u001b[1;33m(\u001b[0m\u001b[1;33m[\u001b[0m\u001b[0mtrain\u001b[0m\u001b[1;33m,\u001b[0m \u001b[0mcost\u001b[0m\u001b[1;33m]\u001b[0m\u001b[1;33m,\u001b[0m \u001b[1;33m{\u001b[0m\u001b[0mdata_x\u001b[0m\u001b[1;33m:\u001b[0m \u001b[0minp\u001b[0m\u001b[1;33m,\u001b[0m \u001b[0mtarget\u001b[0m\u001b[1;33m:\u001b[0m \u001b[0mout\u001b[0m\u001b[1;33m}\u001b[0m\u001b[1;33m)\u001b[0m\u001b[1;33m\u001b[0m\u001b[0m\n\u001b[0m\u001b[0;32m     16\u001b[0m         \u001b[0mcc\u001b[0m \u001b[1;33m+=\u001b[0m \u001b[0mc\u001b[0m\u001b[1;33m\u001b[0m\u001b[0m\n\u001b[0;32m     17\u001b[0m     \u001b[0mtrain_loss\u001b[0m\u001b[1;33m.\u001b[0m\u001b[0mappend\u001b[0m\u001b[1;33m(\u001b[0m\u001b[0mcc\u001b[0m\u001b[1;33m/\u001b[0m\u001b[0mno_of_tr_batches\u001b[0m\u001b[1;33m)\u001b[0m\u001b[1;33m\u001b[0m\u001b[0m\n",
      "\u001b[1;32m~\\Anaconda3\\lib\\site-packages\\tensorflow\\python\\client\\session.py\u001b[0m in \u001b[0;36mrun\u001b[1;34m(self, fetches, feed_dict, options, run_metadata)\u001b[0m\n\u001b[0;32m    898\u001b[0m     \u001b[1;32mtry\u001b[0m\u001b[1;33m:\u001b[0m\u001b[1;33m\u001b[0m\u001b[0m\n\u001b[0;32m    899\u001b[0m       result = self._run(None, fetches, feed_dict, options_ptr,\n\u001b[1;32m--> 900\u001b[1;33m                          run_metadata_ptr)\n\u001b[0m\u001b[0;32m    901\u001b[0m       \u001b[1;32mif\u001b[0m \u001b[0mrun_metadata\u001b[0m\u001b[1;33m:\u001b[0m\u001b[1;33m\u001b[0m\u001b[0m\n\u001b[0;32m    902\u001b[0m         \u001b[0mproto_data\u001b[0m \u001b[1;33m=\u001b[0m \u001b[0mtf_session\u001b[0m\u001b[1;33m.\u001b[0m\u001b[0mTF_GetBuffer\u001b[0m\u001b[1;33m(\u001b[0m\u001b[0mrun_metadata_ptr\u001b[0m\u001b[1;33m)\u001b[0m\u001b[1;33m\u001b[0m\u001b[0m\n",
      "\u001b[1;32m~\\Anaconda3\\lib\\site-packages\\tensorflow\\python\\client\\session.py\u001b[0m in \u001b[0;36m_run\u001b[1;34m(self, handle, fetches, feed_dict, options, run_metadata)\u001b[0m\n\u001b[0;32m   1133\u001b[0m     \u001b[1;32mif\u001b[0m \u001b[0mfinal_fetches\u001b[0m \u001b[1;32mor\u001b[0m \u001b[0mfinal_targets\u001b[0m \u001b[1;32mor\u001b[0m \u001b[1;33m(\u001b[0m\u001b[0mhandle\u001b[0m \u001b[1;32mand\u001b[0m \u001b[0mfeed_dict_tensor\u001b[0m\u001b[1;33m)\u001b[0m\u001b[1;33m:\u001b[0m\u001b[1;33m\u001b[0m\u001b[0m\n\u001b[0;32m   1134\u001b[0m       results = self._do_run(handle, final_targets, final_fetches,\n\u001b[1;32m-> 1135\u001b[1;33m                              feed_dict_tensor, options, run_metadata)\n\u001b[0m\u001b[0;32m   1136\u001b[0m     \u001b[1;32melse\u001b[0m\u001b[1;33m:\u001b[0m\u001b[1;33m\u001b[0m\u001b[0m\n\u001b[0;32m   1137\u001b[0m       \u001b[0mresults\u001b[0m \u001b[1;33m=\u001b[0m \u001b[1;33m[\u001b[0m\u001b[1;33m]\u001b[0m\u001b[1;33m\u001b[0m\u001b[0m\n",
      "\u001b[1;32m~\\Anaconda3\\lib\\site-packages\\tensorflow\\python\\client\\session.py\u001b[0m in \u001b[0;36m_do_run\u001b[1;34m(self, handle, target_list, fetch_list, feed_dict, options, run_metadata)\u001b[0m\n\u001b[0;32m   1314\u001b[0m     \u001b[1;32mif\u001b[0m \u001b[0mhandle\u001b[0m \u001b[1;32mis\u001b[0m \u001b[1;32mNone\u001b[0m\u001b[1;33m:\u001b[0m\u001b[1;33m\u001b[0m\u001b[0m\n\u001b[0;32m   1315\u001b[0m       return self._do_call(_run_fn, feeds, fetches, targets, options,\n\u001b[1;32m-> 1316\u001b[1;33m                            run_metadata)\n\u001b[0m\u001b[0;32m   1317\u001b[0m     \u001b[1;32melse\u001b[0m\u001b[1;33m:\u001b[0m\u001b[1;33m\u001b[0m\u001b[0m\n\u001b[0;32m   1318\u001b[0m       \u001b[1;32mreturn\u001b[0m \u001b[0mself\u001b[0m\u001b[1;33m.\u001b[0m\u001b[0m_do_call\u001b[0m\u001b[1;33m(\u001b[0m\u001b[0m_prun_fn\u001b[0m\u001b[1;33m,\u001b[0m \u001b[0mhandle\u001b[0m\u001b[1;33m,\u001b[0m \u001b[0mfeeds\u001b[0m\u001b[1;33m,\u001b[0m \u001b[0mfetches\u001b[0m\u001b[1;33m)\u001b[0m\u001b[1;33m\u001b[0m\u001b[0m\n",
      "\u001b[1;32m~\\Anaconda3\\lib\\site-packages\\tensorflow\\python\\client\\session.py\u001b[0m in \u001b[0;36m_do_call\u001b[1;34m(self, fn, *args)\u001b[0m\n\u001b[0;32m   1320\u001b[0m   \u001b[1;32mdef\u001b[0m \u001b[0m_do_call\u001b[0m\u001b[1;33m(\u001b[0m\u001b[0mself\u001b[0m\u001b[1;33m,\u001b[0m \u001b[0mfn\u001b[0m\u001b[1;33m,\u001b[0m \u001b[1;33m*\u001b[0m\u001b[0margs\u001b[0m\u001b[1;33m)\u001b[0m\u001b[1;33m:\u001b[0m\u001b[1;33m\u001b[0m\u001b[0m\n\u001b[0;32m   1321\u001b[0m     \u001b[1;32mtry\u001b[0m\u001b[1;33m:\u001b[0m\u001b[1;33m\u001b[0m\u001b[0m\n\u001b[1;32m-> 1322\u001b[1;33m       \u001b[1;32mreturn\u001b[0m \u001b[0mfn\u001b[0m\u001b[1;33m(\u001b[0m\u001b[1;33m*\u001b[0m\u001b[0margs\u001b[0m\u001b[1;33m)\u001b[0m\u001b[1;33m\u001b[0m\u001b[0m\n\u001b[0m\u001b[0;32m   1323\u001b[0m     \u001b[1;32mexcept\u001b[0m \u001b[0merrors\u001b[0m\u001b[1;33m.\u001b[0m\u001b[0mOpError\u001b[0m \u001b[1;32mas\u001b[0m \u001b[0me\u001b[0m\u001b[1;33m:\u001b[0m\u001b[1;33m\u001b[0m\u001b[0m\n\u001b[0;32m   1324\u001b[0m       \u001b[0mmessage\u001b[0m \u001b[1;33m=\u001b[0m \u001b[0mcompat\u001b[0m\u001b[1;33m.\u001b[0m\u001b[0mas_text\u001b[0m\u001b[1;33m(\u001b[0m\u001b[0me\u001b[0m\u001b[1;33m.\u001b[0m\u001b[0mmessage\u001b[0m\u001b[1;33m)\u001b[0m\u001b[1;33m\u001b[0m\u001b[0m\n",
      "\u001b[1;32m~\\Anaconda3\\lib\\site-packages\\tensorflow\\python\\client\\session.py\u001b[0m in \u001b[0;36m_run_fn\u001b[1;34m(feed_dict, fetch_list, target_list, options, run_metadata)\u001b[0m\n\u001b[0;32m   1305\u001b[0m       \u001b[0mself\u001b[0m\u001b[1;33m.\u001b[0m\u001b[0m_extend_graph\u001b[0m\u001b[1;33m(\u001b[0m\u001b[1;33m)\u001b[0m\u001b[1;33m\u001b[0m\u001b[0m\n\u001b[0;32m   1306\u001b[0m       return self._call_tf_sessionrun(\n\u001b[1;32m-> 1307\u001b[1;33m           options, feed_dict, fetch_list, target_list, run_metadata)\n\u001b[0m\u001b[0;32m   1308\u001b[0m \u001b[1;33m\u001b[0m\u001b[0m\n\u001b[0;32m   1309\u001b[0m     \u001b[1;32mdef\u001b[0m \u001b[0m_prun_fn\u001b[0m\u001b[1;33m(\u001b[0m\u001b[0mhandle\u001b[0m\u001b[1;33m,\u001b[0m \u001b[0mfeed_dict\u001b[0m\u001b[1;33m,\u001b[0m \u001b[0mfetch_list\u001b[0m\u001b[1;33m)\u001b[0m\u001b[1;33m:\u001b[0m\u001b[1;33m\u001b[0m\u001b[0m\n",
      "\u001b[1;32m~\\Anaconda3\\lib\\site-packages\\tensorflow\\python\\client\\session.py\u001b[0m in \u001b[0;36m_call_tf_sessionrun\u001b[1;34m(self, options, feed_dict, fetch_list, target_list, run_metadata)\u001b[0m\n\u001b[0;32m   1407\u001b[0m       return tf_session.TF_SessionRun_wrapper(\n\u001b[0;32m   1408\u001b[0m           \u001b[0mself\u001b[0m\u001b[1;33m.\u001b[0m\u001b[0m_session\u001b[0m\u001b[1;33m,\u001b[0m \u001b[0moptions\u001b[0m\u001b[1;33m,\u001b[0m \u001b[0mfeed_dict\u001b[0m\u001b[1;33m,\u001b[0m \u001b[0mfetch_list\u001b[0m\u001b[1;33m,\u001b[0m \u001b[0mtarget_list\u001b[0m\u001b[1;33m,\u001b[0m\u001b[1;33m\u001b[0m\u001b[0m\n\u001b[1;32m-> 1409\u001b[1;33m           run_metadata)\n\u001b[0m\u001b[0;32m   1410\u001b[0m     \u001b[1;32melse\u001b[0m\u001b[1;33m:\u001b[0m\u001b[1;33m\u001b[0m\u001b[0m\n\u001b[0;32m   1411\u001b[0m       \u001b[1;32mwith\u001b[0m \u001b[0merrors\u001b[0m\u001b[1;33m.\u001b[0m\u001b[0mraise_exception_on_not_ok_status\u001b[0m\u001b[1;33m(\u001b[0m\u001b[1;33m)\u001b[0m \u001b[1;32mas\u001b[0m \u001b[0mstatus\u001b[0m\u001b[1;33m:\u001b[0m\u001b[1;33m\u001b[0m\u001b[0m\n",
      "\u001b[1;31mKeyboardInterrupt\u001b[0m: "
     ]
    }
   ],
   "source": [
    "fig, ax = plt.subplots(1,1)\n",
    "plt_dynamic([1,2], [1,2], [1,3], ax)\n",
    "\n",
    "sess = tf.Session()\n",
    "sess.run(tf.global_variables_initializer())\n",
    "\n",
    "for i in range(config['epoch']):\n",
    "    print('epoch:',i+1)\n",
    "    time.sleep(1)\n",
    "    cc = 0\n",
    "    # for training data\n",
    "    for j in tqdm(range(no_of_tr_batches), total=no_of_tr_batches):\n",
    "        inp = X_train[j*config['batch_size']:(j+1)*config['batch_size']]\n",
    "        out = y_train[j*config['batch_size']:(j+1)*config['batch_size']]\n",
    "        _, c = sess.run([train, cost], {data_x: inp, target: out})\n",
    "        cc += c\n",
    "    train_loss.append(cc/no_of_tr_batches)\n",
    "    \n",
    "    # for validation data\n",
    "    cc = 0\n",
    "    for j in tqdm(range(no_of_ts_batches), total=no_of_ts_batches):\n",
    "        inp = X_test[j*config['batch_size']:(j+1)*config['batch_size']]\n",
    "        out = y_test[j*config['batch_size']:(j+1)*config['batch_size']]\n",
    "        c = sess.run(cost, {data_x: inp, target: out})\n",
    "        cc += c\n",
    "    test_loss.append(cc/no_of_ts_batches)\n",
    "    \n",
    "    if i%5 == 0:\n",
    "        print('Train loss:', train_loss[-1])\n",
    "        print('Validation loss:', test_loss[-1])\n",
    "        plt_dynamic(range(i+1), test_loss, train_loss, ax)\n",
    "    else:\n",
    "        plt_dynamic(range(i+1), test_loss, train_loss, ax)"
   ]
  },
  {
   "cell_type": "code",
   "execution_count": null,
   "metadata": {},
   "outputs": [],
   "source": []
  },
  {
   "cell_type": "code",
   "execution_count": null,
   "metadata": {},
   "outputs": [],
   "source": []
  }
 ],
 "metadata": {
  "kernelspec": {
   "display_name": "Python 3",
   "language": "python",
   "name": "python3"
  },
  "language_info": {
   "codemirror_mode": {
    "name": "ipython",
    "version": 3
   },
   "file_extension": ".py",
   "mimetype": "text/x-python",
   "name": "python",
   "nbconvert_exporter": "python",
   "pygments_lexer": "ipython3",
   "version": "3.6.6"
  }
 },
 "nbformat": 4,
 "nbformat_minor": 2
}
