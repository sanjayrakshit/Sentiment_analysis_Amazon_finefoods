{
 "cells": [
  {
   "cell_type": "code",
   "execution_count": 1,
   "metadata": {},
   "outputs": [
    {
     "name": "stderr",
     "output_type": "stream",
     "text": [
      "Using TensorFlow backend.\n"
     ]
    }
   ],
   "source": [
    "import pandas as pd\n",
    "import string\n",
    "from random import random\n",
    "import re\n",
    "from collections import Counter\n",
    "from bs4 import BeautifulSoup\n",
    "import json\n",
    "from sklearn.utils import class_weight\n",
    "import numpy as np\n",
    "from keras.models import Sequential\n",
    "from keras.layers import LSTM, Activation, Dropout, Dense\n",
    "from keras.layers.embeddings import Embedding\n",
    "from keras.preprocessing import sequence\n",
    "from keras.optimizers import Adam\n",
    "from keras.losses import binary_crossentropy\n",
    "from keras.metrics import binary_accuracy"
   ]
  },
  {
   "cell_type": "code",
   "execution_count": 2,
   "metadata": {},
   "outputs": [],
   "source": [
    "import matplotlib.pyplot as plt\n",
    "\n",
    "def plt_dynamic(x, y, y_1, ax, ticks,title, colors=['b']):\n",
    "    ax.plot(x, y, 'b', label=\"Train Loss\")\n",
    "    ax.plot(x, y_1, 'r', label=\"Test Loss\")\n",
    "    if len(x)==1:\n",
    "        plt.legend()\n",
    "        plt.title(title)\n",
    "    plt.yticks(ticks)\n",
    "    fig.canvas.draw()"
   ]
  },
  {
   "cell_type": "code",
   "execution_count": 3,
   "metadata": {},
   "outputs": [],
   "source": [
    "data = pd.read_csv(\"./Reviews.csv\").fillna(\"\")"
   ]
  },
  {
   "cell_type": "code",
   "execution_count": 4,
   "metadata": {},
   "outputs": [
    {
     "name": "stdout",
     "output_type": "stream",
     "text": [
      "Index(['Id', 'ProductId', 'UserId', 'ProfileName', 'HelpfulnessNumerator',\n",
      "       'HelpfulnessDenominator', 'Score', 'Time', 'Summary', 'Text'],\n",
      "      dtype='object')\n"
     ]
    }
   ],
   "source": [
    "print(data.columns)"
   ]
  },
  {
   "cell_type": "code",
   "execution_count": 5,
   "metadata": {},
   "outputs": [
    {
     "name": "stdout",
     "output_type": "stream",
     "text": [
      "Number of duplicates: 172145\n",
      "Size of data : (396309, 10)\n"
     ]
    }
   ],
   "source": [
    "imp_cols = set(data.columns)-{'Id','ProductId'}\n",
    "print ('Number of duplicates:',data.duplicated(subset=imp_cols).sum())\n",
    "data = data.drop_duplicates(subset=imp_cols)\n",
    "print(\"Size of data : {}\".format(data.shape))"
   ]
  },
  {
   "cell_type": "code",
   "execution_count": 6,
   "metadata": {},
   "outputs": [],
   "source": [
    "full_text = []\n",
    "for s, t in zip(list(data[\"Summary\"]), list(data[\"Text\"])):\n",
    "    temp = BeautifulSoup(\"{} {}\".format(s,t).lower(), \"lxml\").getText()\n",
    "    for punctuation in string.punctuation:\n",
    "        if \"\\'\" != punctuation:\n",
    "            temp = temp.replace(punctuation, \" {} \".format(punctuation))\n",
    "    full_text.append(\" \".join(temp.split()))   "
   ]
  },
  {
   "cell_type": "code",
   "execution_count": 7,
   "metadata": {},
   "outputs": [
    {
     "data": {
      "text/plain": [
       "'good quality dog food i have bought several of the vitality canned dog food products and have found them all to be of good quality . the product looks more like a stew than a processed meat and it smells better . my labrador is finicky and she appreciates this product better than most .'"
      ]
     },
     "execution_count": 7,
     "metadata": {},
     "output_type": "execute_result"
    }
   ],
   "source": [
    "full_text[0]"
   ]
  },
  {
   "cell_type": "code",
   "execution_count": 8,
   "metadata": {},
   "outputs": [],
   "source": [
    "vocab = list(Counter(\" \".join(full_text).split()).items())\n",
    "\n",
    "vocab = sorted(vocab, reverse=True, key=lambda x:x[1])"
   ]
  },
  {
   "cell_type": "code",
   "execution_count": 9,
   "metadata": {},
   "outputs": [],
   "source": [
    "top_words = 5000\n",
    "req_vocab = vocab[:top_words]"
   ]
  },
  {
   "cell_type": "code",
   "execution_count": 10,
   "metadata": {},
   "outputs": [],
   "source": [
    "req_vocab = {item[0]:index+1 for index, item in enumerate(req_vocab)}"
   ]
  },
  {
   "cell_type": "code",
   "execution_count": 11,
   "metadata": {},
   "outputs": [],
   "source": [
    "# lets save the dictionary \n",
    "with open(\"required_vocabulary.txt\", \"w\", encoding=\"utf8\") as f:\n",
    "    f.write(json.dumps(req_vocab, indent=4, sort_keys=True))"
   ]
  },
  {
   "cell_type": "code",
   "execution_count": 12,
   "metadata": {},
   "outputs": [],
   "source": [
    "# change the words to integers \n",
    "\n",
    "full_text_int = [[req_vocab[word] for word in reveiw.split() if word in req_vocab.keys()]\\\n",
    "             for reveiw in full_text]"
   ]
  },
  {
   "cell_type": "code",
   "execution_count": 13,
   "metadata": {},
   "outputs": [
    {
     "name": "stdout",
     "output_type": "stream",
     "text": [
      "good quality dog food i have bought several of the vitality canned dog food products and have found them all to be of good quality . the product looks more like a stew than a processed meat and it smells better . my labrador is finicky and she appreciates this product better than most .\n",
      "287\n",
      "[30, 169, 120, 65, 4, 22, 135, 341, 9, 2, 567, 120, 65, 215, 5, 22, 123, 36, 47, 7, 37, 9, 30, 169, 1, 2, 43, 675, 54, 28, 6, 2658, 62, 6, 1185, 485, 5, 8, 663, 91, 1, 15, 10, 2160, 5, 127, 11, 43, 91, 62, 156, 1]\n",
      "52\n"
     ]
    }
   ],
   "source": [
    "# sanity check, the lengths will be different because we have take taken top \"top_words\"\n",
    "# for our model\n",
    "\n",
    "print(full_text[0])\n",
    "print(len(full_text[0]))\n",
    "print(full_text_int[0])\n",
    "print(len(full_text_int[0]))"
   ]
  },
  {
   "cell_type": "code",
   "execution_count": 14,
   "metadata": {},
   "outputs": [
    {
     "data": {
      "text/plain": [
       "'NOT FOUND!!'"
      ]
     },
     "execution_count": 14,
     "metadata": {},
     "output_type": "execute_result"
    }
   ],
   "source": [
    "# Here we can see that the word vitality is not found\n",
    "req_vocab.get(\"vitality\", \"NOT FOUND!!\")"
   ]
  },
  {
   "cell_type": "code",
   "execution_count": 15,
   "metadata": {},
   "outputs": [],
   "source": [
    "# now we will make the sequence lenght equal \n",
    "\n",
    "default_seq_len = 600\n",
    "full_text_int = sequence.pad_sequences(full_text_int, maxlen=default_seq_len)"
   ]
  },
  {
   "cell_type": "code",
   "execution_count": 16,
   "metadata": {},
   "outputs": [
    {
     "name": "stdout",
     "output_type": "stream",
     "text": [
      "Type of full_text_len : <class 'numpy.ndarray'>\n",
      "Type of full_text_len[0] : <class 'numpy.ndarray'>\n"
     ]
    }
   ],
   "source": [
    "print(f\"Type of full_text_len : {type(full_text_int)}\")\n",
    "print(f\"Type of full_text_len[0] : {type(full_text_int[0])}\")"
   ]
  },
  {
   "cell_type": "code",
   "execution_count": null,
   "metadata": {},
   "outputs": [],
   "source": []
  },
  {
   "cell_type": "code",
   "execution_count": 17,
   "metadata": {},
   "outputs": [],
   "source": [
    "# now we fill fix the labels\n",
    "labels = [1 if item>3 else 0 for item in list(data[\"Score\"].values)]"
   ]
  },
  {
   "cell_type": "code",
   "execution_count": 18,
   "metadata": {},
   "outputs": [],
   "source": [
    "# Now we would prepare train and test data\n",
    "whole_data = list(zip(full_text_int, labels))\n",
    "class_0 = []; class_1 = []\n",
    "for index, item in enumerate(whole_data):\n",
    "    if item[1] == 0:\n",
    "        class_0.append(item)\n",
    "    else:\n",
    "        class_1.append(item)\n",
    "\n",
    "XY_train = []; XY_test = []\n",
    "XY_train.extend(class_0[ : int(len(class_0)*.8)])\n",
    "XY_train.extend(class_1[ : int(len(class_1)*.8)])\n",
    "XY_test.extend(class_0[int(len(class_0)*.8) : ])\n",
    "XY_test.extend(class_1[int(len(class_1)*.8) : ])\n",
    "\n",
    "X_train = np.array([np.array(item[0]) for item in XY_train])\n",
    "y_train = np.array([item[1] for item in XY_train])\n",
    "X_test = np.array([np.array(item [0]) for item in XY_test])\n",
    "y_test = np.array([item[1] for item in XY_test])"
   ]
  },
  {
   "cell_type": "code",
   "execution_count": 19,
   "metadata": {},
   "outputs": [
    {
     "data": {
      "text/plain": [
       "(numpy.ndarray, numpy.ndarray)"
      ]
     },
     "execution_count": 19,
     "metadata": {},
     "output_type": "execute_result"
    }
   ],
   "source": [
    "type(X_train), type(X_train[0])"
   ]
  },
  {
   "cell_type": "code",
   "execution_count": 20,
   "metadata": {},
   "outputs": [],
   "source": [
    "cw = class_weight.compute_class_weight(\"balanced\", np.array([0, 1]), y_train)"
   ]
  },
  {
   "cell_type": "code",
   "execution_count": 21,
   "metadata": {},
   "outputs": [
    {
     "data": {
      "text/plain": [
       "array([2.26157731, 0.64191827])"
      ]
     },
     "execution_count": 21,
     "metadata": {},
     "output_type": "execute_result"
    }
   ],
   "source": [
    "cw"
   ]
  },
  {
   "cell_type": "markdown",
   "metadata": {},
   "source": [
    "# Model"
   ]
  },
  {
   "cell_type": "code",
   "execution_count": 22,
   "metadata": {},
   "outputs": [],
   "source": [
    "embedding_size = 32"
   ]
  },
  {
   "cell_type": "code",
   "execution_count": 23,
   "metadata": {},
   "outputs": [],
   "source": [
    "model = Sequential()\n",
    "\n",
    "model.add(Embedding(top_words+1, embedding_size, input_length=default_seq_len))\n",
    "\n",
    "model.add(LSTM(100, return_sequences=True))\n",
    "model.add(Dropout(.2))\n",
    "\n",
    "model.add(LSTM(100))\n",
    "model.add(Dropout(.2))\n",
    "\n",
    "model.add(Dense(1))\n",
    "model.add(Activation(\"sigmoid\"))"
   ]
  },
  {
   "cell_type": "code",
   "execution_count": 24,
   "metadata": {
    "scrolled": false
   },
   "outputs": [
    {
     "name": "stdout",
     "output_type": "stream",
     "text": [
      "_________________________________________________________________\n",
      "Layer (type)                 Output Shape              Param #   \n",
      "=================================================================\n",
      "embedding_1 (Embedding)      (None, 600, 32)           160032    \n",
      "_________________________________________________________________\n",
      "lstm_1 (LSTM)                (None, 600, 100)          53200     \n",
      "_________________________________________________________________\n",
      "dropout_1 (Dropout)          (None, 600, 100)          0         \n",
      "_________________________________________________________________\n",
      "lstm_2 (LSTM)                (None, 100)               80400     \n",
      "_________________________________________________________________\n",
      "dropout_2 (Dropout)          (None, 100)               0         \n",
      "_________________________________________________________________\n",
      "dense_1 (Dense)              (None, 1)                 101       \n",
      "_________________________________________________________________\n",
      "activation_1 (Activation)    (None, 1)                 0         \n",
      "=================================================================\n",
      "Total params: 293,733\n",
      "Trainable params: 293,733\n",
      "Non-trainable params: 0\n",
      "_________________________________________________________________\n",
      "None\n"
     ]
    }
   ],
   "source": [
    "print(model.summary())"
   ]
  },
  {
   "cell_type": "code",
   "execution_count": null,
   "metadata": {},
   "outputs": [],
   "source": [
    "adam = Adam(lr=3e-4)\n",
    "\n",
    "model.compile(loss=binary_crossentropy, optimizer=adam, metrics=[binary_accuracy])"
   ]
  },
  {
   "cell_type": "code",
   "execution_count": null,
   "metadata": {},
   "outputs": [
    {
     "name": "stdout",
     "output_type": "stream",
     "text": [
      "Epoch 1/10\n",
      "317046/317046 [==============================] - 8117s 26ms/step - loss: 0.2635 - binary_accuracy: 0.8941\n",
      "Epoch 2/10\n",
      "317046/317046 [==============================] - 7995s 25ms/step - loss: 0.3196 - binary_accuracy: 0.8652\n",
      "Epoch 3/10\n",
      "317046/317046 [==============================] - 8042s 25ms/step - loss: 0.2058 - binary_accuracy: 0.9183\n",
      "Epoch 4/10\n",
      "231488/317046 [====================>.........] - ETA: 36:13 - loss: 0.1883 - binary_accuracy: 0.9256"
     ]
    }
   ],
   "source": [
    "history = model.fit(X_train, y_train, batch_size=64, epochs=10)"
   ]
  },
  {
   "cell_type": "code",
   "execution_count": null,
   "metadata": {},
   "outputs": [],
   "source": [
    "\n",
    "score = model.evaluate(X_test, y_test, verbose=0)\n",
    "\n",
    "print(f\"Test loss : {score[0]}\")\n",
    "print(f\"Test acc : {score[1]}\")\n",
    "\n",
    "fig, ax = plt.subplots(1, 1)\n",
    "ax.set_xlabel(\"epochs\"); ax.set_ylabel(\"Binary accuracy\")\n",
    "plt_dynamic(list(range(1, 11)), history.history[\"val_loss\"], history.history[\"loss\"], ax)"
   ]
  }
 ],
 "metadata": {
  "kernelspec": {
   "display_name": "Python 3",
   "language": "python",
   "name": "python3"
  },
  "language_info": {
   "codemirror_mode": {
    "name": "ipython",
    "version": 3
   },
   "file_extension": ".py",
   "mimetype": "text/x-python",
   "name": "python",
   "nbconvert_exporter": "python",
   "pygments_lexer": "ipython3",
   "version": "3.6.4"
  }
 },
 "nbformat": 4,
 "nbformat_minor": 2
}
